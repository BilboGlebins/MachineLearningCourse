{
 "cells": [
  {
   "cell_type": "code",
   "execution_count": 1,
   "id": "c5345b40",
   "metadata": {},
   "outputs": [
    {
     "ename": "ModuleNotFoundError",
     "evalue": "No module named 'validation'",
     "output_type": "error",
     "traceback": [
      "\u001b[1;31m---------------------------------------------------------------------------\u001b[0m",
      "\u001b[1;31mModuleNotFoundError\u001b[0m                       Traceback (most recent call last)",
      "Input \u001b[1;32mIn [1]\u001b[0m, in \u001b[0;36m<cell line: 7>\u001b[1;34m()\u001b[0m\n\u001b[0;32m      5\u001b[0m \u001b[38;5;28;01mimport\u001b[39;00m \u001b[38;5;21;01mnumpy\u001b[39;00m \u001b[38;5;28;01mas\u001b[39;00m \u001b[38;5;21;01mnp\u001b[39;00m\n\u001b[0;32m      6\u001b[0m \u001b[38;5;28;01mimport\u001b[39;00m \u001b[38;5;21;01mstring\u001b[39;00m\n\u001b[1;32m----> 7\u001b[0m \u001b[38;5;28;01mimport\u001b[39;00m \u001b[38;5;21;01mvalidation\u001b[39;00m\n",
      "\u001b[1;31mModuleNotFoundError\u001b[0m: No module named 'validation'"
     ]
    }
   ],
   "source": [
    "import random\n",
    "import re\n",
    "import collections\n",
    "import pandas as pd\n",
    "import numpy as np\n",
    "import string\n",
    "import validation"
   ]
  },
  {
   "cell_type": "code",
   "execution_count": 1,
   "id": "069e1b9c",
   "metadata": {},
   "outputs": [
    {
     "name": "stdout",
     "output_type": "stream",
     "text": [
      "Введите 1 число: 1\n",
      "Введите 2 число: 5\n",
      "Введите 3 число: 9\n",
      "0\n"
     ]
    }
   ],
   "source": [
    "#Task1\n",
    "\n",
    "num1 = int(input('Введите 1 число: '))\n",
    "num2 = int(input('Введите 2 число: '))\n",
    "num3 = int(input('Введите 3 число: '))\n",
    "\n",
    "if num1 == num2 == num3:\n",
    "    print('3')\n",
    "elif num1 == num2 or num1 == num3 or num2 == num3:\n",
    "    print('2')\n",
    "elif num1 != num2 != num3:\n",
    "    print('0')"
   ]
  },
  {
   "cell_type": "code",
   "execution_count": 39,
   "id": "75f9d253",
   "metadata": {},
   "outputs": [
    {
     "name": "stdout",
     "output_type": "stream",
     "text": [
      "Сколько чисел в массиве? 10\n",
      "[1, 0, 0, 1, 1, 0, 0, 0, 1, 0]\n",
      "6\n"
     ]
    }
   ],
   "source": [
    "#Task-\n",
    "\n",
    "count = 0\n",
    "n = int(input('Сколько элементов в массиве? '))\n",
    "mass = [random.randint(0,1) for i in range(n)]\n",
    "print(mass)\n",
    "\n",
    "for item in mass:\n",
    "    if item == 0:\n",
    "        count += 1\n",
    "print(count)"
   ]
  },
  {
   "cell_type": "code",
   "execution_count": 31,
   "id": "5361611c",
   "metadata": {},
   "outputs": [
    {
     "name": "stdout",
     "output_type": "stream",
     "text": [
      "          1         \n",
      "          21        \n",
      "          321       \n",
      "          4321      \n",
      "          54321     \n",
      "          654321    \n",
      "          7654321   \n",
      "          87654321  \n",
      "          987654321 \n",
      "          10987654321\n",
      "12345678901          \n",
      " 123456789          \n",
      "  12345678          \n",
      "   1234567          \n",
      "    123456          \n",
      "     12345          \n",
      "      1234          \n",
      "       123          \n",
      "        12          \n",
      "         1          \n"
     ]
    }
   ],
   "source": [
    "#Task2\n",
    "import random\n",
    "\n",
    "fig = var= ''\n",
    "n = random.randint(0,9)\n",
    "sup = ' '\n",
    "for i in range(n):\n",
    "    var=str(i+1)+var\n",
    "    if i < n-1:\n",
    "        fig+=(sup*n)+var+sup*(n-i-1)+'\\n'\n",
    "    else:\n",
    "        fig+=(sup*n)+var+sup*(n-i-1)\n",
    "print(fig)\n",
    "print(fig[::-1])"
   ]
  },
  {
   "cell_type": "code",
   "execution_count": 9,
   "id": "cc5c4234",
   "metadata": {},
   "outputs": [
    {
     "name": "stdout",
     "output_type": "stream",
     "text": [
      "Введите пароль: mjf4*VFMX354kDS\n",
      "Пароль надежный\n"
     ]
    }
   ],
   "source": [
    "#Task3\n",
    "\n",
    "password = input('Введите пароль: ')\n",
    "\n",
    "spec = not set(\"!@#№;$%:^?&*().,\").isdisjoint(password)\n",
    "up = password.lower() != password\n",
    "low = password.upper() != password\n",
    "num = password.isdecimal\n",
    " \n",
    "if len(password) < 12:\n",
    "    print('Пароль должен быть не менее 12 символов!')\n",
    "elif spec == False:\n",
    "    print('Пароль должен содержать спец. символ')\n",
    "elif up == False:\n",
    "    print('Пароль должен содержать заглавную букву')\n",
    "elif low == False:\n",
    "    print('Пароль должен содержать строчную букву')\n",
    "elif num == False:\n",
    "    print('Пароль должен содержать цифру')\n",
    "else:\n",
    "    print('Пароль надежный')"
   ]
  },
  {
   "cell_type": "code",
   "execution_count": 10,
   "id": "3f7f8887",
   "metadata": {},
   "outputs": [
    {
     "name": "stdout",
     "output_type": "stream",
     "text": [
      "[1, 10, 7, 6, 2, 6, 5, 5, 8, 5]\n",
      "[10, 6, 8]\n"
     ]
    }
   ],
   "source": [
    "#Task4\n",
    "import random\n",
    "\n",
    "mass = [random.randint(0, 10) for i in range(10)]\n",
    "print(mass)\n",
    "newmass = []\n",
    "\n",
    "for i in range(len(mass)-1):\n",
    "    if mass[i] < mass[i+1]:\n",
    "        newmass.append(mass[i+1])\n",
    "\n",
    "print(newmass)"
   ]
  },
  {
   "cell_type": "code",
   "execution_count": 33,
   "id": "3b4ee02d",
   "metadata": {},
   "outputs": [
    {
     "name": "stdout",
     "output_type": "stream",
     "text": [
      "{'мама': 0, 'мыла': 0, 'раму': 0}\n",
      "1\n"
     ]
    }
   ],
   "source": [
    "#Task5\n",
    "\n",
    "string_list = ['мама', 'мыла', 'раму', 'мыла']\n",
    "dict_sa = {x:0 for x in string_list}\n",
    "print(dict_sa)\n",
    "print(len(string_list) - len(dict_sa))"
   ]
  },
  {
   "cell_type": "code",
   "execution_count": 35,
   "id": "4995a647",
   "metadata": {
    "scrolled": true
   },
   "outputs": [
    {
     "name": "stdout",
     "output_type": "stream",
     "text": [
      "Первое множество чисел: {1, 2, 3}\n",
      "Второе множество чисел: {1, 2, 3, 4, 5}\n",
      "Множества являются подмножествами друг друга\n"
     ]
    }
   ],
   "source": [
    "#Task6\n",
    "\n",
    "one_set_number = {1,2,3}\n",
    "print(f'Первое множество чисел: {one_set_number}')\n",
    "two_set_number = {1,2,3,4,5}\n",
    "print(f'Второе множество чисел: {two_set_number}')\n",
    "\n",
    "if two_set_number.issuperset(one_set_number) and len(two_set_number)>len(one_set_number):\n",
    "    print('Множества являются подмножествами друг друга')"
   ]
  },
  {
   "cell_type": "code",
   "execution_count": 2,
   "id": "a852147d",
   "metadata": {},
   "outputs": [],
   "source": [
    "#Task7\n",
    "\n",
    "def decision_expression(exp):\n",
    "    res = eval(exp)\n",
    "    return(res)\n"
   ]
  },
  {
   "cell_type": "code",
   "execution_count": 3,
   "id": "e5cefa1d",
   "metadata": {},
   "outputs": [
    {
     "name": "stdout",
     "output_type": "stream",
     "text": [
      "10+15*75\n"
     ]
    },
    {
     "data": {
      "text/plain": [
       "1135"
      ]
     },
     "execution_count": 3,
     "metadata": {},
     "output_type": "execute_result"
    }
   ],
   "source": [
    "expression = input()\n",
    "decision_expression(expression)"
   ]
  },
  {
   "cell_type": "code",
   "execution_count": 41,
   "id": "d10530d1",
   "metadata": {},
   "outputs": [],
   "source": [
    "#Task8\n",
    "\n",
    "import pandas as pd\n",
    "\n",
    "def email_gen(list_of_names):\n",
    "    emails = []\n",
    "    for i in list_of_names:\n",
    "        letter = 1\n",
    "        while i[1] + '.' + i[0][0:letter] + '@company.io' in emails:\n",
    "            letter+=1\n",
    "        emails.append(i[1] + '.' + i[0][0:letter] + '@company.io')\n",
    "    return emails"
   ]
  },
  {
   "cell_type": "code",
   "execution_count": 42,
   "id": "13f25ddd",
   "metadata": {},
   "outputs": [
    {
     "name": "stdout",
     "output_type": "stream",
     "text": [
      "                            0             1             2         3  \\\n",
      "0        Abramov.I@company.io          Ivan       Abramov   7776514   \n",
      "1       Nikolaev.A@company.io        Alexey      Nikolaev   1348520   \n",
      "2         Shapar.M@company.io        Marina        Shapar   1111110   \n",
      "3       Vasilyev.D@company.io       Dmitriy      Vasilyev   0000000   \n",
      "4                                 Ekaterina        Ilyina             \n",
      "5      Grigoryan.A@company.io    Anastasiya     Grigoryan   1928421   \n",
      "6                                    Andrey       Fedorov  85212384   \n",
      "7       Lisitsyn.A@company.io        Alexey      Lisitsyn   1239532   \n",
      "8       Abramova.D@company.io        Dariya      Abramova   7163908   \n",
      "9                                  Alexandr     Evdokimov       482   \n",
      "10       Kostina.N@company.io      Nataliya       Kostina   9031433   \n",
      "11       Ermolin.N@company.io       Nikolay       Ermolin   8539233   \n",
      "12                                                                    \n",
      "13      Solovovo.V@company.io      Vladimir      Solovovo   4758395   \n",
      "14        Ivanov.V@company.io      Vladimir        Ivanov   4827594   \n",
      "15      Nikolaev.S@company.io        Sergey      Nikolaev   1294375   \n",
      "16        Ivanov.I@company.io          Ivan        Ivanov   8532354   \n",
      "17       Semenov.K@company.io    Konstantin       Semenov   8532286   \n",
      "18       Smirnov.G@company.io      Grigoriy       Smirnov   3249235   \n",
      "19                                  Vasiliy                 7123465   \n",
      "20        Lashko.A@company.io      Alexandr        Lashko   9548324   \n",
      "21         dwfef.s@company.io        sdfsdf         dwfef   9994532   \n",
      "22         Edger.O@company.io        Oksana         Edger   8548433   \n",
      "23    Bogomolova.O@company.io          Olga    Bogomolova   8953253   \n",
      "24        Strizh.E@company.io       Evgeniy        Strizh   1123313   \n",
      "25                                Valentina       Sergach  12345567   \n",
      "26      Volskaya.P@company.io        Polina      Volskaya   1394542   \n",
      "27       Malinin.F@company.io         Fedor       Malinin   9453223   \n",
      "28      Pahomova.O@company.io          Olga      Pahomova   8543231   \n",
      "29                                     ffff          ffff      ffff   \n",
      "30      Bogdanov.S@company.io        Stepan      Bogdanov   4564624   \n",
      "31       Smirnov.D@company.io       Dmitriy       Smirnov   9355r24   \n",
      "32   Kolokolkina.V@company.io       Valeria   Kolokolkina   12O4352   \n",
      "33       Sobolev.I@company.io          Ivan       Sobolev   2350223   \n",
      "34        Orlova.K@company.io      Kristina        Orlova   1342349   \n",
      "35       Ermolin.A@company.io      Alexandr       Ermolin   2345234   \n",
      "36  Vasilevskaya.E@company.io     Ekaterina  Vasilevskaya   9583573   \n",
      "37      Koroleva.T@company.io       Tatiana      Koroleva   8674532   \n",
      "38      Moskvina.E@company.io         Elena      Moskvina   7584294   \n",
      "39                                                          8954245   \n",
      "40         Sinev.M@company.io       Mikhail         Sinev   5964353   \n",
      "41       NO_NAME.N@company.io       NO_NAME       NO_NAME   2856735   \n",
      "42       Boshich.A@company.io    Anastasiya       Boshich   9654534   \n",
      "43     Kapustina.S@company.io      Svetlana     Kapustina   9476353   \n",
      "44      Nikolaev.B@company.io         Boris      Nikolaev   9583583   \n",
      "45       Mozgvin.A@company.io        Andrey       Mozgvin   8537572   \n",
      "46    Bogatyreva.O@company.io        Oksana    Bogatyreva   8743565   \n",
      "47     Nosatenko.K@company.io       Kseniya     Nosatenko   1234194   \n",
      "48       sfewrfw.f@company.io  fwefwgwgwfds       sfewrfw   9584356   \n",
      "49     Grigoriev.K@company.io    Konstantin     Grigoriev   1284575   \n",
      "\n",
      "                4  \n",
      "0          Moscow  \n",
      "1          Moscow  \n",
      "2          Moscow  \n",
      "3           Kazan  \n",
      "4   St.Petersburg  \n",
      "5    Ekaterinburg  \n",
      "6           Minsk  \n",
      "7            Tver  \n",
      "8          Moscow  \n",
      "9     Volokolamsk  \n",
      "10         Moscow  \n",
      "11  St.Petersburg  \n",
      "12                 \n",
      "13  St.Petersburg  \n",
      "14    Novosibirsk  \n",
      "15          Sarov  \n",
      "16          Kazan  \n",
      "17         Moscow  \n",
      "18    Kaliningrad  \n",
      "19         Moscow  \n",
      "20  St.Petersburg  \n",
      "21         Rostov  \n",
      "22       Kostroma  \n",
      "23         Moscow  \n",
      "24      Krasnodar  \n",
      "25  St.Petersburg  \n",
      "26       Vladimir  \n",
      "27         Moscow  \n",
      "28         Moscow  \n",
      "29          fffff  \n",
      "30  St.Petersburg  \n",
      "31          Kazan  \n",
      "32  St.Petersburg  \n",
      "33          Kirov  \n",
      "34        Talnakh  \n",
      "35       Mozhaysk  \n",
      "36         Moscow  \n",
      "37         Vidnoe  \n",
      "38         Moscow  \n",
      "39         Moscow  \n",
      "40  St.Petersburg  \n",
      "41    Kaliningrad  \n",
      "42           Omsk  \n",
      "43         Moscow  \n",
      "44         Moscow  \n",
      "45      Krasnodar  \n",
      "46  St.Petersburg  \n",
      "47      Yaroslavl  \n",
      "48          Pskov  \n",
      "49         Moscow  \n",
      "Кол-во записей: 50\n",
      "кол-во человек для которых сгенерирован email: 42\n"
     ]
    }
   ],
   "source": [
    "data = []\n",
    "list_of_names = []\n",
    "\n",
    "with open('./task8/task_file.txt', 'tr') as f:\n",
    "    f.readline()\n",
    "    for rn, r in enumerate(f):\n",
    "        row = r[:len(r)-1].split(', ')\n",
    "        if len(row[1])>1 and len(row[2])>1 and len(row[3]) == 7 and len(row[4])>1:\n",
    "            list_of_names.append([row[1],row[2]])\n",
    "        data.append(row)\n",
    "\n",
    "emails_list = email_gen(list_of_names)\n",
    "people_count = 0\n",
    "print(pd.DataFrame(data))\n",
    "\n",
    "print(f'Кол-во записей: {rn+1}\\nкол-во человек для которых сгенерирован email: {len(emails_list)}')\n",
    "\n",
    "with open('./task8/task_file.txt', 'tw+') as f:\n",
    "    print(\"EMAIL, NAME, LAST_NAME, TEL, CITY\",file=f)\n",
    "    for rn, r in enumerate(data):\n",
    "        row = r\n",
    "        if len(row[1])>1 and len(row[2])>1 and len(row[3]) == 7 and len(row[4])>1:\n",
    "            row[0] = emails_list[people_count]\n",
    "            people_count += 1\n",
    "        data[rn] = row\n",
    "        print(', '.join(map(str,data[rn])),file=f)"
   ]
  },
  {
   "cell_type": "code",
   "execution_count": 40,
   "id": "96f35133",
   "metadata": {},
   "outputs": [
    {
     "name": "stdout",
     "output_type": "stream",
     "text": [
      "EMAIL, NAME, LAST_NAME, TEL, CITY\n",
      "\n",
      "Abramov.I@company.io, Ivan, Abramov, 7776514, Moscow\n",
      "\n",
      "Nikolaev.A@company.io, Alexey, Nikolaev, 1348520, Moscow\n",
      "\n",
      "Shapar.M@company.io, Marina, Shapar, 1111110, Moscow\n",
      "\n",
      "Vasilyev.D@company.io, Dmitriy, Vasilyev, 0000000, Kazan\n",
      "\n",
      ", Ekaterina, Ilyina, , St.Petersburg\n",
      "\n",
      "Grigoryan.A@company.io, Anastasiya, Grigoryan, 1928421, Ekaterinburg\n",
      "\n",
      ", Andrey, Fedorov, 85212384, Minsk\n",
      "\n",
      "Lisitsyn.A@company.io, Alexey, Lisitsyn, 1239532, Tver\n",
      "\n",
      "Abramova.D@company.io, Dariya, Abramova, 7163908, Moscow\n",
      "\n",
      ", Alexandr, Evdokimov, 482, Volokolamsk\n",
      "\n",
      "Kostina.N@company.io, Nataliya, Kostina, 9031433, Moscow\n",
      "\n",
      "Ermolin.N@company.io, Nikolay, Ermolin, 8539233, St.Petersburg\n",
      "\n",
      ", , , , \n",
      "\n",
      "Solovovo.V@company.io, Vladimir, Solovovo, 4758395, St.Petersburg\n",
      "\n",
      "Ivanov.V@company.io, Vladimir, Ivanov, 4827594, Novosibirsk\n",
      "\n",
      "Nikolaev.S@company.io, Sergey, Nikolaev, 1294375, Sarov\n",
      "\n",
      "Ivanov.I@company.io, Ivan, Ivanov, 8532354, Kazan\n",
      "\n",
      "Semenov.K@company.io, Konstantin, Semenov, 8532286, Moscow\n",
      "\n",
      "Smirnov.G@company.io, Grigoriy, Smirnov, 3249235, Kaliningrad\n",
      "\n",
      ", Vasiliy, , 7123465, Moscow\n",
      "\n",
      "Lashko.A@company.io, Alexandr, Lashko, 9548324, St.Petersburg\n",
      "\n",
      "dwfef.s@company.io, sdfsdf, dwfef, 9994532, Rostov\n",
      "\n",
      "Edger.O@company.io, Oksana, Edger, 8548433, Kostroma\n",
      "\n",
      "Bogomolova.O@company.io, Olga, Bogomolova, 8953253, Moscow\n",
      "\n",
      "Strizh.E@company.io, Evgeniy, Strizh, 1123313, Krasnodar\n",
      "\n",
      ", Valentina, Sergach, 12345567, St.Petersburg\n",
      "\n",
      "Volskaya.P@company.io, Polina, Volskaya, 1394542, Vladimir\n",
      "\n",
      "Malinin.F@company.io, Fedor, Malinin, 9453223, Moscow\n",
      "\n",
      "Pahomova.O@company.io, Olga, Pahomova, 8543231, Moscow\n",
      "\n",
      ", ffff, ffff, ffff, fffff\n",
      "\n",
      "Bogdanov.S@company.io, Stepan, Bogdanov, 4564624, St.Petersburg\n",
      "\n",
      "Smirnov.D@company.io, Dmitriy, Smirnov, 9355r24, Kazan\n",
      "\n",
      "Kolokolkina.V@company.io, Valeria, Kolokolkina, 12O4352, St.Petersburg\n",
      "\n",
      "Sobolev.I@company.io, Ivan, Sobolev, 2350223, Kirov\n",
      "\n",
      "Orlova.K@company.io, Kristina, Orlova, 1342349, Talnakh\n",
      "\n",
      "Ermolin.A@company.io, Alexandr, Ermolin, 2345234, Mozhaysk\n",
      "\n",
      "Vasilevskaya.E@company.io, Ekaterina, Vasilevskaya, 9583573, Moscow\n",
      "\n",
      "Koroleva.T@company.io, Tatiana, Koroleva, 8674532, Vidnoe\n",
      "\n",
      "Moskvina.E@company.io, Elena, Moskvina, 7584294, Moscow\n",
      "\n",
      ", , , 8954245, Moscow\n",
      "\n",
      "Sinev.M@company.io, Mikhail, Sinev, 5964353, St.Petersburg\n",
      "\n",
      "NO_NAME.N@company.io, NO_NAME, NO_NAME, 2856735, Kaliningrad\n",
      "\n",
      "Boshich.A@company.io, Anastasiya, Boshich, 9654534, Omsk\n",
      "\n",
      "Kapustina.S@company.io, Svetlana, Kapustina, 9476353, Moscow\n",
      "\n",
      "Nikolaev.B@company.io, Boris, Nikolaev, 9583583, Moscow\n",
      "\n",
      "Mozgvin.A@company.io, Andrey, Mozgvin, 8537572, Krasnodar\n",
      "\n",
      "Bogatyreva.O@company.io, Oksana, Bogatyreva, 8743565, St.Petersburg\n",
      "\n",
      "Nosatenko.K@company.io, Kseniya, Nosatenko, 1234194, Yaroslavl\n",
      "\n",
      "sfewrfw.f@company.io, fwefwgwgwfds, sfewrfw, 9584356, Pskov\n",
      "\n",
      "Grigoriev.K@company.io, Konstantin, Grigoriev, 1284575, Moscow\n",
      "\n"
     ]
    }
   ],
   "source": [
    "with open('./task8/task_file.txt', 'r+') as f:\n",
    "    for i in f:\n",
    "        print(i)"
   ]
  },
  {
   "cell_type": "code",
   "execution_count": 47,
   "id": "e30d7263",
   "metadata": {},
   "outputs": [],
   "source": [
    "#Task9\n",
    "import string\n",
    "\n",
    "def valid_func(passw):\n",
    "    if len(passw) < 12:\n",
    "        return False\n",
    "    elif str(passw).isalpha():\n",
    "        return False\n",
    "    elif passw.islower():\n",
    "        return False\n",
    "    elif passw.isupper():\n",
    "        return False\n",
    "    elif set('!\"#$%&\\'()*+,-./:;<=>?@[\\]^_`{').isdisjoint(passw):\n",
    "        return False\n",
    "    else:\n",
    "        return True\n",
    "    return True"
   ]
  },
  {
   "cell_type": "code",
   "execution_count": 49,
   "id": "3eb7ce57",
   "metadata": {},
   "outputs": [
    {
     "name": "stdout",
     "output_type": "stream",
     "text": [
      "Надежный пароль: v+f^8G{ZK.dg\n"
     ]
    }
   ],
   "source": [
    "allowedChars = string.ascii_letters + string.digits + string.punctuation\n",
    "password = ''\n",
    "while (not valid_func(password)):\n",
    "    password = ''.join(random.choice(allowedChars) for _ in range(12))\n",
    "    rep = random.choice(password)\n",
    "    password.replace(rep, rep.upper(),1)\n",
    "print(f'Надежный пароль: {password}')"
   ]
  },
  {
   "cell_type": "code",
   "execution_count": 62,
   "id": "e4de216c",
   "metadata": {},
   "outputs": [],
   "source": [
    "#Task10\n",
    "\n",
    "def generate_pass():\n",
    "    allowedChars = string.ascii_letters + string.digits + string.punctuation\n",
    "    password = ''\n",
    "    while (not valid_func(password)):\n",
    "        password = ''.join(random.choice(allowedChars) for _ in range(12))\n",
    "        rep = random.choice(password)\n",
    "        password.replace(rep, rep.upper(),1)\n",
    "        while ', ' in password:\n",
    "            password.replace(', ', random.choice(allowedChars)+random.choice(allowedChars))\n",
    "    return password"
   ]
  },
  {
   "cell_type": "code",
   "execution_count": 65,
   "id": "07c211a6",
   "metadata": {},
   "outputs": [
    {
     "name": "stdout",
     "output_type": "stream",
     "text": [
      "42\n",
      "8\n"
     ]
    }
   ],
   "source": [
    "pattern = re.compile(r'^(, )+(?P<NAME>\\w+)(, )+(?P<LASTNAME>\\w+)(, )+\\w{7,7}(, )+\\w+')\n",
    "except_list, list_str = [], []\n",
    "with open('./tasktotal/task_file.txt', 'tr') as f:\n",
    "    f.readline()\n",
    "    for rn, r in enumerate(f):\n",
    "        if re.match(pattern, r):\n",
    "            list_str.append(r)\n",
    "        else: except_list.append(r)\n",
    "            \n",
    "print(len(list_str))\n",
    "print(len(except_list))\n",
    "            \n",
    "with open('./tasktotal/task_file.txt', 'tw+') as f:\n",
    "    print(\"EMAIL, PASSWORD, NAME, LAST_NAME, TEL, CITY\",file=f)\n",
    "    list_names = [[re.match(pattern, r).group('NAME'), re.match(pattern, r).group('LASTNAME')] for r in list_str]\n",
    "    emails = email_gen(list_names)\n",
    "    for rn, r in enumerate(list_str):\n",
    "        match = re.match(pattern, r)\n",
    "        if match:\n",
    "            out = emails[rn]+', '+ generate_pass()+match.group()\n",
    "            print(out, file=f)\n",
    "with open('./tasktotal/except_task_file.txt', 'tw+') as f:\n",
    "    print(\"EMAIL, NAME, LAST_NAME, TEL, CITY\",file=f)\n",
    "    for r in except_list:\n",
    "        print(r, file=f, end='')"
   ]
  },
  {
   "cell_type": "code",
   "execution_count": null,
   "id": "26cec89d",
   "metadata": {},
   "outputs": [],
   "source": []
  },
  {
   "cell_type": "code",
   "execution_count": null,
   "id": "0f0ce93c",
   "metadata": {},
   "outputs": [],
   "source": []
  },
  {
   "cell_type": "code",
   "execution_count": null,
   "id": "a235fdac",
   "metadata": {},
   "outputs": [],
   "source": []
  },
  {
   "cell_type": "code",
   "execution_count": null,
   "id": "12e6ba77",
   "metadata": {},
   "outputs": [],
   "source": []
  },
  {
   "cell_type": "code",
   "execution_count": null,
   "id": "8296332d",
   "metadata": {},
   "outputs": [],
   "source": []
  },
  {
   "cell_type": "code",
   "execution_count": null,
   "id": "94287d4f",
   "metadata": {},
   "outputs": [],
   "source": []
  },
  {
   "cell_type": "code",
   "execution_count": null,
   "id": "7b6a4a2b",
   "metadata": {},
   "outputs": [],
   "source": []
  },
  {
   "cell_type": "code",
   "execution_count": null,
   "id": "7d3b0179",
   "metadata": {},
   "outputs": [],
   "source": []
  },
  {
   "cell_type": "code",
   "execution_count": null,
   "id": "4616a1a5",
   "metadata": {},
   "outputs": [],
   "source": []
  },
  {
   "cell_type": "code",
   "execution_count": null,
   "id": "2fbd473d",
   "metadata": {},
   "outputs": [],
   "source": []
  },
  {
   "cell_type": "code",
   "execution_count": null,
   "id": "bbc48f2f",
   "metadata": {},
   "outputs": [],
   "source": []
  },
  {
   "cell_type": "code",
   "execution_count": null,
   "id": "e80f3c10",
   "metadata": {},
   "outputs": [],
   "source": []
  },
  {
   "cell_type": "code",
   "execution_count": null,
   "id": "46c97cea",
   "metadata": {},
   "outputs": [],
   "source": []
  },
  {
   "cell_type": "code",
   "execution_count": null,
   "id": "6d901d6f",
   "metadata": {},
   "outputs": [],
   "source": []
  },
  {
   "cell_type": "code",
   "execution_count": null,
   "id": "16b59341",
   "metadata": {},
   "outputs": [],
   "source": []
  },
  {
   "cell_type": "code",
   "execution_count": null,
   "id": "ef44332d",
   "metadata": {},
   "outputs": [],
   "source": []
  },
  {
   "cell_type": "code",
   "execution_count": null,
   "id": "2233c3c7",
   "metadata": {},
   "outputs": [],
   "source": []
  },
  {
   "cell_type": "code",
   "execution_count": null,
   "id": "96ba1385",
   "metadata": {},
   "outputs": [],
   "source": []
  }
 ],
 "metadata": {
  "kernelspec": {
   "display_name": "Python 3 (ipykernel)",
   "language": "python",
   "name": "python3"
  },
  "language_info": {
   "codemirror_mode": {
    "name": "ipython",
    "version": 3
   },
   "file_extension": ".py",
   "mimetype": "text/x-python",
   "name": "python",
   "nbconvert_exporter": "python",
   "pygments_lexer": "ipython3",
   "version": "3.9.12"
  }
 },
 "nbformat": 4,
 "nbformat_minor": 5
}
