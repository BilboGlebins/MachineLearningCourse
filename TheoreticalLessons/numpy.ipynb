{
 "cells": [
  {
   "cell_type": "code",
   "execution_count": 1,
   "id": "149c46e4",
   "metadata": {},
   "outputs": [],
   "source": [
    "import numpy as np"
   ]
  },
  {
   "cell_type": "code",
   "execution_count": 6,
   "id": "8e713380",
   "metadata": {},
   "outputs": [
    {
     "name": "stdout",
     "output_type": "stream",
     "text": [
      "from list: \n",
      "[ 4  8 15 16 23 42]\n"
     ]
    }
   ],
   "source": [
    "some_list = [4, 8, 15, 16, 23, 42]\n",
    "some_tuple = (np.sqrt(2), np.exp(1), np.pi)\n",
    "\n",
    "from_list = np.array(some_list)\n",
    "from_list = np.array(some_list)\n",
    "\n",
    "print(f'from list: \\n{from_list}')"
   ]
  },
  {
   "cell_type": "code",
   "execution_count": 7,
   "id": "fcdae447",
   "metadata": {},
   "outputs": [
    {
     "name": "stdout",
     "output_type": "stream",
     "text": [
      "from list: \n",
      "[   4    8   15   16   23 4255]\n"
     ]
    }
   ],
   "source": [
    "some_list = [4, 8, 15, 16, 23, 4255]\n",
    "some_tuple = (np.sqrt(2), np.exp(1), np.pi)\n",
    "\n",
    "from_list = np.array(some_list)\n",
    "from_list = np.array(some_list)\n",
    "\n",
    "print(f'from list: \\n{from_list}')"
   ]
  },
  {
   "cell_type": "code",
   "execution_count": 17,
   "id": "f4061ccb",
   "metadata": {},
   "outputs": [
    {
     "name": "stdout",
     "output_type": "stream",
     "text": [
      "from list: \n",
      "[ 4  8 15 16 23 42], dtype: int32\n",
      "from tuple: \n",
      "[ 4  8 15 16 23 42], dtype: int32\n"
     ]
    }
   ],
   "source": [
    "some_list = [4, 8, 15, 16, 23, 42]\n",
    "some_tuple = (np.sqrt(2), np.exp(1), np.pi)\n",
    "\n",
    "from_list = np.array(some_list)\n",
    "from_tuple = np.array(some_list)\n",
    "\n",
    "print(f'from list: \\n{from_list}, dtype: {from_list.dtype}')\n",
    "print(f'from tuple: \\n{from_tuple}, dtype: {from_tuple.dtype}')"
   ]
  },
  {
   "cell_type": "code",
   "execution_count": 18,
   "id": "75a5838f",
   "metadata": {},
   "outputs": [
    {
     "name": "stdout",
     "output_type": "stream",
     "text": [
      "from list: \n",
      "[ 4  8 15 16 23 42], dtype: int32, shape: (6,)\n",
      "from tuple: \n",
      "[ 4  8 15 16 23 42], dtype: int32, shape: (6,)\n"
     ]
    }
   ],
   "source": [
    "some_list = [4, 8, 15, 16, 23, 42]\n",
    "some_tuple = (np.sqrt(2), np.exp(1), np.pi)\n",
    "\n",
    "from_list = np.array(some_list)\n",
    "from_tuple = np.array(some_list)\n",
    "\n",
    "print(f'from list: \\n{from_list}, shape: {from_list.shape}')\n",
    "print(f'from tuple: \\n{from_tuple}, shape: {from_tuple.shape}')"
   ]
  },
  {
   "cell_type": "code",
   "execution_count": 21,
   "id": "28b37800",
   "metadata": {},
   "outputs": [
    {
     "name": "stdout",
     "output_type": "stream",
     "text": [
      "from set: \n",
      "{'а', 'р', 'ы', ' ', 'л', 'м', 'у'}, dtype: object, shape: ()\n",
      "from string: \n",
      "мама мыла раму, dtype: <U14, shape: ()\n"
     ]
    }
   ],
   "source": [
    "some_set = set('мама мыла раму')\n",
    "some_string = 'мама мыла раму'\n",
    "\n",
    "from_set = np.array(some_set)\n",
    "from_string = np.array(some_stringh)\n",
    "\n",
    "print(f'from set: \\n{from_set}, dtype: {from_set.dtype}, shape: {from_set.shape}')\n",
    "print(f'from string: \\n{from_string}, dtype: {from_string.dtype}, shape: {from_string.shape}')"
   ]
  },
  {
   "cell_type": "code",
   "execution_count": 23,
   "id": "b50b47bd",
   "metadata": {},
   "outputs": [
    {
     "name": "stdout",
     "output_type": "stream",
     "text": [
      "from set: \n",
      "['а' 'р' 'ы' ' ' 'л' 'м' 'у'], dtype: <U1, shape: (7,)\n",
      "from string: \n",
      "['мама' 'мыла' 'раму'], dtype: <U4, shape: (3,)\n"
     ]
    }
   ],
   "source": [
    "some_set = set('мама мыла раму')\n",
    "some_string = 'мама мыла раму'\n",
    "\n",
    "from_set = np.array(list(some_set))\n",
    "from_stringh = np.array(some_string.split())\n",
    "\n",
    "print(f'from set: \\n{from_set}, dtype: {from_set.dtype}, shape: {from_set.shape}')\n",
    "print(f'from string: \\n{from_string}, dtype: {from_string.dtype}, shape: {from_string.shape}')"
   ]
  },
  {
   "cell_type": "code",
   "execution_count": 43,
   "id": "64484567",
   "metadata": {},
   "outputs": [
    {
     "name": "stdout",
     "output_type": "stream",
     "text": [
      "from set: \n",
      "['а' 'р' 'ы' ' ' 'л' 'м' 'у'], dtype: <U1, shape: (7,)\n",
      "from string: \n",
      "['мама' 'мыла' 'раму'], dtype: <U4, shape: (3,)\n"
     ]
    },
    {
     "data": {
      "text/plain": [
       "array(['сест', 'мыла', 'раму'], dtype='<U4')"
      ]
     },
     "execution_count": 43,
     "metadata": {},
     "output_type": "execute_result"
    }
   ],
   "source": [
    "some_set = set('мама мыла раму')\n",
    "some_string = 'мама мыла раму'\n",
    "\n",
    "from_set = np.array(list(some_set))\n",
    "from_string = np.array(some_stringh.split())\n",
    "\n",
    "print(f'from set: \\n{from_set}, dtype: {from_set.dtype}, shape: {from_set.shape}')\n",
    "print(f'from string: \\n{from_stringh}, dtype: {from_stringh.dtype}, shape: {from_stringh.shape}')\n",
    "\n",
    "from_string[0] = 'сестра'\n",
    "from_string"
   ]
  },
  {
   "cell_type": "code",
   "execution_count": null,
   "id": "7fb70365",
   "metadata": {},
   "outputs": [],
   "source": [
    "list_in_list = [[1,2,4],[4,5,6,]]\n",
    "matrix = np.array(list_in_list)\n",
    "matrix"
   ]
  },
  {
   "cell_type": "code",
   "execution_count": 44,
   "id": "f475c48d",
   "metadata": {},
   "outputs": [
    {
     "data": {
      "text/plain": [
       "array([[1., 2., 4.],\n",
       "       [4., 5., 6.]], dtype=float16)"
      ]
     },
     "execution_count": 44,
     "metadata": {},
     "output_type": "execute_result"
    }
   ],
   "source": [
    "list_in_list = [[1,2,4],[4,5,6,]]\n",
    "matrix = np.array(list_in_list)\n",
    "matrix = matrix.astype(np.float16)\n",
    "matrix"
   ]
  },
  {
   "cell_type": "code",
   "execution_count": 50,
   "id": "c48d3183",
   "metadata": {},
   "outputs": [
    {
     "data": {
      "text/plain": [
       "15"
      ]
     },
     "execution_count": 50,
     "metadata": {},
     "output_type": "execute_result"
    }
   ],
   "source": [
    "list_in_list_in_list = [[[1,2,3],[4,5,6,],[7,8,9]],[[10,11,12],[13,14,15],[16,17,18]]]\n",
    "threee_d_array = np.array(list_in_list_in_list)\n",
    "threee_d_array[1,1,2]"
   ]
  },
  {
   "cell_type": "code",
   "execution_count": 52,
   "id": "045ec372",
   "metadata": {},
   "outputs": [
    {
     "data": {
      "text/plain": [
       "array([[4.67296746e-307, 1.69121096e-306, 1.22388739e-307,\n",
       "        1.02359848e-306],\n",
       "       [8.34441742e-308, 1.78022342e-306, 6.23058028e-307,\n",
       "        9.79107872e-307],\n",
       "       [6.89807188e-307, 7.56594375e-307, 6.23060065e-307,\n",
       "        1.78021527e-306],\n",
       "       [8.34454050e-308, 1.11261027e-306, 1.15706896e-306,\n",
       "        1.33512173e-306]])"
      ]
     },
     "execution_count": 52,
     "metadata": {},
     "output_type": "execute_result"
    }
   ],
   "source": [
    "shape = (4,4)\n",
    "\n",
    "new_array = np.ndarray(shape = shape)\n",
    "new_array"
   ]
  },
  {
   "cell_type": "code",
   "execution_count": 56,
   "id": "226d614c",
   "metadata": {},
   "outputs": [
    {
     "data": {
      "text/plain": [
       "array([[0., 0., 0., 0.],\n",
       "       [0., 0., 0., 0.],\n",
       "       [0., 0., 0., 0.],\n",
       "       [0., 0., 0., 0.]])"
      ]
     },
     "execution_count": 56,
     "metadata": {},
     "output_type": "execute_result"
    }
   ],
   "source": [
    "zeros = np.zeros((4,4))\n",
    "zeros"
   ]
  },
  {
   "cell_type": "code",
   "execution_count": 57,
   "id": "61d182b9",
   "metadata": {},
   "outputs": [
    {
     "data": {
      "text/plain": [
       "array([1., 1., 1., 1., 1., 1.])"
      ]
     },
     "execution_count": 57,
     "metadata": {},
     "output_type": "execute_result"
    }
   ],
   "source": [
    "ones = np.ones(6)\n",
    "ones"
   ]
  },
  {
   "cell_type": "code",
   "execution_count": 61,
   "id": "db7814cc",
   "metadata": {},
   "outputs": [
    {
     "data": {
      "text/plain": [
       "array([255,  45, 255,   1], dtype=uint8)"
      ]
     },
     "execution_count": 61,
     "metadata": {},
     "output_type": "execute_result"
    }
   ],
   "source": [
    "one = np.ones(4, dtype=np.uint8)\n",
    "one[0] -= 2\n",
    "one[1] += 300\n",
    "one[2] *= -1\n",
    "one"
   ]
  },
  {
   "cell_type": "code",
   "execution_count": 63,
   "id": "c82506c6",
   "metadata": {},
   "outputs": [
    {
     "data": {
      "text/plain": [
       "array([0. , 0.5, 1. , 1.5, 2. , 2.5, 3. , 3.5, 4. , 4.5, 5. , 5.5, 6. ,\n",
       "       6.5, 7. , 7.5, 8. , 8.5, 9. , 9.5])"
      ]
     },
     "execution_count": 63,
     "metadata": {},
     "output_type": "execute_result"
    }
   ],
   "source": [
    "np.arange(0,10,.5)"
   ]
  },
  {
   "cell_type": "code",
   "execution_count": 71,
   "id": "8d7d78ac",
   "metadata": {},
   "outputs": [
    {
     "data": {
      "text/plain": [
       "[<matplotlib.lines.Line2D at 0x13d30660880>]"
      ]
     },
     "execution_count": 71,
     "metadata": {},
     "output_type": "execute_result"
    },
    {
     "data": {
      "image/png": "[encoded data removed]",
      "text/plain": [
       "<Figure size 432x288 with 1 Axes>"
      ]
     },
     "metadata": {
      "needs_background": "light"
     },
     "output_type": "display_data"
    }
   ],
   "source": [
    "import matplotlib.pyplot as pit\n",
    "\n",
    "x = np.arange(0,4*np.pi,1)\n",
    "pit.plot(x, np.cos(x))"
   ]
  },
  {
   "cell_type": "code",
   "execution_count": 70,
   "id": "5e0126a3",
   "metadata": {},
   "outputs": [
    {
     "data": {
      "text/plain": [
       "<matplotlib.collections.PathCollection at 0x13d305ecee0>"
      ]
     },
     "execution_count": 70,
     "metadata": {},
     "output_type": "execute_result"
    },
    {
     "data": {
      "image/png": "[encoded data removed]",
      "text/plain": [
       "<Figure size 432x288 with 1 Axes>"
      ]
     },
     "metadata": {
      "needs_background": "light"
     },
     "output_type": "display_data"
    }
   ],
   "source": [
    "import matplotlib.pyplot as pit\n",
    "\n",
    "x = np.arange(0,4*np.pi,0.1)\n",
    "pit.scatter(x, np.cos(x))"
   ]
  },
  {
   "cell_type": "code",
   "execution_count": 74,
   "id": "d0d57d8b",
   "metadata": {},
   "outputs": [
    {
     "data": {
      "text/plain": [
       "array([ 1. ,  1.5,  2. ,  2.5,  3. ,  3.5,  4. ,  4.5,  5. ,  5.5,  6. ,\n",
       "        6.5,  7. ,  7.5,  8. ,  8.5,  9. ,  9.5, 10. , 10.5])"
      ]
     },
     "execution_count": 74,
     "metadata": {},
     "output_type": "execute_result"
    }
   ],
   "source": [
    "np.linspace(1,11,20, endpoint=False)"
   ]
  },
  {
   "cell_type": "code",
   "execution_count": 76,
   "id": "12345599",
   "metadata": {},
   "outputs": [
    {
     "data": {
      "text/plain": [
       "array([[6, 9, 7],\n",
       "       [1, 6, 2],\n",
       "       [4, 1, 5]])"
      ]
     },
     "execution_count": 76,
     "metadata": {},
     "output_type": "execute_result"
    }
   ],
   "source": [
    "np.random.randint(1,10, (3,3))"
   ]
  },
  {
   "cell_type": "code",
   "execution_count": 77,
   "id": "e40176df",
   "metadata": {},
   "outputs": [
    {
     "data": {
      "text/plain": [
       "array([[0.22701115, 0.80538876, 0.53573289],\n",
       "       [0.09616721, 0.8368208 , 0.92187813],\n",
       "       [0.66049206, 0.66796372, 0.3375648 ]])"
      ]
     },
     "execution_count": 77,
     "metadata": {},
     "output_type": "execute_result"
    }
   ],
   "source": [
    "np.random.rand(3,3)"
   ]
  },
  {
   "cell_type": "code",
   "execution_count": 78,
   "id": "13890b0a",
   "metadata": {},
   "outputs": [
    {
     "data": {
      "text/plain": [
       "array([[ 0.53856428,  0.18366065, -0.02825703],\n",
       "       [-0.61845347,  0.34271278,  0.42162883],\n",
       "       [-0.8330584 , -1.081152  ,  0.82549484]])"
      ]
     },
     "execution_count": 78,
     "metadata": {},
     "output_type": "execute_result"
    }
   ],
   "source": [
    "np.random.randn(3,3)"
   ]
  },
  {
   "cell_type": "code",
   "execution_count": 79,
   "id": "21682b0a",
   "metadata": {},
   "outputs": [
    {
     "data": {
      "text/plain": [
       "<matplotlib.collections.PathCollection at 0x13d306eec40>"
      ]
     },
     "execution_count": 79,
     "metadata": {},
     "output_type": "execute_result"
    },
    {
     "data": {
      "image/png": "[encoded data removed]",
      "text/plain": [
       "<Figure size 432x288 with 1 Axes>"
      ]
     },
     "metadata": {
      "needs_background": "light"
     },
     "output_type": "display_data"
    }
   ],
   "source": [
    "pit.scatter(np.random.randn(10000), np.random.randn(10000))"
   ]
  },
  {
   "cell_type": "code",
   "execution_count": 81,
   "id": "4d0dce25",
   "metadata": {},
   "outputs": [
    {
     "data": {
      "text/plain": [
       "-0.009821034739506629"
      ]
     },
     "execution_count": 81,
     "metadata": {},
     "output_type": "execute_result"
    }
   ],
   "source": [
    "np.median(np.random.randn(10000))"
   ]
  },
  {
   "cell_type": "code",
   "execution_count": 80,
   "id": "30480d69",
   "metadata": {},
   "outputs": [
    {
     "data": {
      "text/plain": [
       "<matplotlib.collections.PathCollection at 0x13d31712970>"
      ]
     },
     "execution_count": 80,
     "metadata": {},
     "output_type": "execute_result"
    },
    {
     "data": {
      "image/png": "[encoded data removed]",
      "text/plain": [
       "<Figure size 432x288 with 1 Axes>"
      ]
     },
     "metadata": {
      "needs_background": "light"
     },
     "output_type": "display_data"
    }
   ],
   "source": [
    "pit.scatter(np.random.rand(10000), np.random.rand(10000))"
   ]
  },
  {
   "cell_type": "code",
   "execution_count": 84,
   "id": "3ab46a6b",
   "metadata": {},
   "outputs": [
    {
     "data": {
      "text/plain": [
       "array([11, 22, 33])"
      ]
     },
     "execution_count": 84,
     "metadata": {},
     "output_type": "execute_result"
    }
   ],
   "source": [
    "a = [10, 20, 30]\n",
    "b = [1, 2, 3]\n",
    "\n",
    "arr_a = np.array(a)\n",
    "arr_b = np.array(b)\n",
    "\n",
    "arr_a+arr_b"
   ]
  },
  {
   "cell_type": "code",
   "execution_count": 87,
   "id": "58bf7f6f",
   "metadata": {},
   "outputs": [
    {
     "data": {
      "text/plain": [
       "array([[11, 22, 33],\n",
       "       [11, 22, 33]])"
      ]
     },
     "execution_count": 87,
     "metadata": {},
     "output_type": "execute_result"
    }
   ],
   "source": [
    "a = [[10, 20, 30],[10, 20, 30],[10, 20, 30]]\n",
    "b = [[1, 2, 3],[1, 2, 3],[1, 2, 3]]\n",
    "\n",
    "arr_a = np.array(a)\n",
    "arr_b = np.array(b)\n",
    "\n",
    "arr_a+arr_b"
   ]
  },
  {
   "cell_type": "code",
   "execution_count": 93,
   "id": "8ee5d4f6",
   "metadata": {},
   "outputs": [],
   "source": [
    "v1 = np.random.rand(2022)\n",
    "v2 = np.random.rand(2022)\n",
    "\n",
    "list_1 = list(v1)\n",
    "list_2 = list(v2)"
   ]
  },
  {
   "cell_type": "code",
   "execution_count": 100,
   "id": "fbf2569a",
   "metadata": {},
   "outputs": [
    {
     "name": "stdout",
     "output_type": "stream",
     "text": [
      "335 µs ± 2.96 µs per loop (mean ± std. dev. of 7 runs, 1,000 loops each)\n"
     ]
    }
   ],
   "source": [
    "%%timeit\n",
    "list_3 = []\n",
    "for i in range(len(list_1)):\n",
    "    list_3.append(list_1[i] * list_2[i])\n",
    "sum(list_3)"
   ]
  },
  {
   "cell_type": "code",
   "execution_count": null,
   "id": "ed160c89",
   "metadata": {},
   "outputs": [],
   "source": [
    "v1 = np.random.rand(20220)\n",
    "v2 = np.random.rand(20220)"
   ]
  },
  {
   "cell_type": "code",
   "execution_count": 101,
   "id": "d1f7a186",
   "metadata": {},
   "outputs": [
    {
     "name": "stdout",
     "output_type": "stream",
     "text": [
      "5.27 µs ± 18.4 ns per loop (mean ± std. dev. of 7 runs, 100,000 loops each)\n"
     ]
    }
   ],
   "source": [
    "%%timeit\n",
    "np.sum(v1 * v2)"
   ]
  },
  {
   "cell_type": "code",
   "execution_count": 103,
   "id": "72bcc7d8",
   "metadata": {},
   "outputs": [
    {
     "data": {
      "text/plain": [
       "33"
      ]
     },
     "execution_count": 103,
     "metadata": {},
     "output_type": "execute_result"
    }
   ],
   "source": [
    "a = [[10, 20, 30],[11, 22, 33],[111, 222, 333]]\n",
    "a[1][2]"
   ]
  },
  {
   "cell_type": "code",
   "execution_count": 105,
   "id": "acbd1574",
   "metadata": {},
   "outputs": [
    {
     "data": {
      "text/plain": [
       "33"
      ]
     },
     "execution_count": 105,
     "metadata": {},
     "output_type": "execute_result"
    }
   ],
   "source": [
    "a = [[10, 20, 30],[11, 22, 33],[111, 222, 333]]\n",
    "arr = np.array(a)\n",
    "arr[1,2]"
   ]
  },
  {
   "cell_type": "code",
   "execution_count": 108,
   "id": "28d06f71",
   "metadata": {},
   "outputs": [
    {
     "data": {
      "text/plain": [
       "array([[  2,  82, -16,  95,  38],\n",
       "       [ 56,  -6,  37,  53,  -4],\n",
       "       [ 35,  -3,  90,  82,  22],\n",
       "       [ 36,  85, -14,  28,  70],\n",
       "       [ 50, -11, -13,  35,   9]])"
      ]
     },
     "execution_count": 108,
     "metadata": {},
     "output_type": "execute_result"
    }
   ],
   "source": [
    "matrix = np.random.randint(-20, 100, (5,5))\n",
    "matrix"
   ]
  },
  {
   "cell_type": "code",
   "execution_count": 111,
   "id": "568aa86a",
   "metadata": {},
   "outputs": [
    {
     "data": {
      "text/plain": [
       "array([[ 2, 82,  0, 95, 38],\n",
       "       [56,  0, 37, 53,  0],\n",
       "       [35,  0, 90, 82, 22],\n",
       "       [36, 85,  0, 28, 70],\n",
       "       [50,  0,  0, 35,  9]])"
      ]
     },
     "execution_count": 111,
     "metadata": {},
     "output_type": "execute_result"
    }
   ],
   "source": [
    "mask = matrix < 0\n",
    "matrix[mask] = 0\n",
    "matrix"
   ]
  },
  {
   "cell_type": "code",
   "execution_count": 112,
   "id": "c0081408",
   "metadata": {},
   "outputs": [
    {
     "data": {
      "text/plain": [
       "array([[ 2, 82,  0, 95, 38],\n",
       "       [56,  0, 37, 53,  0],\n",
       "       [35,  0, 90, 82, 22],\n",
       "       [36, 85,  0, 28, 70],\n",
       "       [50,  0,  0, 35,  9]])"
      ]
     },
     "execution_count": 112,
     "metadata": {},
     "output_type": "execute_result"
    }
   ],
   "source": [
    "matrix[matrix < 0] = 0\n",
    "matrix"
   ]
  },
  {
   "cell_type": "code",
   "execution_count": 114,
   "id": "69bb610c",
   "metadata": {},
   "outputs": [
    {
     "data": {
      "text/plain": [
       "array([25, 46, 39, 21, 41])"
      ]
     },
     "execution_count": 114,
     "metadata": {},
     "output_type": "execute_result"
    }
   ],
   "source": [
    "arr = np.random.randint(10,50,10)\n",
    "arr[[7,3,8,2,6]]\n",
    "matrix"
   ]
  },
  {
   "cell_type": "code",
   "execution_count": 119,
   "id": "33a3985f",
   "metadata": {},
   "outputs": [
    {
     "data": {
      "text/plain": [
       "array([ 4, 14, 27])"
      ]
     },
     "execution_count": 119,
     "metadata": {},
     "output_type": "execute_result"
    }
   ],
   "source": [
    "arr = np.arange(36).reshape(6,6)\n",
    "arr[[0,2,4],[4,2,3]]"
   ]
  },
  {
   "cell_type": "code",
   "execution_count": 120,
   "id": "2b61d435",
   "metadata": {},
   "outputs": [
    {
     "data": {
      "text/plain": [
       "array([[ 0,  5],\n",
       "       [ 6, 11],\n",
       "       [12, 17],\n",
       "       [18, 23],\n",
       "       [24, 29],\n",
       "       [30, 35]])"
      ]
     },
     "execution_count": 120,
     "metadata": {},
     "output_type": "execute_result"
    }
   ],
   "source": [
    "arr[:, [0,-1]]\n"
   ]
  },
  {
   "cell_type": "code",
   "execution_count": 122,
   "id": "22f3cd95",
   "metadata": {},
   "outputs": [
    {
     "data": {
      "text/plain": [
       "array([-0.82762709,  0.65234171,  0.71378444, -0.71254691, -1.360834  ,\n",
       "       -0.43210942,  0.82232741,  0.247918  ,  0.68749704, -2.97789432,\n",
       "       -0.65042876,  0.65072914,  1.41410867, -1.05776819, -1.65683244,\n",
       "        0.25298389,  0.24584759, -0.70187384, -0.12348105, -0.27952887,\n",
       "       -0.50286357,  0.88299342,  0.04844802, -0.16868788,  1.45141333,\n",
       "       -1.18395595,  0.33529854, -1.3850995 , -0.23251873,  0.57662632,\n",
       "        0.75247465, -0.81459536, -0.33763799, -1.29702038,  1.17777463,\n",
       "       -0.7206974 ,  0.2105936 ,  0.30887356,  0.85357698, -0.43703903,\n",
       "       -0.51275964, -1.68109645, -0.05586965,  1.89639392, -0.8745039 ,\n",
       "        0.26455795,  0.00920756, -1.20129112, -0.62400754, -1.32382059,\n",
       "        0.52718735, -0.7735735 , -0.57534218, -0.77816468, -0.51786276,\n",
       "        1.21788913, -1.81899713,  1.15881755, -0.0315013 ,  0.44066912,\n",
       "        0.43750607,  0.05163627,  1.29574301,  1.01721434,  1.00955217,\n",
       "       -1.60533875, -0.86687372,  0.66533802, -1.09049899, -0.5485968 ,\n",
       "        0.22013183,  1.64285449,  0.97778947,  1.59860714,  0.27454327,\n",
       "       -0.91336612,  0.86246418,  0.02856268, -0.03986668,  0.71414075,\n",
       "       -0.25940252, -1.09655638, -0.23822165, -0.49043254,  0.14109442,\n",
       "       -0.31530688, -0.13577319,  0.74809067,  0.0818632 ,  1.45243452,\n",
       "        0.03957137, -0.35202835, -0.53735825,  1.03847186,  0.43498761,\n",
       "        0.06336829,  1.1781015 , -0.11179075, -0.42628369, -1.91220372])"
      ]
     },
     "execution_count": 122,
     "metadata": {},
     "output_type": "execute_result"
    }
   ],
   "source": [
    "arr = np.random.randn(100)\n",
    "arr"
   ]
  },
  {
   "cell_type": "code",
   "execution_count": 123,
   "id": "7d7e0c30",
   "metadata": {},
   "outputs": [
    {
     "data": {
      "text/plain": [
       "-0.057953294206633144"
      ]
     },
     "execution_count": 123,
     "metadata": {},
     "output_type": "execute_result"
    }
   ],
   "source": [
    "arr.mean()"
   ]
  },
  {
   "cell_type": "code",
   "execution_count": 124,
   "id": "75d3ddd3",
   "metadata": {},
   "outputs": [
    {
     "data": {
      "text/plain": [
       "-0.057953294206633144"
      ]
     },
     "execution_count": 124,
     "metadata": {},
     "output_type": "execute_result"
    }
   ],
   "source": [
    "np.mean(arr)"
   ]
  },
  {
   "cell_type": "code",
   "execution_count": 125,
   "id": "89f23b7b",
   "metadata": {},
   "outputs": [
    {
     "data": {
      "text/plain": [
       "0.9096608786834421"
      ]
     },
     "execution_count": 125,
     "metadata": {},
     "output_type": "execute_result"
    }
   ],
   "source": [
    "np.std(arr)"
   ]
  },
  {
   "cell_type": "code",
   "execution_count": 126,
   "id": "5e98ab12",
   "metadata": {},
   "outputs": [
    {
     "data": {
      "text/plain": [
       "1.8963939244008523"
      ]
     },
     "execution_count": 126,
     "metadata": {},
     "output_type": "execute_result"
    }
   ],
   "source": [
    "np.max(arr)"
   ]
  },
  {
   "cell_type": "code",
   "execution_count": 127,
   "id": "0ce958c0",
   "metadata": {},
   "outputs": [
    {
     "data": {
      "text/plain": [
       "-2.977894316773867"
      ]
     },
     "execution_count": 127,
     "metadata": {},
     "output_type": "execute_result"
    }
   ],
   "source": [
    "np.min(arr)"
   ]
  },
  {
   "cell_type": "code",
   "execution_count": 128,
   "id": "d3a71093",
   "metadata": {},
   "outputs": [
    {
     "data": {
      "text/plain": [
       "0.827482914207132"
      ]
     },
     "execution_count": 128,
     "metadata": {},
     "output_type": "execute_result"
    }
   ],
   "source": [
    "np.var(arr)"
   ]
  },
  {
   "cell_type": "code",
   "execution_count": 130,
   "id": "aae65fe1",
   "metadata": {},
   "outputs": [
    {
     "data": {
      "text/plain": [
       "-0.03568399063954561"
      ]
     },
     "execution_count": 130,
     "metadata": {},
     "output_type": "execute_result"
    }
   ],
   "source": [
    "np.median(arr)\n",
    "#arr.median - is not"
   ]
  },
  {
   "cell_type": "code",
   "execution_count": 133,
   "id": "0867e455",
   "metadata": {},
   "outputs": [
    {
     "data": {
      "text/plain": [
       "array([[7, 7, 2, 8, 3],\n",
       "       [8, 0, 5, 9, 2],\n",
       "       [6, 2, 4, 9, 0],\n",
       "       [8, 6, 0, 4, 6],\n",
       "       [1, 8, 9, 3, 9]])"
      ]
     },
     "execution_count": 133,
     "metadata": {},
     "output_type": "execute_result"
    }
   ],
   "source": [
    "arr = np.random.randint(0,10,(5,5))\n",
    "arr"
   ]
  },
  {
   "cell_type": "code",
   "execution_count": 137,
   "id": "f025f288",
   "metadata": {},
   "outputs": [
    {
     "data": {
      "text/plain": [
       "array([8, 8, 9, 9, 9])"
      ]
     },
     "execution_count": 137,
     "metadata": {},
     "output_type": "execute_result"
    }
   ],
   "source": [
    "arr.max(axis=0)"
   ]
  },
  {
   "cell_type": "code",
   "execution_count": null,
   "id": "00403272",
   "metadata": {},
   "outputs": [],
   "source": []
  }
 ],
 "metadata": {
  "kernelspec": {
   "display_name": "Python 3 (ipykernel)",
   "language": "python",
   "name": "python3"
  },
  "language_info": {
   "codemirror_mode": {
    "name": "ipython",
    "version": 3
   },
   "file_extension": ".py",
   "mimetype": "text/x-python",
   "name": "python",
   "nbconvert_exporter": "python",
   "pygments_lexer": "ipython3",
   "version": "3.9.12"
  }
 },
 "nbformat": 4,
 "nbformat_minor": 5
}
