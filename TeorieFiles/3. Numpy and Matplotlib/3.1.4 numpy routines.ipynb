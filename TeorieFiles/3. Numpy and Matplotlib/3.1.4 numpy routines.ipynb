{
 "cells": [
  {
   "cell_type": "code",
   "execution_count": 1,
   "metadata": {},
   "outputs": [],
   "source": [
    "import numpy as np"
   ]
  },
  {
   "cell_type": "markdown",
   "metadata": {},
   "source": [
    "# Функционал numpy\n",
    "## Статистические функции:\n",
    "* np.mean() - среднее\n",
    "* np.median() - медианы\n",
    "* np.std() - среднеквадратичное отклонение\n",
    "* np.var() - дисперсия\n",
    "* np.min() - значение минимального элемента\n",
    "* np.max() - значение максимального элемента\n",
    "\n",
    "Все эти функции, кроме `np.median`, могут быть вызваны как метод массива:"
   ]
  },
  {
   "cell_type": "code",
   "execution_count": 2,
   "metadata": {},
   "outputs": [
    {
     "name": "stdout",
     "output_type": "stream",
     "text": [
      "np.mean(arr) = 0.13415714257490233\n",
      "np.median(arr) = 0.10655966072847871\n",
      "np.std(arr) = 0.8842346110654343\n",
      "np.var(arr) = 0.78187084740604\n",
      "np.min(arr) = -2.3400470348547056\n",
      "np.max(arr) = 2.1690742185220726\n",
      "\n",
      "Пример вызова как метода массива:\n",
      "arr.std() = 0.8842346110654343\n"
     ]
    }
   ],
   "source": [
    "arr = np.random.randn(100)\n",
    "print(f'np.mean(arr) = {np.mean(arr)}')\n",
    "print(f'np.median(arr) = {np.median(arr)}')\n",
    "print(f'np.std(arr) = {np.std(arr)}')\n",
    "print(f'np.var(arr) = {np.var(arr)}')\n",
    "print(f'np.min(arr) = {np.min(arr)}')\n",
    "print(f'np.max(arr) = {np.max(arr)}')\n",
    "\n",
    "print(f'\\nПример вызова как метода массива:')\n",
    "print(f'arr.std() = {arr.std()}')"
   ]
  },
  {
   "cell_type": "markdown",
   "metadata": {},
   "source": [
    "Так же эти функции могут вызываться с указанием измерения и выполняться вдоль указанного измерения. Для этого в функцию передаётся параметр `axis`\n",
    "\n",
    "Например, чтобы выбрать максимальный элемент в каждом столбце. Тогда мы будем двигаться вдоль строк, а строки идут нулевым измерением. значит, `axis=0`:"
   ]
  },
  {
   "cell_type": "code",
   "execution_count": 3,
   "metadata": {},
   "outputs": [
    {
     "name": "stdout",
     "output_type": "stream",
     "text": [
      "arr: \n",
      "[[5 7 1 7 4]\n",
      " [7 5 2 4 8]\n",
      " [5 3 1 2 9]\n",
      " [0 7 2 4 4]\n",
      " [4 6 2 4 6]]\n",
      "\n",
      "arr.max(axis=0): \n",
      "[7 7 2 7 9]\n"
     ]
    }
   ],
   "source": [
    "arr = np.random.randint(0, 10, size=(5, 5))\n",
    "print(f'arr: \\n{arr}')\n",
    "print(f'\\narr.max(axis=0): \\n{arr.max(axis=0)}')"
   ]
  },
  {
   "cell_type": "markdown",
   "metadata": {},
   "source": [
    "Отдельно рассмотрим функцию `np.percentile`. Она возвращает значение, соответсвующее перцентилю и указывается в процентах\n",
    "\n",
    "Мы знаем, что для нормальной величины ~68.3% значений лежат в интервале $M\\pm\\sigma$. Убедимся:"
   ]
  },
  {
   "cell_type": "code",
   "execution_count": 4,
   "metadata": {},
   "outputs": [
    {
     "name": "stdout",
     "output_type": "stream",
     "text": [
      "Для выборки из 10 значений\n",
      "Нижний перцентиль: -0.6368595290116643\n",
      "Верхний перцентиль: 1.4725304144807565\n",
      "\n",
      "Для выборки из 100 значений\n",
      "Нижний перцентиль: -0.8288328148453687\n",
      "Верхний перцентиль: 0.7001863063286567\n",
      "\n",
      "Для выборки из 1000 значений\n",
      "Нижний перцентиль: -1.0059590361981108\n",
      "Верхний перцентиль: 1.0330162928133506\n",
      "\n",
      "Для выборки из 10000 значений\n",
      "Нижний перцентиль: -1.0066915378226517\n",
      "Верхний перцентиль: 1.0241027310974469\n",
      "\n"
     ]
    }
   ],
   "source": [
    "sigma = 68.3 / 2\n",
    "for power in range(1, 5):\n",
    "    N = 10 ** power\n",
    "    arr = np.random.randn(N)  # Для randn матожидание = 0, а среднеквадратичное отклонеие = 1\n",
    "    print(f'Для выборки из {N} значений')\n",
    "    print(f'Нижний перцентиль: {np.percentile(arr, 50 - sigma)}')\n",
    "    print(f'Верхний перцентиль: {np.percentile(arr, 50 + sigma)}\\n')"
   ]
  },
  {
   "cell_type": "markdown",
   "metadata": {},
   "source": [
    "## Линейная алгебра\n",
    "Для решения задач линейной алгебры в `numpy` существует модуль `linalg`. Он работае с двухмерными массивами как с матрицами:"
   ]
  },
  {
   "cell_type": "code",
   "execution_count": 5,
   "metadata": {},
   "outputs": [
    {
     "name": "stdout",
     "output_type": "stream",
     "text": [
      "matrix1: \n",
      "[[1 1]\n",
      " [2 2]\n",
      " [3 3]]\n",
      "\n",
      "matrix2: \n",
      "[[1 2 3]\n",
      " [4 5 6]]\n",
      "\n",
      "matrix3: \n",
      "[[ 5  7  9]\n",
      " [10 14 18]\n",
      " [15 21 27]]\n",
      "\n",
      "А теперь посчитаем определитель третьей матрицы: np.linalg.det(matrix3) = 0.0\n",
      "Кто скажет почему он равен нулю - может взять с полки пирожок\n"
     ]
    }
   ],
   "source": [
    "matrix1 = np.array([[1, 1], [2, 2], [3, 3]])\n",
    "matrix2 = np.array([[1, 2, 3], [4, 5, 6]])\n",
    "matrix3 = np.matmul(matrix1, matrix2)\n",
    "\n",
    "print(f'matrix1: \\n{matrix1}')\n",
    "print(f'\\nmatrix2: \\n{matrix2}')\n",
    "print(f'\\nmatrix3: \\n{matrix3}')\n",
    "\n",
    "print(f'\\nА теперь посчитаем определитель третьей матрицы: np.linalg.det(matrix3) = {np.linalg.det(matrix3)}')\n",
    "print('Кто скажет почему он равен нулю - может взять с полки пирожок')                                                                                    "
   ]
  },
  {
   "cell_type": "markdown",
   "metadata": {},
   "source": [
    "## Аппроксимация полиномами\n",
    "Так же модуль позволяет аппроксимировать полиномами различные зависимости. Для демонстрации этого подключим пакет для визуализации matplotlib. О нём мы узнаем из следующих лекций\n",
    "\n",
    "А для самой же аппроксимации используется функция `np.polyfit(x, y, степень)`. Она возвращает коэффициенты при степенных фукнциях начиная со старшей. \n",
    "Так же фукнция `np.poly1d(coeff)` оборачивает эти коэффициенты в функцию. То есть, `f = np.poly1d([1, 2, 3])` эквивалентно: `f = lambda x: x**2 + 2*x + 3`"
   ]
  },
  {
   "cell_type": "code",
   "execution_count": 6,
   "metadata": {},
   "outputs": [
    {
     "data": {
      "text/plain": [
       "<matplotlib.legend.Legend at 0x176c4791b50>"
      ]
     },
     "execution_count": 6,
     "metadata": {},
     "output_type": "execute_result"
    },
    {
     "data": {
      "image/png": "[encoded data removed]",
      "text/plain": [
       "<Figure size 432x288 with 1 Axes>"
      ]
     },
     "metadata": {
      "needs_background": "light"
     },
     "output_type": "display_data"
    }
   ],
   "source": [
    "import matplotlib.pyplot as plt\n",
    "x = np.arange(-5, 5, 0.2)\n",
    "y = np.sin(x)\n",
    "f = np.poly1d(np.polyfit(x, y, 4))\n",
    "\n",
    "\n",
    "plt.plot(x, f(x), color='red', label='Я аппроксимирующий полином')\n",
    "plt.scatter(x, y, label='А я sin(x)')\n",
    "plt.legend()"
   ]
  }
 ],
 "metadata": {
  "kernelspec": {
   "display_name": "Python 3 (ipykernel)",
   "language": "python",
   "name": "python3"
  },
  "language_info": {
   "codemirror_mode": {
    "name": "ipython",
    "version": 3
   },
   "file_extension": ".py",
   "mimetype": "text/x-python",
   "name": "python",
   "nbconvert_exporter": "python",
   "pygments_lexer": "ipython3",
   "version": "3.9.12"
  }
 },
 "nbformat": 4,
 "nbformat_minor": 2
}
