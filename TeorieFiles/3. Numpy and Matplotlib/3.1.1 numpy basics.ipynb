{
 "cells": [
  {
   "cell_type": "markdown",
   "metadata": {},
   "source": [
    "# Numpy arrays\n",
    "Наиболее распространённая структура из numpy это `ndarray`. Для начала посмотрим, как их создавать\n",
    "## Создание одномерных массиов из главных iterable типов\n",
    "\n",
    "Для начала, `ndarray` может создаваться из встроенных `list` или `tuple` при помощи функции `np.array(iterable)`:"
   ]
  },
  {
   "cell_type": "code",
   "execution_count": 1,
   "metadata": {},
   "outputs": [
    {
     "name": "stdout",
     "output_type": "stream",
     "text": [
      "from list: \n",
      "[ 4  8 15 16 23 42], shape: (6,), dtype: int32\n",
      "\n",
      "from tuple: \n",
      "[1.41421356 2.71828183 3.14159265], shape: (3,), dtype: float64\n"
     ]
    }
   ],
   "source": [
    "import numpy as np  # np - community accepted abbrevation\n",
    "\n",
    "some_list = [4, 8, 15, 16, 23, 42]\n",
    "some_tuple = (np.sqrt(2), np.exp(1), np.pi)\n",
    "\n",
    "from_list = np.array(some_list)\n",
    "from_tuple = np.array(some_tuple)\n",
    "\n",
    "print(f\"from list: \\n{from_list}, shape: {from_list.shape}, dtype: {from_list.dtype}\")\n",
    "print(f\"\\nfrom tuple: \\n{from_tuple}, shape: {from_tuple.shape}, dtype: {from_tuple.dtype}\")"
   ]
  },
  {
   "cell_type": "markdown",
   "metadata": {},
   "source": [
    "Однако, другие `iterable` типы не подходят. Взгляните на следующий пример и обратите внимание на shape:"
   ]
  },
  {
   "cell_type": "code",
   "execution_count": 2,
   "metadata": {},
   "outputs": [
    {
     "name": "stdout",
     "output_type": "stream",
     "text": [
      "from set: \n",
      "{'n', 'i', ' ', 's', 'a'}, shape: (), dtype: object\n",
      "\n",
      "from string: \n",
      "The quick brown fox jumps over the lazy dog, shape: (), dtype: <U43\n"
     ]
    }
   ],
   "source": [
    "some_set = set('an assassin sins')\n",
    "some_string = 'The quick brown fox jumps over the lazy dog'\n",
    "\n",
    "from_set = np.array(some_set)\n",
    "from_string = np.array(some_string)\n",
    "\n",
    "print(f\"from set: \\n{from_set}, shape: {from_set.shape}, dtype: {from_set.dtype}\")\n",
    "print(f\"\\nfrom string: \\n{from_string}, shape: {from_string.shape}, dtype: {from_string.dtype}\")"
   ]
  },
  {
   "cell_type": "markdown",
   "metadata": {},
   "source": [
    "Но если вам ну очень хочется сделать `ndarray` из `set` или `string`, вы можете обернуть их в `list`"
   ]
  },
  {
   "cell_type": "code",
   "execution_count": 3,
   "metadata": {},
   "outputs": [
    {
     "name": "stdout",
     "output_type": "stream",
     "text": [
      "from list(set): \n",
      "['n' 'i' ' ' 's' 'a'], shape: (5,), dtype: <U1\n",
      "\n",
      "from list(string): \n",
      "['T' 'h' 'e' ' ' 'q' 'u' 'i' 'c' 'k' ' ' 'b' 'r' 'o' 'w' 'n' ' ' 'f' 'o'\n",
      " 'x' ' ' 'j' 'u' 'm' 'p' 's' ' ' 'o' 'v' 'e' 'r' ' ' 't' 'h' 'e' ' ' 'l'\n",
      " 'a' 'z' 'y' ' ' 'd' 'o' 'g'], shape: (43,), dtype: <U1\n"
     ]
    }
   ],
   "source": [
    "from_listed_set = np.array(list(some_set))\n",
    "from_listed_string = np.array(list(some_string))\n",
    "\n",
    "print(f\"from list(set): \\n{from_listed_set}, shape: {from_listed_set.shape}, dtype: {from_listed_set.dtype}\")\n",
    "print(f\"\\nfrom list(string): \\n{from_listed_string}, shape: {from_listed_string.shape}, dtype: {from_listed_string.dtype}\")"
   ]
  },
  {
   "cell_type": "markdown",
   "metadata": {},
   "source": [
    "Тип данных `<U1` означает \"unicode строка длиной 1 или меньше\". Тип данных всегда изменяется **явно** и **приводит к созданию нового объекта**.\n",
    "Посмотрите пример:"
   ]
  },
  {
   "cell_type": "code",
   "execution_count": 4,
   "metadata": {},
   "outputs": [
    {
     "name": "stdout",
     "output_type": "stream",
     "text": [
      "from words list: \n",
      "['the' 'quick' 'brown' 'fox' 'jumps' 'over' 'the' 'lazy' 'dog'], shape: (9,), dtype: <U5, id: 1988783091120\n",
      "\n",
      "Заменим fox на elephant:\n",
      "from words list: \n",
      "['the' 'quick' 'brown' 'eleph' 'jumps' 'over' 'the' 'lazy' 'dog'], shape: (9,), dtype: <U5, id: 1988783091120\n",
      "Слон стал \"элефом\", но id не изменился\n",
      "\n",
      "Сменим тип данных и заменим eleph на elephant:\n",
      "from words list: \n",
      "['the' 'quick' 'brown' 'elephant' 'jumps' 'over' 'the' 'lazy' 'dog'], shape: (9,), dtype: <U10, id: 1988783277712\n"
     ]
    }
   ],
   "source": [
    "some_string = 'The quick brown fox jumps over the lazy dog'\n",
    "words_list = some_string.lower().split(' ')\n",
    "from_words_list = np.array(words_list)\n",
    "\n",
    "print(f\"from words list: \\n{from_words_list}, shape: {from_words_list.shape}, dtype: {from_words_list.dtype}, id: {id(from_words_list)}\")\n",
    "\n",
    "print('\\nЗаменим fox на elephant:')\n",
    "from_words_list[3] = 'elephant'\n",
    "print(f\"from words list: \\n{from_words_list}, shape: {from_words_list.shape}, dtype: {from_words_list.dtype}, id: {id(from_words_list)}\")\n",
    "print('Слон стал \"элефом\", но id не изменился')\n",
    "\n",
    "print('\\nСменим тип данных и заменим eleph на elephant:')\n",
    "from_words_list = from_words_list.astype('<U10')\n",
    "from_words_list[3] = 'elephant'\n",
    "print(f\"from words list: \\n{from_words_list}, shape: {from_words_list.shape}, dtype: {from_words_list.dtype}, id: {id(from_words_list)}\")"
   ]
  },
  {
   "cell_type": "markdown",
   "metadata": {},
   "source": [
    "Очевидно, `ndarray` не очень для работы со строками. Однако с числами он бесподобен."
   ]
  },
  {
   "cell_type": "markdown",
   "metadata": {},
   "source": [
    "## Создание n-мерных массивов из основных iterable типов:\n",
    "n-мерные массивы `np.ndarray` могут быть получены оборачиванием в np.array() `list`, содержащий внутри себя другие `list`. Попробуем создать двухмерный массив (словом, матрицу):"
   ]
  },
  {
   "cell_type": "code",
   "execution_count": 5,
   "metadata": {},
   "outputs": [
    {
     "name": "stdout",
     "output_type": "stream",
     "text": [
      "From lists in list: \n",
      "[[1 2 3]\n",
      " [4 5 6]], shape: (2, 3), len: 2\n"
     ]
    }
   ],
   "source": [
    "lists_in_list = [[1, 2, 3], [4, 5, 6]]\n",
    "matrix = np.array(lists_in_list)\n",
    "print(f\"From lists in list: \\n{matrix}, shape: {matrix.shape}, len: {len(matrix)}\")"
   ]
  },
  {
   "cell_type": "markdown",
   "metadata": {},
   "source": [
    "Внимательно посмотрите на вывод предыдущего примера. Будьте осторожны при использовании функции `len()` с типом данных `ndarray`. Она вернёт длину первого измерения, а не количество элементов. Для получения количества элементов используется атрибут `ndarray.size`"
   ]
  },
  {
   "cell_type": "markdown",
   "metadata": {},
   "source": [
    "ndarray с б**о**льшим количеством измерений получается путём увеличения уровня вложенности: "
   ]
  },
  {
   "cell_type": "code",
   "execution_count": 6,
   "metadata": {},
   "outputs": [
    {
     "name": "stdout",
     "output_type": "stream",
     "text": [
      "From lists in list: \n",
      "[[[ 1  2  3]\n",
      "  [ 4  5  6]\n",
      "  [ 7  8  9]]\n",
      "\n",
      " [[10 11 12]\n",
      "  [13 14 15]\n",
      "  [16 17 18]]], shape: (2, 3, 3), len: 2, size: 18\n"
     ]
    }
   ],
   "source": [
    "lists_in_lists_in_list = [[[1, 2, 3], [4, 5, 6], [7, 8, 9]], [[10, 11, 12], [13, 14, 15], [16, 17, 18]]]\n",
    "three_d_array = np.array(lists_in_lists_in_list)\n",
    "print(f\"From lists in list: \\n{three_d_array}, shape: {three_d_array.shape}, len: {len(three_d_array)}, size: {three_d_array.size}\")"
   ]
  },
  {
   "cell_type": "markdown",
   "metadata": {},
   "source": [
    "Разумеется, вложенные `list` должны быть согласованны в смысле числа элементов:"
   ]
  },
  {
   "cell_type": "code",
   "execution_count": 7,
   "metadata": {},
   "outputs": [
    {
     "name": "stdout",
     "output_type": "stream",
     "text": [
      "From incompatible lists: \n",
      "[list([1, 2, 3]) list([4, 5]) list([6, 7, 8])], shape: (3,), dtype: object\n"
     ]
    },
    {
     "name": "stderr",
     "output_type": "stream",
     "text": [
      "C:\\Users\\gr682_ggi\\AppData\\Local\\Temp\\ipykernel_8040\\3402212028.py:2: VisibleDeprecationWarning: Creating an ndarray from ragged nested sequences (which is a list-or-tuple of lists-or-tuples-or ndarrays with different lengths or shapes) is deprecated. If you meant to do this, you must specify 'dtype=object' when creating the ndarray.\n",
      "  from_incompatible_lists = np.array(incompatible_lists_in_list)\n"
     ]
    }
   ],
   "source": [
    "incompatible_lists_in_list = [[1, 2, 3], [4, 5], [6, 7, 8]]\n",
    "from_incompatible_lists = np.array(incompatible_lists_in_list)\n",
    "print(f\"From incompatible lists: \\n{from_incompatible_lists}, shape: {from_incompatible_lists.shape}, dtype: {from_incompatible_lists.dtype}\")"
   ]
  },
  {
   "cell_type": "markdown",
   "metadata": {},
   "source": [
    "## Процедуры создания новых массивов\n",
    "### Инициализация raw-массива\n",
    "Можно инициализировать массив без значений. При инициализации numpy-массива без значений создаётся указатель на свободную область в памяти. Если посмотреть содержимаое массива, то можно увидеть что оказалось в той области памяти, а оказаться там может всё, что угодно. Попробуйте поменять shape и посмотреть как меняется содержимое"
   ]
  },
  {
   "cell_type": "code",
   "execution_count": 8,
   "metadata": {},
   "outputs": [
    {
     "name": "stdout",
     "output_type": "stream",
     "text": [
      "new array: \n",
      "[[6.23042070e-307 4.67296746e-307 1.69121096e-306 1.22388739e-307]\n",
      " [1.02359848e-306 8.34441742e-308 1.78022342e-306 6.23058028e-307]\n",
      " [9.79107872e-307 6.89807188e-307 7.56594375e-307 6.23060065e-307]\n",
      " [1.78021527e-306 8.34454050e-308 1.11261027e-306 2.04712907e-306]], dtype: float64\n"
     ]
    }
   ],
   "source": [
    "shape = (4, 4)\n",
    "new_array = np.ndarray(shape=shape)\n",
    "print(f\"new array: \\n{new_array}, dtype: {new_array.dtype}\")"
   ]
  },
  {
   "cell_type": "markdown",
   "metadata": {},
   "source": [
    "### Заполненные массивы\n",
    "Во многих случаях могут понадобиться массивы, которые состоят из один единиц или нулей. Такие массивы гененрируются функциями `np.zeros(shape=required_shape)` и `np.ones(shape=required_shape)` соответственно. `shape` может быть целым числом (для `1D-array`) или `tuple` целых чисел для `ndarray`."
   ]
  },
  {
   "cell_type": "code",
   "execution_count": 9,
   "metadata": {},
   "outputs": [
    {
     "name": "stdout",
     "output_type": "stream",
     "text": [
      "zeros_1d: \n",
      "[0. 0. 0. 0. 0. 0. 0. 0. 0. 0.], shape: (10,), dtype: float64\n",
      "ones_2d: \n",
      "[[1. 1. 1.]\n",
      " [1. 1. 1.]\n",
      " [1. 1. 1.]], shape: (3, 3), dtype: float64\n"
     ]
    }
   ],
   "source": [
    "zeros_1d = np.zeros(10)\n",
    "print(f\"zeros_1d: \\n{zeros_1d}, shape: {zeros_1d.shape}, dtype: {zeros_1d.dtype}\")\n",
    "ones_2d = np.ones((3, 3))\n",
    "print(f\"ones_2d: \\n{ones_2d}, shape: {ones_2d.shape}, dtype: {ones_2d.dtype}\")"
   ]
  },
  {
   "cell_type": "markdown",
   "metadata": {},
   "source": [
    "Тип данных для значений таких массивов может быть задан явно через параметр `dtype`:"
   ]
  },
  {
   "cell_type": "code",
   "execution_count": 11,
   "metadata": {},
   "outputs": [
    {
     "name": "stdout",
     "output_type": "stream",
     "text": [
      "uint zeros: \n",
      "[1 1 1 1 1 1 1], shape: (7,), dtype: uint8\n"
     ]
    }
   ],
   "source": [
    "uint_ones = np.ones(7, dtype=np.uint8)\n",
    "print(f\"uint zeros: \\n{uint_ones}, shape: {uint_ones.shape}, dtype: {uint_ones.dtype}\")"
   ]
  },
  {
   "cell_type": "markdown",
   "metadata": {},
   "source": [
    "Давайте выполним несколько операций для того, чтобы убедиться, что у нас действительно `uint8`:"
   ]
  },
  {
   "cell_type": "code",
   "execution_count": 10,
   "metadata": {},
   "outputs": [],
   "source": [
    "uint_ones = np.ones(7, dtype=np.uint8)\n",
    "uint_ones[0] = uint_ones[0]  # Left first one alone\n",
    "uint_ones[1] -= 0.2 \n",
    "uint_ones[2] += 0.9  \n",
    "uint_ones[3] += 1.1\n",
    "uint_ones[4] += 300\n",
    "uint_ones[5] -= 10\n",
    "uint_ones[6] *= -1"
   ]
  },
  {
   "cell_type": "raw",
   "metadata": {},
   "source": [
    "А теперь объяснения\n",
    "0. Остался без изменений\n",
    "1. Следуем последовательности:  преобразуем 1 в float чтобы выполнить вычитание float -> выполняем вычитание 1. - 0.2 = 0.8 -> переподим в uint8 чтобы поместить в массив uint8(0.2) = 0 -> вставляем 0 \n",
    "2. см 1.: uint8(1.9) = 1\n",
    "3. см 1.: uint8(2.1) = 2\n",
    "4. А здесь у нас пример переполнения. Диапазон uint8 от 0 до 255. Таким образом, 301 % 256 = 45\n",
    "5. см 4.: -9 % 256 = 256 - 9 = 247\n",
    "6. см 4.: -1 % 256 = 256 - 1 = 255"
   ]
  },
  {
   "cell_type": "markdown",
   "metadata": {},
   "source": [
    "### Равномерно заполненные массивы\n",
    "В качестве первого типа равнозаполненных массиов рассмотрим функцию `np.arange()`. Она работает по аналогии со стандартной `range()`, но возвращает `ndarray` и позволяет использовать не только целочисленные значения шага."
   ]
  },
  {
   "cell_type": "code",
   "execution_count": 12,
   "metadata": {},
   "outputs": [
    {
     "name": "stdout",
     "output_type": "stream",
     "text": [
      "# Если передадим единственный аргумент N, arange вернёт целые числа из интервала [0, N). Как и обычный range()\n",
      "np.arange(10) \n",
      "[0 1 2 3 4 5 6 7 8 9]\n",
      "\n",
      "# Для двух аргументов M и N, arange вернёт целые из интервала [M, N). Снова по аналогии с range():\n",
      "np.arange(5, 10) \n",
      "[5 6 7 8 9]\n",
      "\n",
      "# Третий аргумент указывает шаг внутри интервала [M, N):\n",
      "np.arange(5, 10, 0.5) \n",
      "[5.  5.5 6.  6.5 7.  7.5 8.  8.5 9.  9.5]\n",
      "\n",
      "np.arange(5, 10, 2) \n",
      "[5 7 9]\n",
      "\n",
      "np.arange(5, 10, 10) \n",
      "[5]\n"
     ]
    }
   ],
   "source": [
    "print('# Если передадим единственный аргумент N, arange вернёт целые числа из интервала [0, N). Как и обычный range()')\n",
    "print(f'np.arange(10) \\n{np.arange(10)}')\n",
    "\n",
    "print('\\n# Для двух аргументов M и N, arange вернёт целые из интервала [M, N). Снова по аналогии с range():')\n",
    "print(f'np.arange(5, 10) \\n{np.arange(5, 10)}')\n",
    "\n",
    "print('\\n# Третий аргумент указывает шаг внутри интервала [M, N):')\n",
    "print(f'np.arange(5, 10, 0.5) \\n{np.arange(5, 10, 0.5)}')\n",
    "print(f'\\nnp.arange(5, 10, 2) \\n{np.arange(5, 10, 2)}')\n",
    "print(f'\\nnp.arange(5, 10, 10) \\n{np.arange(5, 10, 10)}')"
   ]
  },
  {
   "cell_type": "markdown",
   "metadata": {},
   "source": [
    "В иных ситуациях удобнее использовать не фиксированный шаг, а фиксированное количество равноудалённых точек из интервала. Для такой задачи используется функция `np.linspace()`."
   ]
  },
  {
   "cell_type": "code",
   "execution_count": 13,
   "metadata": {},
   "outputs": [
    {
     "name": "stdout",
     "output_type": "stream",
     "text": [
      "# В отличии от arange, linspace ожидает минимум два аргумента: start и stop. А ещё linspace обычно включает в себя правую границу интервала:\n",
      "np.linspace(0, 10): \n",
      "[ 0.          0.20408163  0.40816327  0.6122449   0.81632653  1.02040816\n",
      "  1.2244898   1.42857143  1.63265306  1.83673469  2.04081633  2.24489796\n",
      "  2.44897959  2.65306122  2.85714286  3.06122449  3.26530612  3.46938776\n",
      "  3.67346939  3.87755102  4.08163265  4.28571429  4.48979592  4.69387755\n",
      "  4.89795918  5.10204082  5.30612245  5.51020408  5.71428571  5.91836735\n",
      "  6.12244898  6.32653061  6.53061224  6.73469388  6.93877551  7.14285714\n",
      "  7.34693878  7.55102041  7.75510204  7.95918367  8.16326531  8.36734694\n",
      "  8.57142857  8.7755102   8.97959184  9.18367347  9.3877551   9.59183673\n",
      "  9.79591837 10.        ], shape: (50,)\n",
      "\n",
      "# По умолчанию linspace разбиавает интервал на 50 точек. Однако количество точек можно задать третьим аргументом:\n",
      "np.linspace(0, 10, 21): \n",
      "[ 0.   0.5  1.   1.5  2.   2.5  3.   3.5  4.   4.5  5.   5.5  6.   6.5\n",
      "  7.   7.5  8.   8.5  9.   9.5 10. ], shape: (21,)\n",
      "\n",
      "#  Если же задача не требует включения правой границы интервала, передаётся аргумент endpoint=False\n",
      "np.linspace(0, 10, 20, endpoint=False): \n",
      "[0.  0.5 1.  1.5 2.  2.5 3.  3.5 4.  4.5 5.  5.5 6.  6.5 7.  7.5 8.  8.5\n",
      " 9.  9.5], shape: (20,)\n"
     ]
    }
   ],
   "source": [
    "print('# В отличии от arange, linspace ожидает минимум два аргумента: start и stop. А ещё linspace обычно включает в себя правую границу интервала:')\n",
    "print(f'np.linspace(0, 10): \\n{np.linspace(0, 10)}, shape: {np.linspace(0, 10).shape}')\n",
    "\n",
    "print('\\n# По умолчанию linspace разбиавает интервал на 50 точек. Однако количество точек можно задать третьим аргументом:')\n",
    "print(f'np.linspace(0, 10, 21): \\n{np.linspace(0, 10, 21)}, shape: {np.linspace(0, 10, 21).shape}')\n",
    "\n",
    "print('\\n#  Если же задача не требует включения правой границы интервала, передаётся аргумент endpoint=False')\n",
    "print(f'np.linspace(0, 10, 20, endpoint=False): \\n{np.linspace(0, 10, 20, endpoint=False)}, shape: {np.linspace(0, 10, 20, endpoint=False).shape}')"
   ]
  },
  {
   "cell_type": "markdown",
   "metadata": {},
   "source": [
    "## Создание массивов случайных чисел\n",
    "Рассмотрим три основные фукнции создания массивов, заполненных случайными числами. Начнём с функции `np.random.randn()`. Она генерирует число, распределённое по нормальному закону с математическим ожиданием = 0 и дисперсией = 1"
   ]
  },
  {
   "cell_type": "code",
   "execution_count": 14,
   "metadata": {},
   "outputs": [
    {
     "name": "stdout",
     "output_type": "stream",
     "text": [
      "# Без указания аргументов возвращает единственное число базового типа float\n",
      "np.random.randn(): 0.9674077085820182, type: <class 'float'>\n",
      "\n",
      "# Чтобы создать ndarray в качестве аргументов передаётся его shape\n",
      "np.random.randn(1, 2, 3, 4): \n",
      "[[[[ 0.87743586  0.64112689 -0.68373593 -0.82787752]\n",
      "   [ 0.30667839  0.65105122 -0.45826112 -0.87295888]\n",
      "   [ 0.99428474  0.41469059  0.62440644  0.13977799]]\n",
      "\n",
      "  [[ 0.56499438 -1.98787304  0.43763197 -0.17790469]\n",
      "   [-0.05170528  1.49395709 -0.81575985  0.57820279]\n",
      "   [ 0.42103592  0.1844842  -0.50968     0.7511873 ]]]], type: <class 'numpy.ndarray'>, shape: (1, 2, 3, 4)\n",
      "\n",
      "# То же самое, только через кортеж:\n",
      "np.random.randn(*shape): \n",
      "[[[-1.03250563  0.05885367]\n",
      "  [ 1.7567343   0.26082569]\n",
      "  [ 0.71200134  0.84815414]]\n",
      "\n",
      " [[ 0.62914271  0.16752895]\n",
      "  [ 1.64863305 -0.76674934]\n",
      "  [-0.1629912  -0.66617969]]\n",
      "\n",
      " [[ 0.08271661 -0.9840397 ]\n",
      "  [ 1.56868428 -0.17532278]\n",
      "  [ 0.02392696 -1.25558974]]\n",
      "\n",
      " [[-0.71543782  1.20129121]\n",
      "  [-1.03799418  0.17774406]\n",
      "  [ 2.91050377 -0.53173857]]], type: <class 'numpy.ndarray'>, shape: (4, 3, 2)\n"
     ]
    }
   ],
   "source": [
    "print(\"# Без указания аргументов возвращает единственное число базового типа float\")\n",
    "print(f'np.random.randn(): {np.random.randn()}, type: {type(np.random.randn())}')\n",
    "\n",
    "print(\"\\n# Чтобы создать ndarray в качестве аргументов передаётся его shape\")\n",
    "print(f'np.random.randn(1, 2, 3, 4): \\n{np.random.randn(1, 2, 3, 4)}, type: {type(np.random.randn(1, 2, 3, 4))}, shape: {np.random.randn(1, 2, 3, 4).shape}')\n",
    "\n",
    "print(\"\\n# То же самое, только через кортеж:\")\n",
    "shape = (4, 3, 2)\n",
    "print(f'np.random.randn(*shape): \\n{np.random.randn(*shape)}, type: {type(np.random.randn(*shape))}, shape: {np.random.randn(*shape).shape}')"
   ]
  },
  {
   "cell_type": "markdown",
   "metadata": {},
   "source": [
    "### np.rand.rand()\n",
    "Работает точно так же, как и `np.random.randn()`, только генерирует числа по равномерному закону распределения"
   ]
  },
  {
   "cell_type": "code",
   "execution_count": 15,
   "metadata": {},
   "outputs": [
    {
     "name": "stdout",
     "output_type": "stream",
     "text": [
      "np.random.rand(): 0.07794029029661242, type: <class 'float'>\n",
      "\n",
      "np.random.rand(*shape): \n",
      "[[[0.46358098 0.49228981 0.95181793 0.97221682]\n",
      "  [0.10919843 0.31814402 0.83748991 0.429213  ]\n",
      "  [0.33763274 0.83188907 0.80833906 0.21369516]]\n",
      "\n",
      " [[0.79804046 0.01734892 0.45986784 0.92847836]\n",
      "  [0.03391777 0.66388175 0.55607866 0.23003651]\n",
      "  [0.38771649 0.43299606 0.74759785 0.76159552]]], type: <class 'numpy.ndarray'>, shape: (2, 3, 4)\n"
     ]
    }
   ],
   "source": [
    "print(f'np.random.rand(): {np.random.rand()}, type: {type(np.random.rand())}')\n",
    "\n",
    "\n",
    "shape = (2, 3, 4)\n",
    "print(f'\\nnp.random.rand(*shape): \\n{np.random.rand(*shape)}, type: {type(np.random.rand(*shape))}, shape: {np.random.rand(*shape).shape}')"
   ]
  },
  {
   "cell_type": "markdown",
   "metadata": {},
   "source": [
    "### np.random.randint()"
   ]
  },
  {
   "cell_type": "code",
   "execution_count": 16,
   "metadata": {},
   "outputs": [
    {
     "name": "stdout",
     "output_type": "stream",
     "text": [
      "# Если randint вызывается с единственным аргументом N, функция вернёт единственный базовый int из области [0, N)\n",
      "np.random.randint(100): 49, type: <class 'int'>\n",
      "\n",
      "# Если передать два аргумента M и N, функция вернёт единственный базовый int из области [M, N)\n",
      "np.random.randint(90, 100): 78, type: <class 'int'>\n",
      "\n",
      "# А вот если третьим аргументом передать размер, то получим ndarray:\n",
      "np.random.randint(90, 100, 10): \n",
      "[96 91 99 93 93 98 96 91 92 90], type: <class 'numpy.ndarray'>\n",
      "\n",
      "# Однако, в отличии от предыдущих двух функций, здесь под размер отведён единственный аргумент. Поэтому, многомерный массив получаем передачай tuple:\n",
      "np.random.randint(0, 10, (3, 3)): \n",
      "[[1 2 7]\n",
      " [5 9 4]\n",
      " [5 9 3]]\n",
      "\n",
      "# Необязательно передавать три значения чтобы задать размер. Аргумент size можно указать явно.\n",
      "# Такая запись эквивалентна np.random.randint(0, 100, 10)\n",
      "np.random.randint(100, size=10): \n",
      "[48 44  9 16 85 12 33 43 57  4], type: <class 'numpy.ndarray'>\n"
     ]
    }
   ],
   "source": [
    "print(\"# Если randint вызывается с единственным аргументом N, функция вернёт единственный базовый int из области [0, N)\")\n",
    "print(f'np.random.randint(100): {np.random.randint(100)}, type: {type(np.random.randint(100))}')\n",
    "\n",
    "print(\"\\n# Если передать два аргумента M и N, функция вернёт единственный базовый int из области [M, N)\")\n",
    "print(f'np.random.randint(90, 100): {np.random.randint(100)}, type: {type(np.random.randint(100))}')\n",
    "\n",
    "\n",
    "print('\\n# А вот если третьим аргументом передать размер, то получим ndarray:')\n",
    "print(f'np.random.randint(90, 100, 10): \\n{np.random.randint(90, 100, 10)}, type: {type(np.random.randint(90, 100, 10))}')\n",
    "print('\\n# Однако, в отличии от предыдущих двух функций, здесь под размер отведён единственный аргумент. Поэтому, многомерный массив получаем передачай tuple:')\n",
    "print(f'np.random.randint(0, 10, (3, 3)): \\n{np.random.randint(0, 10, (3, 3))}')\n",
    "\n",
    "print(f'\\n# Необязательно передавать три значения чтобы задать размер. Аргумент size можно указать явно.')\n",
    "print('# Такая запись эквивалентна np.random.randint(0, 100, 10)')\n",
    "print(f'np.random.randint(100, size=10): \\n{np.random.randint(100, size=10)}, type: {type(np.random.randint(100, size=10))}')\n"
   ]
  }
 ],
 "metadata": {
  "kernelspec": {
   "display_name": "Python 3 (ipykernel)",
   "language": "python",
   "name": "python3"
  },
  "language_info": {
   "codemirror_mode": {
    "name": "ipython",
    "version": 3
   },
   "file_extension": ".py",
   "mimetype": "text/x-python",
   "name": "python",
   "nbconvert_exporter": "python",
   "pygments_lexer": "ipython3",
   "version": "3.9.12"
  }
 },
 "nbformat": 4,
 "nbformat_minor": 2
}
