{
 "cells": [
  {
   "cell_type": "markdown",
   "metadata": {},
   "source": [
    "# Списки (list)\n",
    "Списки в Python - упорядоченные изменяемые коллекции объектов произвольных типов. Почти как знакомый вас по С++ массив, но типы хранимых объектов могут быть различными и списки по умолчанию динамические. Характеризуются типом данных `list` и квадртаными скобками `[]`.\n",
    "\n",
    "---\n",
    "## Создание\n",
    "\n",
    "Задать список можно явным образом: заключаем элементы в квадратных и перечисляем их через запятую."
   ]
  },
  {
   "cell_type": "code",
   "execution_count": null,
   "metadata": {},
   "outputs": [],
   "source": [
    "L1 = [1, 2, 3]\n",
    "print('L1:', L1)"
   ]
  },
  {
   "cell_type": "markdown",
   "metadata": {},
   "source": [
    "Или добавлением значений в пустой список. Пустой список задаётся просто квадратными скобками `[]` или конструктором класса `list()`. Элементы добавляются в конце списка при помощи метода `list.append()`:"
   ]
  },
  {
   "cell_type": "code",
   "execution_count": null,
   "metadata": {},
   "outputs": [],
   "source": [
    "L1 = []\n",
    "L1.append(1)\n",
    "L1.append(4)\n",
    "L1.append(9)\n",
    "\n",
    "L2 = list()\n",
    "L2.append('x')\n",
    "L2.append('y')\n",
    "L2.append('z')\n",
    "\n",
    "print('L1:', L1)\n",
    "print('L2:', L2)"
   ]
  },
  {
   "cell_type": "markdown",
   "metadata": {},
   "source": [
    "Добавлять, разумеется можно и к изначально непустому списку:"
   ]
  },
  {
   "cell_type": "code",
   "execution_count": null,
   "metadata": {},
   "outputs": [],
   "source": [
    "L1 = [1, 2, 3]\n",
    "L1.append(4)\n",
    "\n",
    "print('L1:', L1)"
   ]
  },
  {
   "cell_type": "markdown",
   "metadata": {},
   "source": [
    "И, как было сказанно ранее, в одном списке можно хранить объекты любых типов:"
   ]
  },
  {
   "cell_type": "code",
   "execution_count": null,
   "metadata": {},
   "outputs": [],
   "source": [
    "L1 = [1, 2, 3]\n",
    "\n",
    "L1.append(\"Мир\")\n",
    "L1.append(\"Труд\")\n",
    "L1.append(\"Май\")\n",
    "\n",
    "print('L1:', L1)"
   ]
  },
  {
   "cell_type": "markdown",
   "metadata": {},
   "source": [
    "Список может хранить даже другие списки:"
   ]
  },
  {
   "cell_type": "code",
   "execution_count": null,
   "metadata": {},
   "outputs": [],
   "source": [
    "L1 = [1, 2, 3]\n",
    "L2 = [4, 5, 6]\n",
    "L3 = [L1, L2]\n",
    "\n",
    "print('L1:', L1)\n",
    "print('L2:', L2)\n",
    "print('L3:', L3)"
   ]
  },
  {
   "cell_type": "markdown",
   "metadata": {},
   "source": [
    "Так же списки можно создавать сложением существующих списков:"
   ]
  },
  {
   "cell_type": "code",
   "execution_count": null,
   "metadata": {},
   "outputs": [],
   "source": [
    "L1 = []\n",
    "L1.append(1)\n",
    "L1.append(4)\n",
    "L1.append(9)\n",
    "\n",
    "L2 = list()\n",
    "L2.append('x')\n",
    "L2.append('y')\n",
    "L2.append('z')\n",
    "\n",
    "L3 = L1 + L2\n",
    "L4 = L2 + L1\n",
    "\n",
    "print('L1:', L1)\n",
    "print('L2:', L2)\n",
    "print('L3 = L1 + L2:', L3)\n",
    "print('L4 = L2 + L1:', L4)"
   ]
  },
  {
   "cell_type": "markdown",
   "metadata": {},
   "source": [
    "Списки так же можно создавать передав в констурктор класса `list()` любые итерируемые объекты (об этом дальше). Пока для наших целей будем пользоваться специальным объектом python `range(N)`, который создаёт итератор от `0` до `N-1`. Если передать его в конструтор класса `list()` (или, как говорят, обернуть в список) то получим список, содержащий числа от `0 ` до `N-1`"
   ]
  },
  {
   "cell_type": "code",
   "execution_count": null,
   "metadata": {},
   "outputs": [],
   "source": [
    "L1 = list(range(10))\n",
    "print('list(range(10)) =', L1)"
   ]
  },
  {
   "cell_type": "markdown",
   "metadata": {},
   "source": [
    "---\n",
    "## Индексы и срезы:\n",
    "\n",
    "Для того, чтобы обратиться к i-ому элементу списка используются квадратные скобки после переменной. Индексация начинается с нуля:"
   ]
  },
  {
   "cell_type": "code",
   "execution_count": null,
   "metadata": {},
   "outputs": [],
   "source": [
    "L1 = ['x', 'y', 'z']\n",
    "\n",
    "print('L1 =', L1)\n",
    "print('L1[0] =', L1[0])"
   ]
  },
  {
   "cell_type": "markdown",
   "metadata": {},
   "source": [
    "Тут всё как в C++. Однако, списки в python поддерживают индексацию в обратном порядке. Для этого используются отрицательные индексы. Важный момент - индексация с конца начинается с `-1`:"
   ]
  },
  {
   "cell_type": "code",
   "execution_count": null,
   "metadata": {},
   "outputs": [],
   "source": [
    "L1 = ['x', 'y', 'z']\n",
    "\n",
    "print('L1 =', L1)\n",
    "print('L1[-1] =', L1[-1])\n",
    "print('L1[-2] =', L1[-2])"
   ]
  },
  {
   "cell_type": "markdown",
   "metadata": {},
   "source": [
    "Так же индексировать можно специальными объектами типа `slice` - срезами.\n",
    "\n",
    "Объекты типа `slice` задаются в самом общем виде следующим образом: `откуда:докуда:шаг`. Их значения по умолчанию: `0:размер_массива:1`.\n",
    "\n",
    "При выборе границ среза **важно помнить**:\n",
    "* **откуда** указывается **включительно**\n",
    "* **докуда** указывается **не включительно**. "
   ]
  },
  {
   "cell_type": "code",
   "execution_count": null,
   "metadata": {},
   "outputs": [],
   "source": [
    "L1 = list(range(10))\n",
    "\n",
    "print('L1 =', L1)\n",
    "print('')\n",
    "print('L1[1] =', L1[1])\n",
    "print('L1[5] =', L1[5])\n",
    "print('L1[1:5] =', L1[1:5], \"<--- L1[5] НЕ вошёл\")"
   ]
  },
  {
   "cell_type": "markdown",
   "metadata": {},
   "source": [
    "А теперь пример использования шага в срезах. Например, мы хотим вывести элементы, стоящие на нечётных позициях:"
   ]
  },
  {
   "cell_type": "code",
   "execution_count": null,
   "metadata": {},
   "outputs": [],
   "source": [
    "L1 = list(range(10))\n",
    "\n",
    "print('L1 =', L1)\n",
    "print('L1[1::2] =', L1[1::2], \"<--- пропустили верхнюю границу в срезе - пошли до конца\")"
   ]
  },
  {
   "cell_type": "markdown",
   "metadata": {},
   "source": [
    "Подробнее со срезами мы познакомимся на лекции, посвящённой массивам библиотеки `numpy`"
   ]
  },
  {
   "cell_type": "markdown",
   "metadata": {},
   "source": [
    "---\n",
    "## Список - это ссылка! И это важно.\n",
    "### (Серьёзно, важный пункт)\n",
    "\n",
    "Объект типа `list` - ссылочный. И копирование такого объекта - копирование ссылки. Из-за этого можно неожиданно подорваться:"
   ]
  },
  {
   "cell_type": "code",
   "execution_count": null,
   "metadata": {},
   "outputs": [],
   "source": [
    "L1 = ['x', 'y', 'z']\n",
    "L2 = L1\n",
    "\n",
    "print('L1:', L1)\n",
    "print('L2:', L2)"
   ]
  },
  {
   "cell_type": "markdown",
   "metadata": {},
   "source": [
    "Пока всё нормально. Однако:"
   ]
  },
  {
   "cell_type": "code",
   "execution_count": null,
   "metadata": {},
   "outputs": [],
   "source": [
    "L1 = ['x', 'y', 'z']\n",
    "L2 = L1\n",
    "\n",
    "L2.append('w')  # Простите, опоздал, говорит\n",
    "\n",
    "print('L1:', L1, '<--- L1 мы НЕ изменяли. :thinkin:')\n",
    "print('L2:', L2)"
   ]
  },
  {
   "cell_type": "markdown",
   "metadata": {},
   "source": [
    "Потому, что при копировании такой переменной происходит копирование ссылки. Чтобы это обнаружить - применим функцию ядра Python `id()`, которая возвращает адрес переменой в памяти. `hex()` переводит адрес в шестнадцатеричный формат."
   ]
  },
  {
   "cell_type": "code",
   "execution_count": null,
   "metadata": {},
   "outputs": [],
   "source": [
    "I1 = 4\n",
    "I2 = I1\n",
    "I2 += 4\n",
    "\n",
    "L1 = [4]\n",
    "L2 = L1\n",
    "L2.append(8)\n",
    "\n",
    "print(f'I1 = {I1}, hex(id(I1)) = {hex(id(I1))}')\n",
    "print(f'I2 = {I2}, hex(id(I2)) = {hex(id(I2))}')\n",
    "\n",
    "print(f'\\nL1 = {L1}, hex(id(L1)) = {hex(id(L1))}')\n",
    "print(f'L2 = {L2}, hex(id(L2)) = {hex(id(L2))}')"
   ]
  },
  {
   "cell_type": "markdown",
   "metadata": {},
   "source": [
    "Если очень хочется скопировать массив можно воспользоваться модулем `copy`. *Подробнее модули мы обсудим чуть дальше.*"
   ]
  },
  {
   "cell_type": "code",
   "execution_count": null,
   "metadata": {},
   "outputs": [],
   "source": [
    "from copy import deepcopy\n",
    "\n",
    "L1 = ['x', 'y', 'z']\n",
    "L2 = deepcopy(L1)\n",
    "\n",
    "L2.append('w')\n",
    "\n",
    "print('L1:', L1, '<--- А сейчас всё в порядке')\n",
    "print('L2:', L2)"
   ]
  },
  {
   "cell_type": "markdown",
   "metadata": {},
   "source": [
    "---\n",
    "## Методы списков\n",
    "### Длина (len)\n",
    "Что характеризует список в первую очередь (помимо его содержания)? Разумеется, его длина. Python красив и универсален и содержит в ядре функцию `len()`, которая возвращает длину любой коллекции:"
   ]
  },
  {
   "cell_type": "code",
   "execution_count": null,
   "metadata": {},
   "outputs": [],
   "source": [
    "L1 = list(range(10))\n",
    "\n",
    "print('L1 =', L1)\n",
    "print('len(L1) =', len(L1))"
   ]
  },
  {
   "cell_type": "markdown",
   "metadata": {},
   "source": [
    "Пытливый и искушённый читатель спросит \"Любой коллекции или любой встроенной?\". Ответ на этот вопрос - если вы реализуете свою коллекцию, потрудитесь определить в ней метод `collection.__len__()`, который будет содержать в себе информацию о длине коллекции. Именно оттуда берёт информацию функция `len()`:"
   ]
  },
  {
   "cell_type": "code",
   "execution_count": null,
   "metadata": {},
   "outputs": [],
   "source": [
    "L1 = list(range(10))\n",
    "\n",
    "print('L1 =', L1)\n",
    "print('L1.__len__() =', L1.__len__())"
   ]
  },
  {
   "cell_type": "markdown",
   "metadata": {},
   "source": [
    "### Сумма (sum)\n",
    "Так же для коллекций в ядре реализована функция `sum()`, которая складывает все элементы:"
   ]
  },
  {
   "cell_type": "code",
   "execution_count": null,
   "metadata": {},
   "outputs": [],
   "source": [
    "L1 = list(range(10))\n",
    "\n",
    "print('L1 =', L1)\n",
    "print('sum(L1) =', sum(L1))"
   ]
  },
  {
   "cell_type": "markdown",
   "metadata": {},
   "source": [
    "## Добавление значений (append, extend, insert):\n",
    "С методом `list.append()` мы уже познакомились. Он просто добавляет в конец списка элемент. Метод `list.extend()` добавляет *элементы другого списка* в конец данного:"
   ]
  },
  {
   "cell_type": "code",
   "execution_count": null,
   "metadata": {},
   "outputs": [],
   "source": [
    "L1 = [1, 2, 3]\n",
    "L2 = ['x', 'y', 'z']\n",
    "\n",
    "print('До extend:')\n",
    "print('L1:', L1)\n",
    "print('L2:', L2)\n",
    "\n",
    "L1.extend(L2)\n",
    "print('\\nПосле extend:')\n",
    "print('L1:', L1)"
   ]
  },
  {
   "cell_type": "markdown",
   "metadata": {},
   "source": [
    "Вопрос на засыпку: *в чём разница между `L1.extend(L2)` и `L1 + L2`?*\n",
    "\n",
    "В чём разница с append? Наглядный пример:"
   ]
  },
  {
   "cell_type": "code",
   "execution_count": null,
   "metadata": {},
   "outputs": [],
   "source": [
    "L1 = [1, 2, 3]\n",
    "L2 = [1, 2, 3]\n",
    "L3 = ['x', 'y', 'z']\n",
    "\n",
    "L1.append(L3)\n",
    "L2.extend(L3)\n",
    "\n",
    "print('L1 (append):', L1)\n",
    "print('L2 (extend):', L2)\n",
    "\n",
    "print('')\n",
    "print('L1[3] =', L1[3])\n",
    "print('L2[3] =', L2[3])"
   ]
  },
  {
   "cell_type": "markdown",
   "metadata": {},
   "source": [
    "Метод `list.insert(i, a)` позволяет вставить элемент `a` на позицию `i`:"
   ]
  },
  {
   "cell_type": "code",
   "execution_count": null,
   "metadata": {},
   "outputs": [],
   "source": [
    "L1 = [1, 2, 3]\n",
    "L1.insert(1, 'Здравствуйте, меня зовут Юлиана, я представитель компании Орифлэйм')\n",
    "print('L1:', L1)"
   ]
  },
  {
   "cell_type": "markdown",
   "metadata": {},
   "source": [
    "## Изменение порядка значений (sort, reverse)\n",
    "\n",
    "А ещё списки можно разворачивать `list.reverse()` и сортировать `list.sort()`, если это возможно. Рубрика \"вопрос на засыпку\": *когда невозможно отсортировать список?* Рубрика \"подсказка на вопрос на засыпку\": *связанно с особенностью списков python, которая отличает их от массивов С++*"
   ]
  },
  {
   "cell_type": "code",
   "execution_count": null,
   "metadata": {},
   "outputs": [],
   "source": [
    "L1 = [1, 2, 3]\n",
    "L2 = [9, 2, 8]\n",
    "\n",
    "print('L1:', L1)\n",
    "print('L2:', L2)\n",
    "\n",
    "L1.reverse()\n",
    "L2.sort()\n",
    "\n",
    "print('\\nL1 (reverse):', L1)\n",
    "print('L2 (sort):', L2)"
   ]
  },
  {
   "cell_type": "markdown",
   "metadata": {},
   "source": [
    "Методы `list.reverse()` и `list.sort()` изменяют исходный список. Однако, существуют методы, которые создают новый развёрнутый список и новый отсортированный. Это функции ядра python `reversed()` и `sorted()` соответственно. Однако первый возвращает не список, но итератор. Список из него можно получить обернув в `list()`:"
   ]
  },
  {
   "cell_type": "code",
   "execution_count": 1,
   "metadata": {},
   "outputs": [
    {
     "name": "stdout",
     "output_type": "stream",
     "text": [
      "L1: [1, 2, 3]\n",
      "L2: [9, 2, 8]\n",
      "\n",
      "reversed(L1): <list_reverseiterator object at 0x7f3954316e80> <-- Итератор\n",
      "list(reversed(L1)): [3, 2, 1] <-- А вот это уже новый список\n",
      "sorted(L2): [2, 8, 9]\n",
      "\n",
      "L1: [1, 2, 3]\n",
      "L2: [9, 2, 8] <-- Остались нетронутыми\n"
     ]
    }
   ],
   "source": [
    "L1 = [1, 2, 3]\n",
    "L2 = [9, 2, 8]\n",
    "\n",
    "print('L1:', L1)\n",
    "print('L2:', L2)\n",
    "\n",
    "print('\\nreversed(L1):', reversed(L1), '<-- Итератор')\n",
    "print('list(reversed(L1)):', list(reversed(L1)), '<-- А вот это уже новый список')\n",
    "print('sorted(L2):', sorted(L2))\n",
    "\n",
    "print('\\nL1:', L1)\n",
    "print('L2:', L2, '<-- Остались нетронутыми')"
   ]
  },
  {
   "cell_type": "markdown",
   "metadata": {},
   "source": [
    "### Проверка на вхождение\n",
    "\n",
    "Чтобы проверить, входит ли элемент в список можно воспользоваться оператором `in`:"
   ]
  },
  {
   "cell_type": "code",
   "execution_count": 12,
   "metadata": {},
   "outputs": [
    {
     "name": "stdout",
     "output_type": "stream",
     "text": [
      "L1 = [1, 2, 3]\n",
      "\n",
      "2 in L1 = True\n",
      "4 in L1 = False\n"
     ]
    }
   ],
   "source": [
    "L1 = [1, 2, 3]\n",
    "\n",
    "print('L1 =', L1)\n",
    "print('\\n2 in L1 =', 2 in L1)\n",
    "print('4 in L1 =', 4 in L1)"
   ]
  },
  {
   "cell_type": "markdown",
   "metadata": {},
   "source": [
    "### Подсчёт вхождений\n",
    "\n",
    "Метод `list.count()` позволяет вычислить не только факт вхождения, а ещё и количество таких элементов в списке:"
   ]
  },
  {
   "cell_type": "code",
   "execution_count": 17,
   "metadata": {},
   "outputs": [
    {
     "name": "stdout",
     "output_type": "stream",
     "text": [
      "L = [1, 2, 2, 3, 3]\n",
      "\n",
      "L.count(3) = 2\n",
      "L.count(4) = 0\n"
     ]
    }
   ],
   "source": [
    "L = [1, 2, 2, 3, 3]\n",
    "print('L =', L)\n",
    "print('\\nL.count(3) =', L.count(3))\n",
    "print('L.count(4) =', L.count(4))"
   ]
  }
 ],
 "metadata": {
  "kernelspec": {
   "display_name": "Python 3",
   "language": "python",
   "name": "python3"
  },
  "language_info": {
   "codemirror_mode": {
    "name": "ipython",
    "version": 3
   },
   "file_extension": ".py",
   "mimetype": "text/x-python",
   "name": "python",
   "nbconvert_exporter": "python",
   "pygments_lexer": "ipython3",
   "version": "3.7.4"
  }
 },
 "nbformat": 4,
 "nbformat_minor": 2
}
