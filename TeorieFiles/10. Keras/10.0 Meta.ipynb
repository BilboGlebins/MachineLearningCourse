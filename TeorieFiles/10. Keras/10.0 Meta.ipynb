{
 "cells": [
  {
   "cell_type": "markdown",
   "metadata": {},
   "source": [
    "# TensorFlow\n",
    "\n",
    "Поскольку мы будем работать в Google Colab, нам придётся использовать гугловский же фреймворк для машинного обучения - TensorFlow. Он имеет мощную реализацию вычислений с использованием GPU и TPU (Tensor Process Unit, специальная железка для нейросетей, разработанная гуглом). Имеет API для Python, однако использование его в чистом виде - отдельный вид прекрасного, поэтому мы будем пользоваться Keras, который является надстройкой над TensorFlow\n",
    "\n",
    "# Keras\n",
    "\n",
    "В отличии от чистого TensorFlow, Keras предоставляет высокуровневый, абстрактный, более интуивно понятный интерфейс для имплементации ИНС. Так же он сразу содержит в себе всё, что требуется в большинстве случаев: регуляризаторы, оптимизаторы, функции потерь, производительные загрузчики данных, аугментаторы и многое другое. Производительность нисколько не страдает, поскольку в качестве бэкэнда эффективно используется TensorFlow."
   ]
  }
 ],
 "metadata": {
  "kernelspec": {
   "display_name": "Python 3",
   "language": "python",
   "name": "python3"
  },
  "language_info": {
   "codemirror_mode": {
    "name": "ipython",
    "version": 3
   },
   "file_extension": ".py",
   "mimetype": "text/x-python",
   "name": "python",
   "nbconvert_exporter": "python",
   "pygments_lexer": "ipython3",
   "version": "3.6.8"
  }
 },
 "nbformat": 4,
 "nbformat_minor": 2
}
