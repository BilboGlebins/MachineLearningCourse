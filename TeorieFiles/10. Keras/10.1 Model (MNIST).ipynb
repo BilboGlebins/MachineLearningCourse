{
 "cells": [
  {
   "cell_type": "markdown",
   "metadata": {},
   "source": [
    "# Создание и обучение нейросети в Keras\n",
    "\n",
    "И вот мы дошли до точки перехода от теории к практике. Соберём и обучим нейросеть на датасете MNIST для распознавания рукописных цифр."
   ]
  },
  {
   "cell_type": "markdown",
   "metadata": {},
   "source": [
    "## MNIST\n",
    "\n",
    "MNIST - классический датасет для задачи классификации. Состоит из набора чёрно-белых изображений (28х28) с рукописными цифрами. Всего получается 10 классов (логишно). Чтобы подгрузить MNIST достаточно выполнить код:\n",
    "\n",
    "```Python\n",
    "from keras.datasets import mnist\n",
    "(x_train, y_train), (x_test, y_test) = mnist.load_data()\n",
    "```"
   ]
  },
  {
   "cell_type": "code",
   "execution_count": 1,
   "metadata": {},
   "outputs": [
    {
     "name": "stderr",
     "output_type": "stream",
     "text": [
      "/home/dmitry/.pyenv/versions/3.6.4/lib/python3.6/site-packages/h5py-2.7.1-py3.6-linux-x86_64.egg/h5py/__init__.py:36: FutureWarning: Conversion of the second argument of issubdtype from `float` to `np.floating` is deprecated. In future, it will be treated as `np.float64 == np.dtype(float).type`.\n",
      "  from ._conv import register_converters as _register_converters\n",
      "Using TensorFlow backend.\n"
     ]
    },
    {
     "data": {
      "text/plain": [
       "<Figure size 2000x1200 with 15 Axes>"
      ]
     },
     "metadata": {},
     "output_type": "display_data"
    }
   ],
   "source": [
    "import matplotlib.pyplot as plt\n",
    "from keras.datasets import mnist\n",
    "\n",
    "(x_train, y_train), (x_test, y_test) = mnist.load_data()\n",
    "\n",
    "fig, axes = plt.subplots(3, 5, figsize=(20, 12));\n",
    "for i, ax in enumerate(axes.ravel()):\n",
    "    ax.imshow(x_train[i], cmap='gray_r')\n",
    "\n",
    "plt.show();"
   ]
  },
  {
   "cell_type": "markdown",
   "metadata": {},
   "source": [
    "## Создание модели (Sequential)\n",
    "\n",
    "Первый способ создания модели - это Sequential. Такая модель представляет собой просто последовательное соединение слоёв, один за другим. Со вторым способом задания модели познакомимся в главе про свёрточные сети. \n",
    "\n",
    "Чтобы собрать Sequential модель нужно создать объект типа `keras.models.Sequential` и последовательно добавлять слои и активации:"
   ]
  },
  {
   "cell_type": "code",
   "execution_count": 23,
   "metadata": {},
   "outputs": [
    {
     "name": "stdout",
     "output_type": "stream",
     "text": [
      "Train on 60000 samples, validate on 10000 samples\n",
      "Epoch 1/10\n",
      "60000/60000 [==============================] - 3s 46us/step - loss: 0.3019 - categorical_accuracy: 0.9087 - val_loss: 0.1460 - val_categorical_accuracy: 0.9562\n",
      "Epoch 2/10\n",
      "60000/60000 [==============================] - 3s 43us/step - loss: 0.1844 - categorical_accuracy: 0.9435 - val_loss: 0.1334 - val_categorical_accuracy: 0.9580\n",
      "Epoch 3/10\n",
      "60000/60000 [==============================] - 3s 44us/step - loss: 0.1570 - categorical_accuracy: 0.9524 - val_loss: 0.1157 - val_categorical_accuracy: 0.9632\n",
      "Epoch 4/10\n",
      "60000/60000 [==============================] - 3s 42us/step - loss: 0.1383 - categorical_accuracy: 0.9563 - val_loss: 0.1168 - val_categorical_accuracy: 0.9673\n",
      "Epoch 5/10\n",
      "60000/60000 [==============================] - 3s 43us/step - loss: 0.1280 - categorical_accuracy: 0.9590 - val_loss: 0.1038 - val_categorical_accuracy: 0.9712\n",
      "Epoch 6/10\n",
      "60000/60000 [==============================] - 3s 42us/step - loss: 0.1199 - categorical_accuracy: 0.9623 - val_loss: 0.1071 - val_categorical_accuracy: 0.9687\n",
      "Epoch 7/10\n",
      "60000/60000 [==============================] - 3s 42us/step - loss: 0.1129 - categorical_accuracy: 0.9643 - val_loss: 0.1012 - val_categorical_accuracy: 0.9726\n",
      "Epoch 8/10\n",
      "60000/60000 [==============================] - 3s 42us/step - loss: 0.1112 - categorical_accuracy: 0.9647 - val_loss: 0.1118 - val_categorical_accuracy: 0.9701\n",
      "Epoch 9/10\n",
      "60000/60000 [==============================] - 2s 41us/step - loss: 0.1046 - categorical_accuracy: 0.9663 - val_loss: 0.1013 - val_categorical_accuracy: 0.9717\n",
      "Epoch 10/10\n",
      "60000/60000 [==============================] - 3s 44us/step - loss: 0.1019 - categorical_accuracy: 0.9673 - val_loss: 0.1022 - val_categorical_accuracy: 0.9727\n"
     ]
    }
   ],
   "source": [
    "import numpy as np\n",
    "\n",
    "from keras.models import Sequential\n",
    "from keras.layers import Dense, Activation, Dropout\n",
    "from keras.datasets import mnist\n",
    "from keras.optimizers import SGD, Adam\n",
    "from keras.losses import categorical_crossentropy\n",
    "from keras.metrics import categorical_accuracy\n",
    "\n",
    "# Поскольку у сети 10 выходов, необходимо вектор из N ответа представить в виде [N, 10]. Такое кодирование называется One Hot Encoding (OHE). \n",
    "# Например, в случае трёх признаков вектор ответов [0, 2, 1] превратится в [[1, 0, 0], [0, 0, 1], [0, 1, 0]].\n",
    "def OHE(x):\n",
    "    y = np.zeros(shape=(x.size, 10))\n",
    "    y[np.arange(x.size), x] = 1\n",
    "    return y\n",
    "\n",
    "# Подгружаем датасет\n",
    "(x_train, y_train), (x_test, y_test) = mnist.load_data()\n",
    "\n",
    "# И начинаем собирать модель:\n",
    "model = Sequential()\n",
    "\n",
    "# Добавляем первый полносвязный слой. \n",
    "model.add(Dense(units=64,  # Количество нейронов слоя\n",
    "                input_dim=28*28,  # Не забываем для первого слоя явно указать размер входного вектора. \n",
    "                kernel_initializer='he_normal', # И про инициализацию весов.\n",
    "                use_bias=True)) # Можем добавить нейрон смещения\n",
    "model.add(Activation('relu'))  # Так же не забываем про активационную функцию\n",
    "model.add(Dropout(0.2))  # Добавим Dropout чтобы не оверфитнуться\n",
    "\n",
    "model.add(Dense(10))  # И добавим выходной слой. Количество нейронов должно совпадать с количеством классов.\n",
    "model.add(Activation('softmax'))  # Не забываем про softmax. Без него категориальная кроссэнтропия не работает (см. главу про функции потерь)\n",
    "\n",
    "# Выбираем оптимизатор, функцию потерь и метрики\n",
    "# optimizer = SGD(lr=0.01, momentum=0.8, nesterov=True)\n",
    "optimizer = Adam(lr=0.005, amsgrad=True)\n",
    "loss = categorical_crossentropy\n",
    "metrics = [categorical_accuracy]  # Метрики задаются списком. Стало быть, можно использовать несколько.\n",
    "\n",
    "# После чего собираем модель\n",
    "model.compile(optimizer=optimizer, loss=loss, metrics=metrics)\n",
    "\n",
    "# Осталось подготовить данные:\n",
    "x_train = x_train.reshape(x_train.shape[0], -1)  # Сделаем из картинок плоские вектора\n",
    "x_train = x_train.astype(float) / 255  # Отнормируем вектор признаков от 0 до 1. \n",
    "y_train_OHE = OHE(y_train)  # И закодируем вектор ответов при помощи OHE\n",
    "\n",
    "# Сделаем то же самое с валидационными данными:\n",
    "x_test = x_test.reshape(x_test.shape[0], -1)\n",
    "x_test = x_test.astype(float) / 255\n",
    "y_test_OHE = OHE(y_test)\n",
    "\n",
    "# Всё, модель можно обучать:\n",
    "model.fit(x_train, y_train_OHE, \n",
    "          epochs=10, \n",
    "          batch_size=64, \n",
    "          validation_data=(x_test, y_test_OHE));"
   ]
  },
  {
   "cell_type": "markdown",
   "metadata": {},
   "source": [
    "А теперь пришло время проверить обученную модель и посмотрим на каких примерах модель промахнулась:"
   ]
  },
  {
   "cell_type": "code",
   "execution_count": null,
   "metadata": {},
   "outputs": [],
   "source": [
    "import matplotlib.pyplot as plt\n",
    "(x_train, y_train), (x_test, y_test) = mnist.load_data()\n",
    "\n",
    "# Масштабируем тестовые признаки\n",
    "x_test = x_test.reshape(x_test.shape[0], -1).astype('float')\n",
    "x_test /= 255\n",
    "\n",
    "# Прогоняем новые признаки через сеть методом model.predict()\n",
    "pred = model.predict(x_test)\n",
    "\n",
    "# Выходной вектор выглядит выглядит как [[p_10, p_11, ... p_19], [p_20, p_21, ...], ...[...p_N0]], где p_ij - вероятность пренадлежность объекта i классу j\n",
    "predicted_class = np.argmax(pred, axis=1) # Приведём его к виду [class_1, class_2, ..., class_N]\n",
    "\n",
    "match = predicted_class == y_test # Оценим точность как количество правильно угаданных классов\n",
    "mismatch = ~match\n",
    "\n",
    "print(f'Total mismatches: {mismatch.sum()}; Accuracy = {match.mean() * 100}%')\n",
    "x = x_test[mismatch].reshape(-1, 28, 28)\n",
    "y = y_test[mismatch]\n",
    "p = predicted_class[mismatch]\n",
    "\n",
    "fig, axes = plt.subplots(3, 6, figsize=(24, 12));\n",
    "samples = np.random.choice(np.arange(y.size), axes.size, replace=False)\n",
    "for i, ax in zip(samples, axes.ravel()):\n",
    "    ax.imshow(x[i], cmap='gray_r')\n",
    "    ax.set_title(f'Predicted as {p[i]}. True labels is {y[i]}')\n",
    "    \n",
    "plt.show();"
   ]
  }
 ],
 "metadata": {
  "kernelspec": {
   "display_name": "Python 3",
   "language": "python",
   "name": "python3"
  },
  "language_info": {
   "codemirror_mode": {
    "name": "ipython",
    "version": 3
   },
   "file_extension": ".py",
   "mimetype": "text/x-python",
   "name": "python",
   "nbconvert_exporter": "python",
   "pygments_lexer": "ipython3",
   "version": "3.6.4"
  }
 },
 "nbformat": 4,
 "nbformat_minor": 2
}
