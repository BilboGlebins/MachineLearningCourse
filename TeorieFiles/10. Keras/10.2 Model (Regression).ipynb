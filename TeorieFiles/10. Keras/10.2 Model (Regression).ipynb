{
 "cells": [
  {
   "cell_type": "markdown",
   "metadata": {},
   "source": [
    "# Создание и обучение нейросети в Keras. Задача регрессии.\n",
    "\n",
    "## Boston Housing\n",
    "Для решения задачи регрессии возьмём датасет Boston Housing. В нём в качестве признаков используются описательные и количественные (см. ниже) данные о недвижимости, а в качестве целевой переменной - цена в тысячах долларов.\n",
    "\n",
    "Список признаков:\n",
    "\n",
    "- **crim**: Per capita crime rate by town.\n",
    "- **zn**: Proportion of residential land zoned for lots over 25,000 sq.ft.\n",
    "- **indus**: Proportion of non-retail business acres per town.\n",
    "- **chas**: Charles River dummy variable (= 1 if tract bounds river; 0 otherwise).\n",
    "- **nox**: Nitrogen oxides concentration (parts per 10 million).\n",
    "- **rm**: Average number of rooms per dwelling.\n",
    "- **age**: Proportion of owner-occupied units built prior to 1940.\n",
    "- **dis**: Weighted mean of distances to five Boston employment centres.\n",
    "- **rad**: Index of accessibility to radial highways.\n",
    "- **tax**: Full-value property-tax rate per \\$10,000.\n",
    "- **ptratio**: Pupil-teacher ratio by town.\n",
    "- **black**: 1000(Bk - 0.63)^2 where Bk is the proportion of blacks by town.\n",
    "- **lstat**: Lower status of the population (percent)."
   ]
  },
  {
   "cell_type": "code",
   "execution_count": 15,
   "metadata": {},
   "outputs": [
    {
     "name": "stdout",
     "output_type": "stream",
     "text": [
      "Признаки: [  1.23247   0.        8.14      0.        0.538     6.142    91.7\n",
      "   3.9769    4.      307.       21.      396.9      18.72   ]\n",
      "\n",
      "Ответ: 15.2\n"
     ]
    }
   ],
   "source": [
    "from keras.datasets import boston_housing\n",
    "\n",
    "(x_train, y_train), (x_test, y_test) = boston_housing.load_data()\n",
    "\n",
    "print(f'Признаки: {x_train[0, :]}')\n",
    "print(f'\\nОтвет: {y_train[0]}')"
   ]
  },
  {
   "cell_type": "markdown",
   "metadata": {},
   "source": [
    "Очевидно, что данные нужно нормализовать. Для этого воспользуемся классом `MinMaxScaler` из библиотеки `sklearn.preprocessing`. Он позволяет линейно масштабировать численные признаки в интервал от 0 до 1. Его использование аналогично `LabelEncoder`."
   ]
  },
  {
   "cell_type": "code",
   "execution_count": 24,
   "metadata": {},
   "outputs": [
    {
     "name": "stdout",
     "output_type": "stream",
     "text": [
      "Признаки: [0.01378163 0.         0.28152493 0.         0.31481481 0.49980635\n",
      " 0.91452111 0.29719123 0.13043478 0.22753346 0.89361702 1.\n",
      " 0.46881898]\n",
      "\n",
      "Ответ: 0.22666666666666668\n"
     ]
    }
   ],
   "source": [
    "from sklearn.preprocessing import MinMaxScaler\n",
    "from keras.datasets import boston_housing\n",
    "\n",
    "(x_train, y_train), (x_test, y_test) = boston_housing.load_data()\n",
    "\n",
    "features_encoder, answers_encoder = MinMaxScaler(), MinMaxScaler()\n",
    "features_encoder.fit(x_train), answers_encoder.fit(y_train.reshape(-1, 1));\n",
    "\n",
    "x_train_scaled = features_encoder.transform(x_train)\n",
    "y_train_scaled = answers_encoder.transform(y_train.reshape(-1, 1)).flatten()\n",
    "x_test_scaled = features_encoder.transform(x_test)\n",
    "y_test_scaled = answers_encoder.transform(y_test.reshape(-1, 1)).flatten()\n",
    "\n",
    "print(f'Признаки: {x_train_scaled[0, :]}')\n",
    "print(f'\\nОтвет: {y_train_scaled[0]}')"
   ]
  },
  {
   "cell_type": "code",
   "execution_count": 125,
   "metadata": {},
   "outputs": [],
   "source": [
    "import numpy as np\n",
    "\n",
    "from keras.models import Sequential\n",
    "from keras.layers import Dense, Activation, Dropout, BatchNormalization\n",
    "from keras.datasets import mnist\n",
    "from keras.optimizers import SGD, Adam\n",
    "from keras.losses import logcosh\n",
    "from keras.metrics import MSE, MAE\n",
    "\n",
    "from sklearn.preprocessing import MinMaxScaler\n",
    "from keras.datasets import boston_housing\n",
    "\n",
    "# Подгружаем датасет\n",
    "(x_train, y_train), (x_test, y_test) = boston_housing.load_data()\n",
    "\n",
    "# И начинаем собирать модель:\n",
    "model = Sequential()\n",
    "\n",
    "# Хватит и одного слоя: \n",
    "model.add(Dense(units=32,  \n",
    "                input_dim=x_train.shape[1],\n",
    "                kernel_initializer='he_normal',\n",
    "                use_bias=True))\n",
    "model.add(Activation('relu'))  # Не забываем про активационную функцию\n",
    "model.add(Dropout(0.2))  # И Dropout\n",
    "\n",
    "# Выходной слой состоит из единственного нейрона.\n",
    "# Функцию потерь для лучше выбрать линейной, потому, что, в общем случае, масштаб признаков может оказаться другим.\n",
    "# В таком случае ReLU отсечёт всё, что ниже минимума train, потому, что он масштабируется в 0.\n",
    "model.add(Dense(1))  \n",
    "model.add(Activation('linear'))\n",
    "\n",
    "# Выбираем оптимизатор, функцию потерь и метрики\n",
    "optimizer = Adam(lr=0.005, amsgrad=True, decay=0.01)\n",
    "loss = logcosh\n",
    "metrics = [MSE, MAE]  # Введём сразу две метрики\n",
    "\n",
    "# После чего собираем модель\n",
    "model.compile(optimizer=optimizer, loss=loss, metrics=metrics)\n",
    "\n",
    "# Готовим (масштабируем) данные\n",
    "features_encoder, answers_encoder = MinMaxScaler(), MinMaxScaler()\n",
    "features_encoder.fit(x_train), answers_encoder.fit(y_train.reshape(-1, 1));\n",
    "\n",
    "x_train_scaled = features_encoder.transform(x_train)\n",
    "y_train_scaled = answers_encoder.transform(y_train.reshape(-1, 1)).flatten()\n",
    "x_test_scaled = features_encoder.transform(x_test)\n",
    "y_test_scaled = answers_encoder.transform(y_test.reshape(-1, 1)).flatten()\n",
    "\n",
    "# Всё, модель можно обучать:\n",
    "model.fit(x_train_scaled, y_train_scaled, \n",
    "          epochs=50, \n",
    "          batch_size=8, \n",
    "          validation_data=(x_test_scaled, y_test_scaled), \n",
    "          verbose=False);"
   ]
  },
  {
   "cell_type": "code",
   "execution_count": 129,
   "metadata": {},
   "outputs": [
    {
     "data": {
      "image/png": "[encoded data removed]",
      "text/plain": [
       "<Figure size 1152x576 with 1 Axes>"
      ]
     },
     "metadata": {},
     "output_type": "display_data"
    }
   ],
   "source": [
    "from sklearn.preprocessing import MinMaxScaler\n",
    "from keras.datasets import boston_housing\n",
    "\n",
    "(x_train, y_train), (x_test, y_test) = boston_housing.load_data()\n",
    "\n",
    "features_encoder, answers_encoder = MinMaxScaler(), MinMaxScaler()\n",
    "features_encoder.fit(x_train), answers_encoder.fit(y_train.reshape(-1, 1));\n",
    "\n",
    "x_train_scaled = features_encoder.transform(x_train)\n",
    "y_train_scaled = answers_encoder.transform(y_train.reshape(-1, 1)).flatten()\n",
    "x_test_scaled = features_encoder.transform(x_test)\n",
    "\n",
    "plot = 'test'\n",
    "if plot == 'train':\n",
    "    x, y = x_train_scaled, y_train_scaled\n",
    "    pred = model.predict(x) \n",
    "else:\n",
    "    x, y = x_test_scaled, y_test\n",
    "    pred = model.predict(x_test_scaled)\n",
    "    pred = answers_encoder.inverse_transform(pred.reshape(-1, 1)).flatten()\n",
    "    \n",
    "plt.figure(figsize=(16, 8))\n",
    "plt.scatter(y, pred)\n",
    "plt.plot([0, np.max(y)], [0, np.max(y)], c='r')\n",
    "plt.xlabel('Real price')\n",
    "plt.ylabel('Predicted price');"
   ]
  }
 ],
 "metadata": {
  "kernelspec": {
   "display_name": "Python 3",
   "language": "python",
   "name": "python3"
  },
  "language_info": {
   "codemirror_mode": {
    "name": "ipython",
    "version": 3
   },
   "file_extension": ".py",
   "mimetype": "text/x-python",
   "name": "python",
   "nbconvert_exporter": "python",
   "pygments_lexer": "ipython3",
   "version": "3.6.4"
  }
 },
 "nbformat": 4,
 "nbformat_minor": 2
}
