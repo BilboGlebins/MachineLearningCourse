{
 "cells": [
  {
   "cell_type": "markdown",
   "metadata": {},
   "source": [
    "https://proglib.io/p/fun-nlp/\n"
   ]
  },
  {
   "cell_type": "markdown",
   "metadata": {},
   "source": [
    "# Обработка естественного языка (NLP)\n",
    "\n",
    "Обработкой естественного языка называется активно развивающаяся научная дисциплина, занимающаяся поиском смысла и обучением на основании текстовых данных. Сама дисциплина весьма обширна и использует множество подходов: алгоритмические, статистические, Deep Learning и т.д.. NLP позволяет с переменным успехом решать ряд прикладных задач, таких как:\n",
    "\n",
    "* Информационный поиск\n",
    "* Машинный перевод\n",
    "* Создание диалоговых и вопросно-ответных системы, например Wolfram Alpha\n",
    "* Извлечение информации и автоматическое реферирование\n",
    "* Анализ тональности\n",
    "* Генераторы текста"
   ]
  },
  {
   "cell_type": "markdown",
   "metadata": {},
   "source": [
    "# Главные проблемы NLP\n",
    "\n",
    "Главная трудность, возникающая при решении задач связанных с обработкой текста, это неоднозначность (ambiguity). Значения слова сильно зависят от контекста. Например, "
   ]
  },
  {
   "cell_type": "markdown",
   "metadata": {},
   "source": [
    "# Разделы\n",
    "* Морфология\n",
    "* Синтаксис\n",
    "* Семантика\n"
   ]
  },
  {
   "cell_type": "markdown",
   "metadata": {},
   "source": []
  }
 ],
 "metadata": {
  "kernelspec": {
   "display_name": "Python 3",
   "language": "python",
   "name": "python3"
  },
  "language_info": {
   "codemirror_mode": {
    "name": "ipython",
    "version": 3
   },
   "file_extension": ".py",
   "mimetype": "text/x-python",
   "name": "python",
   "nbconvert_exporter": "python",
   "pygments_lexer": "ipython3",
   "version": "3.6.4"
  }
 },
 "nbformat": 4,
 "nbformat_minor": 2
}
