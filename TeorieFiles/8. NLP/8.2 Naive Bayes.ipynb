{
 "cells": [
  {
   "cell_type": "markdown",
   "metadata": {},
   "source": [
    "# Наивный байесовский классификатор\n",
    "\n",
    "## Теорема Байеса\n",
    "\n",
    "Теорема Байеса в теории вероятностей позволяет оценить вероятность некоторого события $B$ при условии, что произошло некоторое другое, статистически взаимозависимое с ним, событие $A$. В байесианской терминологии события $A$ называются *причинами* или *гипотезами*, а события $B$ - *событиями* или *следствиями*. Иными словами, теорема Байеса позволяет оценить, какова вероятность того, что наблюдаемое событие $B$ было вызвано причиной $A$.\n",
    "Такая вероятность называется условной и записывается в виде $P(B \\mid A)$. \n",
    "\n",
    "Количественно условная вероятность вычисляется через теорему Байеса, которая записывается следующим образом:\n",
    "\n",
    "$$P(A \\mid B) = \\frac{P(B \\mid A)P(A)}{P(B)}, $$\n",
    "где \n",
    "- $P(A \\mid B)$ - апостериорная вероятность, то есть, вероятность того, что наблюдаемое событие $B$ было вызвано причиной $A$\n",
    "- $P(B \\mid A)$ - вероятность того, что причина $A$ приведёт к событию $B$\n",
    "- $P(A)$ - априорная вероятность причины $A$\n",
    "- $P(B)$ - полная вероятность наступления события $B$\n",
    "\n",
    "Сам Байес предлагал использование теоремы для корректировки убеждений, основываясь на обновлённых данных.\n",
    "\n",
    "Давайте рассмотрим пример с Википедии, чтобы закрепить введённые термины параллелями с реалиями.\n",
    "\n",
    "## Применение теоремы Байеса\n",
    "\n",
    "Машина не заводится. Это наблюдаемое событие, $B$. Оценим вероятность того, что это следствие отсутствия бензина в баке, причины $A$. Нужно оценить величины, входящие в формулу теоремы Байеса:\n",
    "- $P(B \\mid A)$ - то есть, вероятность того, что машина не заведётся при условии отсутствия бензина. Очевидно, что численное равна 1.\n",
    "- $P(A)$ - вероятность отсутсвия бензина. Событие маловероятное, но для удобства оценим в 0,1%\n",
    "- $P(B)$ - вероятность того, что машина не заведётся. Скажем, что равна 0,5%.\n",
    "\n",
    "Тогда\n",
    "\n",
    "$$P(A \\mid B) = \\frac{100\\% \\cdot 0.1\\%}{0.5\\%} = 20\\%$$\n",
    "\n"
   ]
  },
  {
   "cell_type": "markdown",
   "metadata": {},
   "source": [
    "## Наивность\n",
    "\n",
    "В задаче классификации при помощи теоремы оценивают $P(C_i \\mid F_1,F_2,...,F_n)$, то есть вероятность принадлежности объекта $i$-му классу при условии наблюдения признаков $F_1,F_2,...,F_n$. Запишем формулу:\n",
    "\n",
    "$$P(C_i \\mid F_1,F_2,...,F_n) = \\frac{P(F_1,F_2,...,F_n \\mid C_i)P(C)}{P(F_1,F_2,...,F_n)}$$\n",
    "\n",
    "Главная проблема в вычисление члена $P(F_1,F_2,...,F_n \\mid C_i)$. Если расписывать его по-честному, предполагая, что признаки взаимозависимы, получится\n",
    "\n",
    "$$P(F_1,F_2,...,F_n \\mid C_i) = P(F_2,...,F_n \\mid C_i, F_1)P(F_1 \\mid C_i) = P(F_3,...,F_n \\mid C_i, F_1, F_2)P(F_1 \\mid C_i)P(F_2 \\mid C_i, F_1) = ...$$\n",
    "\n",
    "Наивное предположение заключается в том, что мы считаем причины $F_1,F_2,...,F_n$ взаимонезависимыми. Тогда вероятность $P(F_1,F_2,...,F_n \\mid C_i)$ представляется в виде $\\prod_{j=1}^{N}P(F_j \\mid C_i)$. Формула приобретает вид:\n",
    "\n",
    "$$P(C_i \\mid F_1,F_2,...,F_n) = \\frac{P(C)\\prod_{j=1}^{N}P(F_j \\mid C_i)}{P(F_1,F_2,...,F_n)} = Z\\cdot P(C)\\prod_{j=1}^{N}P(F_j \\mid C_i),$$\n",
    "\n",
    "поскольку знаменатель не зависит от рассматриваемого класса, его можно заменить константой $\\frac{1}{Z}$.\n",
    "\n",
    "## Оценка параметров\n",
    "\n",
    "Все параметры модели могут быть аппроксимированы относительными частотами из набора данных обучения. Это оценки максимального правдоподобия вероятностей. Непрерывные свойства, как правило, оцениваются через нормальное распределение. В качестве математического ожидания и дисперсии вычисляются статистики — среднее арифметическое и среднеквадратическое отклонение соответственно.\n",
    "\n",
    "Если данный класс и значение свойства никогда не встречаются вместе в наборе обучения, тогда оценка, основанная на вероятностях, будет равна нулю. Это проблема, так как при перемножении нулевая оценка приведет к потере информации о других вероятностях. Поэтому предпочтительно проводить небольшие поправки во все оценки вероятностей так, чтобы никакая вероятность не была строго равна нулю. "
   ]
  },
  {
   "cell_type": "markdown",
   "metadata": {},
   "source": [
    "## Полиномиальный наивный байесовский классификатор\n",
    "\n",
    "Наивное допущение полиномиального классификатора - все наблюдаемые признаки распределены в соответствии с простым полиномиальным распределением. Полиномиальное распределение описывает вероятность наблюдения количеств вхождений в несколько категорий, таким образом, полиномиальный наивный байесовский классификатор лучше всего подходит для признаков, отражающих количество или частоту вхождения. Такой классификатор нередко используется при классификации текста, где признаки соответствуют количеству слов или частотам их употребления в классифицируемых документах.\n",
    "\n",
    "## 20 newsgroup dataset\n",
    "\n",
    "Для построения наивного байесова классификатора воспользуемся датасетом 20 newsgroup. Он представляет собой сборник сообщений из дискуссий по 20 различным тематикам. Построим классификатор, который сможет различать тематику опираясь на текст.\n",
    "\n",
    "Датасет содержится в библиотеке `sklearn.datasets`. Взглянем на него:"
   ]
  },
  {
   "cell_type": "code",
   "execution_count": 8,
   "metadata": {},
   "outputs": [
    {
     "name": "stdout",
     "output_type": "stream",
     "text": [
      "alt.atheism\n",
      "comp.graphics\n",
      "comp.os.ms-windows.misc\n",
      "comp.sys.ibm.pc.hardware\n",
      "comp.sys.mac.hardware\n",
      "comp.windows.x\n",
      "misc.forsale\n",
      "rec.autos\n",
      "rec.motorcycles\n",
      "rec.sport.baseball\n",
      "rec.sport.hockey\n",
      "sci.crypt\n",
      "sci.electronics\n",
      "sci.med\n",
      "sci.space\n",
      "soc.religion.christian\n",
      "talk.politics.guns\n",
      "talk.politics.mideast\n",
      "talk.politics.misc\n",
      "talk.religion.misc\n"
     ]
    }
   ],
   "source": [
    "from sklearn.datasets import fetch_20newsgroups\n",
    "data = fetch_20newsgroups()\n",
    "\n",
    "for name in data.target_names:\n",
    "    print(name)"
   ]
  },
  {
   "cell_type": "markdown",
   "metadata": {},
   "source": [
    "А теперь посмотрим на пример новости:"
   ]
  },
  {
   "cell_type": "code",
   "execution_count": 19,
   "metadata": {},
   "outputs": [
    {
     "name": "stdout",
     "output_type": "stream",
     "text": [
      "Category: comp.os.ms-windows.misc\n",
      "\n",
      "From: csyphers@uafhp..uark.edu (Chris Syphers)\n",
      "Subject: Re: ?? DOS font size in windows??\n",
      "Organization: Kansas State University\n",
      "Lines: 20\n",
      "NNTP-Posting-Host: uafhp.uark.edu\n",
      "\n",
      "ssa@unity.ncsu.edu (S. Alavi) writes:\n",
      "\n",
      "\n",
      ">\tI have an 8514/A card, and I am using windows in 1024x768 mode \n",
      ">\t(normal 8514/A font, not small).  In the 386 enhanced mode\n",
      ">\tthe DOS window font is too small for my 14\" monitor. Is there a \n",
      ">\tway to spacify the font size for the DOS window? You'll have to \n",
      ">\texcuse me if there is a trivial answer, since I am fairly new to\n",
      ">\tMS Windows world.\n",
      "\n",
      ">\tThanks.\n",
      "\n",
      ">\t(Please include this message for reference)\n",
      ">\t======  S. Alavi    [ssa@unity.ncsu.edu]  (919)467-7909 (H)  ========\n",
      ">\t\t\t\t\t\t  (919)515-8063 (W)\n",
      "The control box of the Window itself (upper left corner of the window, single\n",
      "click, am I being too simplistic?) has a font option. The 8 X 12 is about the\n",
      "biggest one I can use without the characters turning funky. \n",
      "\n",
      "Hpoe this helps.\n",
      "\n"
     ]
    }
   ],
   "source": [
    "N = 23\n",
    "cat = data.target_names[data.target[N]]\n",
    "\n",
    "print(f'Category: {cat}\\n')\n",
    "print(data.data[N])"
   ]
  },
  {
   "cell_type": "markdown",
   "metadata": {},
   "source": [
    "### TD-IDF (не путать с TL;DR)\n",
    "\n",
    "Чтобы превратить текст во что-то потребное для восприятия необходимо выполнить преобразования из текста в числа. Воспользуемся метрикой TF-IDF. Эта метрика используется для оценки важности слова в контексте документа, являющегося частью коллекции документов или корпуса. Вес некоторого слова пропорционален частоте употребления этого слова в документе и обратно пропорционален частоте употребления слова во всех документах коллекции.\n",
    "\n",
    "Векторизатор TF-IDF находится в модуле `sklearn.feature_extraction.text`."
   ]
  },
  {
   "cell_type": "code",
   "execution_count": 29,
   "metadata": {},
   "outputs": [
    {
     "name": "stdout",
     "output_type": "stream",
     "text": [
      "type(vectorized_data): <class 'scipy.sparse.csr.csr_matrix'>\n",
      "\n",
      "vectorized_data: \n",
      "  (0, 128420)\t0.04278499079283093\n",
      "  (0, 128402)\t0.05922294083277842\n",
      "  (0, 128026)\t0.060622095889758885\n",
      "  (0, 124931)\t0.08882569909852546\n",
      "  (0, 124031)\t0.10798795154169122\n",
      "  (0, 123989)\t0.08207027465330353\n",
      "  (0, 123984)\t0.036854292634593756\n",
      "  (0, 123796)\t0.049437556160455476\n",
      "  (0, 123292)\t0.14534718515938805\n",
      "  (0, 123162)\t0.2597090245735688\n",
      "  (0, 118983)\t0.037085978050619146\n",
      "  (0, 118280)\t0.2118680720828169\n",
      "  (0, 115475)\t0.042472629883573\n",
      "  (0, 114731)\t0.14447275512784058\n",
      "  (0, 114688)\t0.06214070986309586\n",
      "  (0, 114579)\t0.03671830826216751\n",
      "  (0, 114455)\t0.12287762616208957\n",
      "  (0, 114428)\t0.05511105154696676\n",
      "  (0, 113986)\t0.17691750674853082\n",
      "  (0, 111322)\t0.01915671802495043\n",
      "  (0, 109581)\t0.10809248404447917\n",
      "  (0, 109271)\t0.10844724822064673\n",
      "  (0, 108252)\t0.07526015712540636\n",
      "  (0, 106116)\t0.09869734624201922\n",
      "  (0, 104813)\t0.08462829788929047\n",
      "  :\t:\n",
      "  (11313, 62696)\t0.06213004660468942\n",
      "  (11313, 60910)\t0.34638730155641734\n",
      "  (11313, 60803)\t0.07995422310508192\n",
      "  (11313, 56979)\t0.039703068357897435\n",
      "  (11313, 56283)\t0.02607488632151599\n",
      "  (11313, 55411)\t0.06186613753683744\n",
      "  (11313, 51730)\t0.10067098834752666\n",
      "  (11313, 50527)\t0.05659515244000391\n",
      "  (11313, 47982)\t0.04878764010149915\n",
      "  (11313, 38412)\t0.1036626622028617\n",
      "  (11313, 38329)\t0.3188672316645619\n",
      "  (11313, 38325)\t0.15275412572672764\n",
      "  (11313, 37469)\t0.20012648171635533\n",
      "  (11313, 37413)\t0.16268391686660966\n",
      "  (11313, 33941)\t0.09553399237711814\n",
      "  (11313, 32988)\t0.06639443458516447\n",
      "  (11313, 31386)\t0.11766332475169258\n",
      "  (11313, 30044)\t0.03581554412880591\n",
      "  (11313, 28146)\t0.04703946070749562\n",
      "  (11313, 27696)\t0.1447050212747473\n",
      "  (11313, 25402)\t0.07399132052611829\n",
      "  (11313, 11390)\t0.14229394541348833\n",
      "  (11313, 8653)\t0.19138342755986237\n",
      "  (11313, 4605)\t0.06562288156075428\n",
      "  (11313, 3411)\t0.06958305141739549\n"
     ]
    }
   ],
   "source": [
    "from sklearn.feature_extraction.text import TfidfVectorizer\n",
    "\n",
    "vectorizer = TfidfVectorizer()\n",
    "vectorizer.fit(data.data)\n",
    "vectorized_data = vectorizer.transform(data.data)\n",
    "print(f'type(vectorized_data): {type(vectorized_data)}\\n')\n",
    "print(f'vectorized_data: \\n{vectorized_data}')"
   ]
  },
  {
   "cell_type": "markdown",
   "metadata": {},
   "source": [
    "Результатом пре образования оказывается разреженная матрица размерами 11313 х ~100000. Теперь можно обучать классификатор. Его можно найти в библиотеке `sklearn.naive_bayes`"
   ]
  },
  {
   "cell_type": "code",
   "execution_count": 33,
   "metadata": {},
   "outputs": [],
   "source": [
    "from sklearn.datasets import fetch_20newsgroups\n",
    "from sklearn.feature_extraction.text import TfidfVectorizer\n",
    "from sklearn.naive_bayes import MultinomialNB\n",
    "\n",
    "train_data = fetch_20newsgroups(subset='train')\n",
    "val_data = fetch_20newsgroups(subset='test')\n",
    "\n",
    "vectorizer = TfidfVectorizer()\n",
    "vectorizer.fit(train_data.data)\n",
    "\n",
    "vectorized_train = vectorizer.transform(train_data.data)\n",
    "vectorized_val = vectorizer.transform(val_data.data)\n",
    "\n",
    "model = MultinomialNB()\n",
    "model = model.fit(vectorized_train, train_data.target)"
   ]
  },
  {
   "cell_type": "code",
   "execution_count": 73,
   "metadata": {},
   "outputs": [
    {
     "name": "stdout",
     "output_type": "stream",
     "text": [
      "Overall accuracy: 77.39%\n",
      "\n",
      "Accuracy per class: \n",
      "alt.atheism: 52.04%\n",
      "comp.graphics: 64.78%\n",
      "comp.os.ms-windows.misc: 65.48%\n",
      "comp.sys.ibm.pc.hardware: 77.81%\n",
      "comp.sys.mac.hardware: 77.4%\n",
      "comp.windows.x: 75.44%\n",
      "misc.forsale: 69.49%\n",
      "rec.autos: 91.92%\n",
      "rec.motorcycles: 93.22%\n",
      "rec.sport.baseball: 89.92%\n",
      "rec.sport.hockey: 96.99%\n",
      "sci.crypt: 96.72%\n",
      "sci.electronics: 59.8%\n",
      "sci.med: 73.74%\n",
      "sci.space: 89.09%\n",
      "soc.religion.christian: 98.49%\n",
      "talk.politics.guns: 93.68%\n",
      "talk.politics.mideast: 91.49%\n",
      "talk.politics.misc: 41.61%\n",
      "talk.religion.misc: 13.94%\n"
     ]
    }
   ],
   "source": [
    "import matplotlib.pyplot as plt\n",
    "import seaborn as sns\n",
    "import numpy as np\n",
    "from sklearn.metrics import confusion_matrix\n",
    "\n",
    "y_pred = model.predict(vectorized_val)\n",
    "y_true = val_data.target\n",
    "\n",
    "overall_accuracy = (y_pred == y_true).mean() * 100\n",
    "category_accuracy = dict()\n",
    "for number, name in enumerate(val_data.target_names):\n",
    "    mask = y_true == number\n",
    "    accuracy = (y_true[mask] == y_pred[mask]).mean() * 100\n",
    "    category_accuracy[name] = accuracy\n",
    "    \n",
    "print(f'Overall accuracy: {overall_accuracy:.4}%\\n')\n",
    "\n",
    "print('Accuracy per class: ')\n",
    "for category, accuracy in category_accuracy.items():\n",
    "    print(f'{category}: {accuracy:.4}%')"
   ]
  },
  {
   "cell_type": "markdown",
   "metadata": {},
   "source": [
    "Рассмотрим результаты подробнее, с какой из групп обычно путают `talk.religion.misc` и `talk.politics.misc`"
   ]
  },
  {
   "cell_type": "code",
   "execution_count": 72,
   "metadata": {},
   "outputs": [
    {
     "data": {
      "image/png": "[encoded data removed]",
      "text/plain": [
       "<Figure size 1008x720 with 2 Axes>"
      ]
     },
     "metadata": {},
     "output_type": "display_data"
    }
   ],
   "source": [
    "cm = confusion_matrix(y_true, y_pred)\n",
    "\n",
    "plt.figure(figsize=(14, 10))\n",
    "sns.heatmap(cm, xticklabels=val_data.target_names, yticklabels=val_data.target_names);"
   ]
  }
 ],
 "metadata": {
  "kernelspec": {
   "display_name": "Python 3",
   "language": "python",
   "name": "python3"
  },
  "language_info": {
   "codemirror_mode": {
    "name": "ipython",
    "version": 3
   },
   "file_extension": ".py",
   "mimetype": "text/x-python",
   "name": "python",
   "nbconvert_exporter": "python",
   "pygments_lexer": "ipython3",
   "version": "3.6.4"
  }
 },
 "nbformat": 4,
 "nbformat_minor": 2
}
