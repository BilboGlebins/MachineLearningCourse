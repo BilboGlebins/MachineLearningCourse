{
 "cells": [
  {
   "cell_type": "code",
   "execution_count": null,
   "metadata": {},
   "outputs": [],
   "source": [
    "import numpy as np\n",
    "import matplotlib.pyplot as plt\n",
    "from sklearn.linear_model import LinearRegression"
   ]
  },
  {
   "cell_type": "markdown",
   "metadata": {},
   "source": [
    "## Регрессия по комбинации базисных функций\n",
    "\n",
    "Линейные зависимости встречаются в жизни довольно редко. Однако, существует хитрый способ решить задачу при помощи введения базисных функций. Базисные функции применяются к признаковой переменной, образуя новые признаки. Уравнение регрессии в общем случае принимает вид:\n",
    "$$y^*(\\vec{x}) = \\theta_0 + \\sum_{i=1}^n{f_i(\\vec{x}, \\vec{\\theta}) + \\epsilon_i}, $$"
   ]
  },
  {
   "cell_type": "markdown",
   "metadata": {},
   "source": [
    "### Задача регрессии для экспоненциальной зависимости\n",
    "\n",
    "Придумаем синтетическую задачу где реальная зависимость выглядит как $y(x) =  \\theta_0e^{\\theta_1 x}$. Преобразовать к линейному виду такую зависимость можно взяв логарифм от обоих частей:\n",
    "\n",
    "$$\\ln y(x) = ln(\\theta_0e^{\\theta_1 x}) = ln(\\theta_0) + \\theta_1x$$"
   ]
  },
  {
   "cell_type": "code",
   "execution_count": null,
   "metadata": {},
   "outputs": [],
   "source": [
    "np.random.seed(42)\n",
    "\n",
    "theta0 = 40\n",
    "theta1 = 0.2\n",
    "\n",
    "x = np.linspace(2, 5)\n",
    "y = theta0 * np.exp(theta1*x + np.random.normal(0, 0.05, size=(x.shape))) \n",
    "\n",
    "_ = plt.scatter(x, y)"
   ]
  },
  {
   "cell_type": "code",
   "execution_count": null,
   "metadata": {},
   "outputs": [],
   "source": [
    "np.random.seed(42)\n",
    "model = LinearRegression(fit_intercept=True)\n",
    "\n",
    "theta0 = 40\n",
    "theta1 = 0.2\n",
    "\n",
    "x = np.linspace(2, 5)\n",
    "y = theta0 * np.exp(theta1 * x + np.random.normal(0, 0.05, size=(x.shape))) \n",
    "\n",
    "logy = np.log(y)\n",
    "\n",
    "\n",
    "model.fit(x[:, None], logy)\n",
    "\n",
    "theta0_fit = np.exp(model.intercept_)\n",
    "theta1_fit = model.coef_[0]\n",
    "yfit = theta0 * np.exp(theta1 * x)\n",
    "\n",
    "plt.scatter(x, y)\n",
    "plt.plot(x, yfit, c='r')\n",
    "_ = plt.title(f'y(x) = {theta0_fit:4.4} * exp({theta1_fit:4.4}x)')\n"
   ]
  },
  {
   "cell_type": "markdown",
   "metadata": {},
   "source": [
    "### Задача регрессии для полиномиальной зависимости\n",
    "А если зависимость представленна полиномом второго порядка? Ну например $y(x) = \\theta_0 + \\theta_1x + \\theta_2x^2$. Чтобы свести задачу к линейной мы можем представить $x^2$ как будто бы независимой признаковой переменной $z$. Тогда зависимость примет вид $y(x) = \\theta_0 + \\theta_1x + \\theta_2z$, что вполне соответствует общей форме задачи линейной регрессии"
   ]
  },
  {
   "cell_type": "code",
   "execution_count": null,
   "metadata": {},
   "outputs": [],
   "source": [
    "np.random.seed(42)\n",
    "\n",
    "a = 4\n",
    "b = 2\n",
    "c = -6\n",
    "\n",
    "x = np.arange(-3, 3, 0.1)\n",
    "y = a * (x + np.random.normal(0, 0.05, size=x.shape))**2 + b * (x + np.random.normal(0, 0.05, size=x.shape)) + c\n",
    "\n",
    "_ = plt.scatter(x, y)"
   ]
  },
  {
   "cell_type": "code",
   "execution_count": null,
   "metadata": {},
   "outputs": [],
   "source": [
    "np.random.seed(42)\n",
    "\n",
    "a = 4\n",
    "b = 2\n",
    "c = -6\n",
    "\n",
    "x = np.arange(-3, 3, 0.1)\n",
    "y = a * (x + np.random.normal(0, 0.05, size=x.shape))**2 + b * (x + np.random.normal(0, 0.05, size=x.shape)) + c\n",
    "z = x.reshape(-1, 1)**2\n",
    "X = np.hstack([x.reshape(-1, 1), z])\n",
    "\n",
    "model = LinearRegression(fit_intercept=True)\n",
    "model.fit(X, y)\n",
    "\n",
    "theta0 = model.intercept_\n",
    "theta1, theta2 = model.coef_\n",
    "yfit = theta0 + theta1 * x + theta2 * x**2 \n",
    "\n",
    "plt.scatter(x, y)\n",
    "plt.plot(x, yfit, c='r')\n",
    "_ = plt.title(f'y(x) = {theta0:4.4} + {theta1:4.4}x + {theta2:4.4}x^2')"
   ]
  }
 ],
 "metadata": {
  "kernelspec": {
   "display_name": "Python 3",
   "language": "python",
   "name": "python3"
  },
  "language_info": {
   "codemirror_mode": {
    "name": "ipython",
    "version": 3
   },
   "file_extension": ".py",
   "mimetype": "text/x-python",
   "name": "python",
   "nbconvert_exporter": "python",
   "pygments_lexer": "ipython3",
   "version": "3.6.8"
  }
 },
 "nbformat": 4,
 "nbformat_minor": 2
}
