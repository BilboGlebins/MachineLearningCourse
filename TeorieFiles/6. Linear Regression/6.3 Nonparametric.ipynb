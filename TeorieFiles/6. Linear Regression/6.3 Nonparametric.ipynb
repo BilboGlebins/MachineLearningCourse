{
 "cells": [
  {
   "cell_type": "code",
   "execution_count": null,
   "metadata": {},
   "outputs": [],
   "source": [
    "import numpy as np\n",
    "import matplotlib.pyplot as plt"
   ]
  },
  {
   "cell_type": "markdown",
   "metadata": {},
   "source": [
    "# Непараметрическая регрессия\n",
    "Все предыдущие примеры были сделаны с одним очень серьёзным допущением - **мы обладаем информацией о природе зависимости целевой переменной от признаковых**. Например, мы обладаем априорным знанием о линейной зависимости силы тока от напряжения, мы не знаем только численного значения сопротивления, которое мы восстанавливаем при помощи регрессии. \n",
    "\n",
    "Однако, в реальном мире мы можем столкнуться с зависимостями, о природе которых ничего не известно, однако это не повод отказывать себе в удовольствии построить модель. Идея непараметрических регрессий заключается в том, что мы приближаем зависимость в каждой точке некоторой константой, которая зависит от объектов обучающей выборки в окрестности этой точки. По сути, это kNN, только ответы принадлежат непрерывной области, а не дискретной.\n",
    "\n",
    "Один из методов - это формула Надарая-Ватсона. Значение в точке $x$ вычисляется следующим образом:\n",
    "\n",
    "$$y^*(x, X^l) =  \\frac{\\sum_{i=1}^l y_iw_i }{\\sum_{i=1}^l w_i } = \\frac{\\sum_{i=1}^l y_i K(\\frac{\\rho(x, x_i)}{h}) } {\\sum_{i=1}^l  K(\\frac{\\rho(x, x_i)}{h}) } $$\n",
    "\n",
    "где $X^l$ - обучающая выборка, $w_i$ - веса, которые вычисляются функцией $K$, называемой **ядром**, $\\rho$ - метрика, функция расстояния между двумя точками в признаковом пространстве, а $h$ - ширина окна сглаживания. Ядро должно быть невозрастающей, желательно гладкой, функцией. В самом деле, чем ближе объект - тем больше он должен весить.\n",
    "\n",
    "Сейчас попробуем на примере, используя Гауссово ядро $K(x) = e^{-2x^2}$ и всё сразу станет понятно. Для начала отрисуем ядро:"
   ]
  },
  {
   "cell_type": "code",
   "execution_count": null,
   "metadata": {},
   "outputs": [],
   "source": [
    "def K(x):\n",
    "    return np.exp(-2 * x**2)\n",
    "\n",
    "distance = np.arange(0, 3, 0.1)\n",
    "plt.plot(distance, K(distance))\n",
    "_ = plt.xlabel('Расстояние')"
   ]
  },
  {
   "cell_type": "markdown",
   "metadata": {},
   "source": [
    "А теперь сгенирируем какие-нибудь сильно зашумленные со сложной зависимостью:"
   ]
  },
  {
   "cell_type": "code",
   "execution_count": null,
   "metadata": {},
   "outputs": [],
   "source": [
    "np.random.seed(42)\n",
    "\n",
    "x = np.arange(0, 10, 0.1)\n",
    "y = np.sin(x) + np.cos(4*x)\n",
    "\n",
    "x_noised = x + np.random.normal(0, 0.1, size=x.shape)\n",
    "y_noised = np.sin(x_noised) + np.cos(4*x_noised) + np.random.normal(0, 0.3, size=x.shape)\n",
    "\n",
    "plt.plot(x, y, c='r')\n",
    "_ = plt.scatter(x, y_noised)"
   ]
  },
  {
   "cell_type": "code",
   "execution_count": null,
   "metadata": {},
   "outputs": [],
   "source": [
    "def K(x):\n",
    "    return np.exp(-2 * x**2)\n",
    "\n",
    "np.random.seed(42)\n",
    "\n",
    "x = np.arange(0, 10, 0.1)\n",
    "y = np.sin(x) + np.cos(4*x)\n",
    "\n",
    "x_noised = x + np.random.normal(0, 0.1, size=x.shape)\n",
    "y_noised = np.sin(x_noised) + np.cos(4*x_noised) + np.random.normal(0, 0.3, size=x.shape)\n",
    "\n",
    "h = 0.05\n",
    "\n",
    "xfit = np.arange(0, 10, 0.01)\n",
    "distance = xfit.reshape(-1, 1) - x.reshape(1, -1)\n",
    "weigths = K(distance / h)\n",
    "yfit = np.sum(y_noised*weigths, axis=1) / np.sum(weigths, axis=1)\n",
    "\n",
    "fig = plt.figure(figsize=(20, 10))\n",
    "plt.scatter(x, y_noised)\n",
    "plt.plot(xfit, yfit)\n",
    "plt.plot(x, y)\n",
    "_ = plt.title(f'h = {h}')"
   ]
  },
  {
   "cell_type": "markdown",
   "metadata": {},
   "source": [
    "Поиграйтесь с шириной окна и посмотрите, как будут меняться результаты."
   ]
  }
 ],
 "metadata": {
  "kernelspec": {
   "display_name": "Python 3",
   "language": "python",
   "name": "python3"
  },
  "language_info": {
   "codemirror_mode": {
    "name": "ipython",
    "version": 3
   },
   "file_extension": ".py",
   "mimetype": "text/x-python",
   "name": "python",
   "nbconvert_exporter": "python",
   "pygments_lexer": "ipython3",
   "version": "3.6.4"
  }
 },
 "nbformat": 4,
 "nbformat_minor": 2
}
