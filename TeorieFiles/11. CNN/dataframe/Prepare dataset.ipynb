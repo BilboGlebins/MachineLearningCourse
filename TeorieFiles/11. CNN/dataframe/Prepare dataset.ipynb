{
 "cells": [
  {
   "cell_type": "code",
   "execution_count": 17,
   "metadata": {},
   "outputs": [
    {
     "data": {
      "application/vnd.jupyter.widget-view+json": {
       "model_id": "a765184face74d6191babee8f07e09cf",
       "version_major": 2,
       "version_minor": 0
      },
      "text/plain": [
       "HBox(children=(IntProgress(value=0, max=25000), HTML(value='')))"
      ]
     },
     "metadata": {},
     "output_type": "display_data"
    },
    {
     "name": "stderr",
     "output_type": "stream",
     "text": [
      "/home/dmitry/.pyenv/versions/3.6.4/lib/python3.6/site-packages/skimage/transform/_warps.py:105: UserWarning: The default mode, 'constant', will be changed to 'reflect' in skimage 0.15.\n",
      "  warn(\"The default mode, 'constant', will be changed to 'reflect' in \"\n"
     ]
    },
    {
     "name": "stdout",
     "output_type": "stream",
     "text": [
      "\n"
     ]
    }
   ],
   "source": [
    "import matplotlib.pyplot as plt\n",
    "import pickle as p\n",
    "import numpy as np\n",
    "from skimage.transform import resize\n",
    "from pathlib import Path\n",
    "from tqdm import tqdm_notebook\n",
    "\n",
    "def process_img(path, size=224):\n",
    "    img = plt.imread(str(path))\n",
    "    if img.shape[0] < size or img.shape[1] < size:\n",
    "        return None\n",
    "    \n",
    "    x, y = img.shape[:2]\n",
    "    \n",
    "    if x > y:\n",
    "        margin = (x - y) // 2\n",
    "        img = img[margin:margin+y, :]\n",
    "    if x < y:\n",
    "        margin = (y - x) // 2\n",
    "        img = img[:, margin:margin+x]\n",
    "    \n",
    "    img = resize(img, (224, 224), anti_aliasing=True, preserve_range=True).astype('uint8')\n",
    "    \n",
    "    return img\n",
    "\n",
    "basepath = Path('/home/dmitry/playground/catordog/train/')\n",
    "imgs = list(basepath.glob('*'))\n",
    "\n",
    "d = dict(cat=[], dog=[])\n",
    "for img_path in tqdm_notebook(imgs):\n",
    "    img = process_img(img_path)\n",
    "    if img is not None:\n",
    "        who = img_path.name.split('.')[0]\n",
    "        d[who].append(img)\n",
    "\n"
   ]
  },
  {
   "cell_type": "code",
   "execution_count": 32,
   "metadata": {},
   "outputs": [
    {
     "ename": "AttributeError",
     "evalue": "'list' object has no attribute 'shape'",
     "output_type": "error",
     "traceback": [
      "\u001b[0;31m---------------------------------------------------------------------------\u001b[0m",
      "\u001b[0;31mAttributeError\u001b[0m                            Traceback (most recent call last)",
      "\u001b[0;32m<ipython-input-32-c4901b164622>\u001b[0m in \u001b[0;36m<module>\u001b[0;34m()\u001b[0m\n\u001b[0;32m----> 1\u001b[0;31m \u001b[0md\u001b[0m\u001b[0;34m[\u001b[0m\u001b[0;34m'cat'\u001b[0m\u001b[0;34m]\u001b[0m\u001b[0;34m.\u001b[0m\u001b[0mshape\u001b[0m\u001b[0;34m\u001b[0m\u001b[0m\n\u001b[0m",
      "\u001b[0;31mAttributeError\u001b[0m: 'list' object has no attribute 'shape'"
     ]
    }
   ],
   "source": []
  },
  {
   "cell_type": "code",
   "execution_count": 34,
   "metadata": {},
   "outputs": [
    {
     "data": {
      "application/vnd.jupyter.widget-view+json": {
       "model_id": "1b7182ac24b848389606b8a610747d57",
       "version_major": 2,
       "version_minor": 0
      },
      "text/plain": [
       "HBox(children=(IntProgress(value=1, bar_style='info', max=1), HTML(value='')))"
      ]
     },
     "metadata": {},
     "output_type": "display_data"
    },
    {
     "name": "stdout",
     "output_type": "stream",
     "text": [
      "\n"
     ]
    },
    {
     "data": {
      "application/vnd.jupyter.widget-view+json": {
       "model_id": "cbeec3329c84411f8c736b5b31c31c12",
       "version_major": 2,
       "version_minor": 0
      },
      "text/plain": [
       "HBox(children=(IntProgress(value=1, bar_style='info', max=1), HTML(value='')))"
      ]
     },
     "metadata": {},
     "output_type": "display_data"
    },
    {
     "name": "stdout",
     "output_type": "stream",
     "text": [
      "\n"
     ]
    }
   ],
   "source": [
    "from os import makedirs\n",
    "\n",
    "makedirs('catordogs/cats', exist_ok=True)\n",
    "makedirs('catordogs/dogs', exist_ok=True)\n",
    "\n",
    "for i, cat in tqdm_notebook(enumerate(d['cat'])):\n",
    "    plt.imsave('catordogs/cats/%0.5i.jpg' % i, cat)\n",
    "    \n",
    "for i, dog in tqdm_notebook(enumerate(d['dog'])):\n",
    "    plt.imsave('catordogs/dogs/%0.5i.jpg' % i, dog)"
   ]
  },
  {
   "cell_type": "code",
   "execution_count": 10,
   "metadata": {},
   "outputs": [
    {
     "name": "stderr",
     "output_type": "stream",
     "text": [
      "/home/dmitry/.pyenv/versions/3.6.4/lib/python3.6/site-packages/skimage/transform/_warps.py:105: UserWarning: The default mode, 'constant', will be changed to 'reflect' in skimage 0.15.\n",
      "  warn(\"The default mode, 'constant', will be changed to 'reflect' in \"\n"
     ]
    },
    {
     "data": {
      "text/plain": [
       "array([[[ 39.82875279,  43.03634208,  52.60839844],\n",
       "        [ 40.03724888,  43.97286551,  54.06626674],\n",
       "        [ 37.79910714,  41.42096819,  51.05580357],\n",
       "        ...,\n",
       "        [ 86.63839286,  54.25041853,  35.84730748],\n",
       "        [ 86.47098214,  53.09116908,  37.76116071],\n",
       "        [ 78.46777344,  45.65910993,  38.01464844]],\n",
       "\n",
       "       [[ 37.60902623,  40.44161551,  49.0554548 ],\n",
       "        [ 46.12172154,  49.99790737,  59.12172154],\n",
       "        [ 48.125     ,  52.125     ,  61.32861328],\n",
       "        ...,\n",
       "        [ 96.57763672,  61.57763672,  41.57763672],\n",
       "        [ 91.06026786,  56.02559989,  39.13497489],\n",
       "        [ 83.04017857,  49.13839286,  41.04499163]],\n",
       "\n",
       "       [[ 45.98214286,  48.98214286,  56.61516462],\n",
       "        [ 52.58928571,  55.74281529,  64.74281529],\n",
       "        [ 54.90625   ,  56.9375    ,  65.9375    ],\n",
       "        ...,\n",
       "        [ 96.03125   ,  61.03125   ,  41.03125   ],\n",
       "        [ 92.46205357,  59.08112444,  42.34402902],\n",
       "        [ 80.41608538,  52.26520647,  45.0062779 ]],\n",
       "\n",
       "       ...,\n",
       "\n",
       "       [[112.00139509, 127.84291295, 146.67236328],\n",
       "        [120.72642299, 137.72642299, 157.72642299],\n",
       "        [134.02008929, 151.02008929, 170.11837333],\n",
       "        ...,\n",
       "        [102.79910714, 117.79910714, 140.79910714],\n",
       "        [104.12723214, 119.12723214, 141.96379743],\n",
       "        [ 98.98660714, 113.20221819, 132.66964286]],\n",
       "\n",
       "       [[114.68526786, 130.52678571, 149.72133092],\n",
       "        [118.67724609, 135.64257812, 156.11474609],\n",
       "        [122.11928013, 138.91566685, 159.35316685],\n",
       "        ...,\n",
       "        [104.72147042, 119.72147042, 142.72147042],\n",
       "        [103.15520368, 118.15520368, 140.65415737],\n",
       "        [ 93.48660714, 107.71428571, 127.16964286]],\n",
       "\n",
       "       [[ 99.59340123, 113.6023298 , 133.43268694],\n",
       "        [109.52832031, 124.65143694, 145.52678571],\n",
       "        [114.84284319, 130.03034319, 150.85267857],\n",
       "        ...,\n",
       "        [ 98.37053571, 112.52992467, 133.93303571],\n",
       "        [ 95.77678571, 109.96428571, 131.0867048 ],\n",
       "        [ 86.99965123, 100.18554688, 117.80831473]]])"
      ]
     },
     "execution_count": 10,
     "metadata": {},
     "output_type": "execute_result"
    }
   ],
   "source": [
    "from pathlib import Path\n",
    "import matplotlib.pyplot as plt\n",
    "from skimage.transform import resize\n",
    "\n",
    "basepath = Path('/home/dmitry/playground/catordog/train/')\n",
    "l = list(basepath.glob('*'))\n",
    "\n",
    "img = plt.imread(str(l[0]))\n",
    "resize(img, (224, 224), anti_aliasing=True, preserve_range=True)\n"
   ]
  },
  {
   "cell_type": "code",
   "execution_count": 47,
   "metadata": {},
   "outputs": [],
   "source": [
    "from pyzip import PyZip\n",
    "import io\n",
    "\n",
    "dogz = PyZip().from_file('catordogs/dogs.zip')\n",
    "catz = PyZip().from_file('catordogs/cats.zip')\n",
    "\n",
    "cats = [plt.imread(io.BytesIO(pz[fname]), format='jpg') for fname in catz]\n",
    "dogs = [plt.imread(io.BytesIO(pz[fname]), format='jpg') for fname in dogz]"
   ]
  },
  {
   "cell_type": "code",
   "execution_count": null,
   "metadata": {},
   "outputs": [],
   "source": []
  }
 ],
 "metadata": {
  "kernelspec": {
   "display_name": "Python 3",
   "language": "python",
   "name": "python3"
  },
  "language_info": {
   "codemirror_mode": {
    "name": "ipython",
    "version": 3
   },
   "file_extension": ".py",
   "mimetype": "text/x-python",
   "name": "python",
   "nbconvert_exporter": "python",
   "pygments_lexer": "ipython3",
   "version": "3.6.4"
  }
 },
 "nbformat": 4,
 "nbformat_minor": 2
}
