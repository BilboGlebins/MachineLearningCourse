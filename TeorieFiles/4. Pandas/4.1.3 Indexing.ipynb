{
 "cells": [
  {
   "cell_type": "code",
   "execution_count": null,
   "metadata": {},
   "outputs": [],
   "source": [
    "import pandas as pd\n",
    "import numpy as np\n",
    "import seaborn as sns"
   ]
  },
  {
   "cell_type": "markdown",
   "metadata": {},
   "source": [
    "# Индексация DataFrame и Series и анализ данных\n",
    "Ранее мы говорили, что главная особенность типов данных Pandas заключается в индексах у строк и столбцов. Теперь рассмотрим вытекающие из этого преимущества. Но для этого лучше всего воспользоваться осмысленными наборами данных.\n",
    "\n",
    "# Датасеты\n",
    "В качестве осмысленных наборов данных воспользуемся классическими ML-датасетами. Загрузить их можно при помощи функции `seaborn.load_dataset(имядатасета)` из пакета `seaborn`, который вообще-то, используется для построения графиков. Полный список датасетов из `seaborn` можно [посмотреть здесь](https://github.com/mwaskom/seaborn-data).\n",
    "\n",
    "Возьмём в качестве примера датасет Planets, который содержит информацию об известных на данный момент экзопланетах:"
   ]
  },
  {
   "cell_type": "code",
   "execution_count": null,
   "metadata": {},
   "outputs": [],
   "source": [
    "planets = sns.load_dataset('planets')\n",
    "\n",
    "# Посмотрим, что у нас в нём:\n",
    "planets.head(5)"
   ]
  },
  {
   "cell_type": "markdown",
   "metadata": {},
   "source": [
    "Описание колонок:\n",
    "* method - способ детектирования\n",
    "* number - количество планет в системе\n",
    "* orbital_period - время обращения в сутках\n",
    "* mass - масса в земных массах\n",
    "* distance - расстояние в парсеках\n",
    "* year - год обнаружения"
   ]
  },
  {
   "cell_type": "markdown",
   "metadata": {},
   "source": [
    "## Индексация по значению признака\n",
    "Допустим, нас не интересуют все планеты из списка, а лишь те, которые были открыты позже 2010 года. Для этого мы можем профильтровать исходный `DataFrame` по значению признака `year`.\n",
    "\n",
    "Вспомним, что каждая колонка это самостоятельный объект `Series`, который, в свою очередь, является обёрткой для `ndarray`. Значит, мы можем применить многие операции, применимые к `ndarray`. Например, посмотрим на результат операции сравнения:"
   ]
  },
  {
   "cell_type": "code",
   "execution_count": null,
   "metadata": {},
   "outputs": [],
   "source": [
    "planets = sns.load_dataset('planets')\n",
    "\n",
    "recently_discovered = planets['year'] > 2010\n",
    "recently_discovered.head()"
   ]
  },
  {
   "cell_type": "markdown",
   "metadata": {},
   "source": [
    "Результатом окажется `Series`, наполненные булевыми значениями. Очень кстати, что порядок и индексы сохраняют своё соответствие записям в исходном `DataFrame`. Стало быть, такой `Series` можно использовать как маску для исходного `DataFrame`:"
   ]
  },
  {
   "cell_type": "code",
   "execution_count": null,
   "metadata": {},
   "outputs": [],
   "source": [
    "planets = sns.load_dataset('planets')\n",
    "\n",
    "recently_discovered = planets['year'] > 2010\n",
    "recently_discovered_planets = planets[recently_discovered]\n",
    "recently_discovered_planets.head()"
   ]
  },
  {
   "cell_type": "markdown",
   "metadata": {},
   "source": [
    "Мы получили новый объект `DataFrame`, содержащий информацию только о планетах, обнаруженых после 2010 года. \n",
    "Обратите внимание на получившийся индекс. Они соответствуют индексам записей исходного `DataFrame` \n",
    "\n",
    "Можно сделать то же самое даже не создавая новый `DataFrame` и немного компактнее:"
   ]
  },
  {
   "cell_type": "code",
   "execution_count": null,
   "metadata": {},
   "outputs": [],
   "source": [
    "planets = sns.load_dataset('planets')\n",
    "planets[planets['year'] > 2010].head()"
   ]
  },
  {
   "cell_type": "markdown",
   "metadata": {},
   "source": [
    "Разумеется, можно комбинировать условия:"
   ]
  },
  {
   "cell_type": "code",
   "execution_count": null,
   "metadata": {},
   "outputs": [],
   "source": [
    "planets = sns.load_dataset('planets')\n",
    "\n",
    "recently_discovered = planets['year'] > 2010\n",
    "by_imaging = planets['method'] == 'Imaging'\n",
    "\n",
    "targets = planets[recently_discovered & by_imaging]\n",
    "targets.head()"
   ]
  }
 ],
 "metadata": {
  "kernelspec": {
   "display_name": "Python 3",
   "language": "python",
   "name": "python3"
  },
  "language_info": {
   "codemirror_mode": {
    "name": "ipython",
    "version": 3
   },
   "file_extension": ".py",
   "mimetype": "text/x-python",
   "name": "python",
   "nbconvert_exporter": "python",
   "pygments_lexer": "ipython3",
   "version": "3.6.8"
  }
 },
 "nbformat": 4,
 "nbformat_minor": 2
}
