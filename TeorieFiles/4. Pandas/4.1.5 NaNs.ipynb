{
 "cells": [
  {
   "cell_type": "code",
   "execution_count": null,
   "metadata": {},
   "outputs": [],
   "source": [
    "import pandas as pd\n",
    "import numpy as np\n",
    "import seaborn as sns"
   ]
  },
  {
   "cell_type": "markdown",
   "metadata": {},
   "source": [
    "# Обработка пропусков в данных\n",
    "Обрабатывая датасет planets вы могли заметить наличие пропусков в данных. Например, некоторые методы обнаружения могут позволить определить все параметры экзопланет, однако не массу.\n",
    "Вместо того, чтобы выбрасывать эти данные целиком, пропущенные поля заполняются специльными значениями Not a Number - `NaN`. Pandas имеет набор функций для обработки таких значений.\n",
    "\n",
    "## Выявление пропусков\n",
    "Для выявления пропусков используются функции `pd.isna()` или эквивалентная ей `pd.isnull()`. Выберем из датасета planets записи заведомо содержащие пропуски:"
   ]
  },
  {
   "cell_type": "code",
   "execution_count": null,
   "metadata": {},
   "outputs": [],
   "source": [
    "planets = sns.load_dataset('planets')\n",
    "df = planets[planets['method'] == 'Microlensing'].head()\n",
    "df"
   ]
  },
  {
   "cell_type": "markdown",
   "metadata": {},
   "source": [
    "А теперь посмотрим на результат работы функции `pd.isna()`"
   ]
  },
  {
   "cell_type": "code",
   "execution_count": null,
   "metadata": {},
   "outputs": [],
   "source": [
    "planets = sns.load_dataset('planets')\n",
    "df = planets[planets['method'] == 'Microlensing'].head()\n",
    "pd.isna(df)"
   ]
  },
  {
   "cell_type": "markdown",
   "metadata": {},
   "source": [
    "Результат работы функции - `DataFrame`-маска, который содержит значения `True` в полях, где пропущены данные. Функцию так же можно применять к объектам `Series`:"
   ]
  },
  {
   "cell_type": "code",
   "execution_count": null,
   "metadata": {},
   "outputs": [],
   "source": [
    "planets = sns.load_dataset('planets')\n",
    "df = planets[planets['method'] == 'Microlensing'].head()\n",
    "pd.isna(df['distance'])"
   ]
  },
  {
   "cell_type": "markdown",
   "metadata": {},
   "source": [
    "Такие `Series` так же можно использовать как маску для исходного `DataFrame`, потому что индекс сохраняется. Выберем только те объекты, для которых удалось измерить расстояние:"
   ]
  },
  {
   "cell_type": "code",
   "execution_count": null,
   "metadata": {},
   "outputs": [],
   "source": [
    "planets = sns.load_dataset('planets')\n",
    "df = planets[planets['method'] == 'Microlensing']\n",
    "havent_distance = pd.isna(df['distance'])\n",
    "\n",
    "df[~havent_distance]"
   ]
  },
  {
   "cell_type": "markdown",
   "metadata": {},
   "source": [
    "Для того, чтобы выделить все записи, которые не имеют пропусков, нам пришлось применить операцию инверсии `~` к маске пропущенных значений. \n",
    "\n",
    "Однако, удобнее сразу воспользоваться функцией `pd.notna()` (или эквивалентной ей `pd.notnull()`):"
   ]
  },
  {
   "cell_type": "code",
   "execution_count": null,
   "metadata": {},
   "outputs": [],
   "source": [
    "planets = sns.load_dataset('planets')\n",
    "df = planets[planets['method'] == 'Microlensing']\n",
    "have_period = pd.notna(df['orbital_period'])\n",
    "\n",
    "df[have_period]"
   ]
  },
  {
   "cell_type": "markdown",
   "metadata": {},
   "source": [
    "## Удаление пропусков в данных\n",
    "Бывает и такое, что записи с пустыми значениями не имеют смысла и их можно удалять. Делается это методом `DataFrame.dropna()`."
   ]
  },
  {
   "cell_type": "code",
   "execution_count": null,
   "metadata": {},
   "outputs": [],
   "source": [
    "planets = sns.load_dataset('planets')\n",
    "df = planets[planets['method'] == 'Radial Velocity'].head(10)\n",
    "df"
   ]
  },
  {
   "cell_type": "markdown",
   "metadata": {},
   "source": [
    "Запись с индексом 7 имеет пропуск значения массы."
   ]
  },
  {
   "cell_type": "code",
   "execution_count": null,
   "metadata": {},
   "outputs": [],
   "source": [
    "planets = sns.load_dataset('planets')\n",
    "df = planets[planets['method'] == 'Radial Velocity'].head(10)\n",
    "df.dropna()"
   ]
  },
  {
   "cell_type": "markdown",
   "metadata": {},
   "source": [
    "Запись с индексом 7 была удалена."
   ]
  },
  {
   "cell_type": "markdown",
   "metadata": {},
   "source": [
    "### Важный момент работы с методами DataFrame\n",
    "Важно отметить, что все методы, изменяющие `DataFrame` не изменяют исходный объект, а **создают новый**."
   ]
  },
  {
   "cell_type": "code",
   "execution_count": null,
   "metadata": {},
   "outputs": [],
   "source": [
    "planets = sns.load_dataset('planets')\n",
    "df = planets[planets['method'] == 'Radial Velocity'].head(10)\n",
    "df.dropna()\n",
    "df"
   ]
  },
  {
   "cell_type": "markdown",
   "metadata": {},
   "source": [
    "Запись с индексом 7 **осталась** в `DataFrame`, **не смотря на то, что был вполнен метод** `DataFrame.dropna()`.\n",
    "\n",
    "Если исходный объект в дальнейшем не потребуется делайте переприсваивание:"
   ]
  },
  {
   "cell_type": "code",
   "execution_count": null,
   "metadata": {},
   "outputs": [],
   "source": [
    "planets = sns.load_dataset('planets')\n",
    "df = planets[planets['method'] == 'Radial Velocity'].head(10)\n",
    "df = df.dropna()\n",
    "df"
   ]
  },
  {
   "cell_type": "markdown",
   "metadata": {},
   "source": [
    "Так же, у метода `DataFrame.dropna()` есть параметр `subset`, который позволяет удалять поля только в указанных в `list` колонках:"
   ]
  },
  {
   "cell_type": "code",
   "execution_count": null,
   "metadata": {},
   "outputs": [],
   "source": [
    "planets = sns.load_dataset('planets')\n",
    "df = planets[planets['method'] == 'Imaging'].head(10)\n",
    "df = df.dropna(subset=['distance'])\n",
    "df"
   ]
  },
  {
   "cell_type": "code",
   "execution_count": null,
   "metadata": {},
   "outputs": [],
   "source": [
    "planets = sns.load_dataset('planets')\n",
    "df = planets[planets['method'] == 'Imaging']\n",
    "df = df.dropna(subset=['distance', 'orbital_period'])\n",
    "df"
   ]
  },
  {
   "cell_type": "markdown",
   "metadata": {},
   "source": [
    "## Заполнение пропусков\n",
    "\n",
    "Иногда предпочтительнее вместо отбрасывания пустых значений заполнить их каким-то допустимым значением. \n",
    "Это значение может быть фиксированным, например нулем, или интерполированным, или восстановленным по остальным данным значением. Для этого используется метод `DataFrame.fillna()`"
   ]
  },
  {
   "cell_type": "code",
   "execution_count": null,
   "metadata": {},
   "outputs": [],
   "source": [
    "planets = sns.load_dataset('planets')\n",
    "df = planets[planets['method'] == 'Imaging'].head(10)\n",
    "df"
   ]
  },
  {
   "cell_type": "code",
   "execution_count": null,
   "metadata": {},
   "outputs": [],
   "source": [
    "planets = sns.load_dataset('planets')\n",
    "df = planets[planets['method'] == 'Imaging'].head(10)\n",
    "df = df.fillna(0)\n",
    "df"
   ]
  },
  {
   "cell_type": "markdown",
   "metadata": {},
   "source": [
    "Метод `.fillna()` существует и у объектов типа `Series`. Для демонстрации заполним пропуски средними значениями по *исходному* датасету:"
   ]
  },
  {
   "cell_type": "code",
   "execution_count": null,
   "metadata": {},
   "outputs": [],
   "source": [
    "planets = sns.load_dataset('planets')\n",
    "df = planets[planets['method'] == 'Imaging'].head(10)\n",
    "\n",
    "for column in ['orbital_period', 'mass', 'distance']:\n",
    "    df[column] = df[column].fillna(planets[column].mean())\n",
    "\n",
    "df"
   ]
  }
 ],
 "metadata": {
  "kernelspec": {
   "display_name": "Python 3",
   "language": "python",
   "name": "python3"
  },
  "language_info": {
   "codemirror_mode": {
    "name": "ipython",
    "version": 3
   },
   "file_extension": ".py",
   "mimetype": "text/x-python",
   "name": "python",
   "nbconvert_exporter": "python",
   "pygments_lexer": "ipython3",
   "version": "3.6.4"
  }
 },
 "nbformat": 4,
 "nbformat_minor": 2
}
