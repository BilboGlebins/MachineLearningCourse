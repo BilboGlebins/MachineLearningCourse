{
 "cells": [
  {
   "cell_type": "code",
   "execution_count": null,
   "metadata": {},
   "outputs": [],
   "source": [
    "import pandas as pd\n",
    "import numpy as np\n",
    "import seaborn as sns"
   ]
  },
  {
   "cell_type": "markdown",
   "metadata": {},
   "source": [
    "# Соединение DataFrame\n",
    "\n",
    "Для тех, кто имеет опыт работы с СУБД не будет новостью, что часто данные разнесены по разным таблицам. \n",
    "Pandas имеет эффективную реализацию т.н. реляционной алгебры, которая используется в реляционных СУБД. \n",
    "\n",
    "Рассмотрим на примере военкомата. Допустим, есть две таблицы. В одной данные о здоровье призывникова, а в другом их академические успехи:"
   ]
  },
  {
   "cell_type": "code",
   "execution_count": null,
   "metadata": {},
   "outputs": [],
   "source": [
    "height = pd.Series(np.random.normal(180, 10, 5).astype(int), index=['Иванов', 'Петров', 'Сидоров', 'Александров', 'Сергеев'])\n",
    "weight = pd.Series(np.random.normal(70, 10, 5).astype(int), index=['Иванов', 'Петров', 'Сидоров', 'Александров', 'Сергеев'])\n",
    "age = pd.Series(np.random.randint(18, 30, 5), index=['Иванов', 'Петров', 'Сидоров', 'Александров', 'Сергеев'])\n",
    "health = pd.DataFrame({\"Рост\": height, \"Вес\": weight, \"Возраст\": age})\n",
    "\n",
    "health['ИМТ'] = health['Вес'] / (health['Рост'] / 100) ** 2\n",
    "\n",
    "health"
   ]
  },
  {
   "cell_type": "code",
   "execution_count": null,
   "metadata": {},
   "outputs": [],
   "source": [
    "university = pd.Series(np.random.choice(['ТГУ', 'ТПУ', 'ТУСУР'], 5, replace=True), index=['Александров', 'Сергеев', 'Иванов', 'Петров', 'Сидоров'])  # Намерено перепутаем индексы\n",
    "close_session = pd.Series(np.random.randint(0, 2, 5).astype(bool), index=['Александров', 'Сергеев', 'Иванов', 'Петров', 'Сидоров'])\n",
    "education = pd.DataFrame({\"УЗ\": university, \"Закрылся\": close_session})\n",
    "\n",
    "education"
   ]
  },
  {
   "cell_type": "markdown",
   "metadata": {},
   "source": [
    "Чтобы объединить таблицы воспользуемся функцией `pd.merge()`. \n",
    "В качестве параметров она принимает\n",
    "* `left` - `DataFrame`, который будет левым при соединении, \n",
    "* `right` - аналогично \n",
    "* `left_on` - колонка, которая будет ключом соединения в левом `DataFrame`\n",
    "* `right_on` - аналогично для правого\n",
    "* `left_index` - использовать для соединения не колонку, но индекс для левого `DataFrame`\n",
    "* `right_index` - аналогично для правого\n",
    "* `how` - тип соединения [в терминах SQL](https://ru.wikipedia.org/wiki/Join_(SQL)). По умолчанию 'inner'\n",
    "\n",
    "Обязательных параметров - первые два. По умолчанию произойдёт соединение по единственной колонке, которая есть в обоих `DataFrame`. Если таких колонок нет или больше одной возникнет ошибка.\n",
    "\n",
    "В нашем случае будет делать соединение по индексам:"
   ]
  },
  {
   "cell_type": "code",
   "execution_count": null,
   "metadata": {},
   "outputs": [],
   "source": [
    "recruits = pd.merge(health, education, left_index=True, right_index=True)\n",
    "recruits"
   ]
  }
 ],
 "metadata": {
  "kernelspec": {
   "display_name": "Python 3",
   "language": "python",
   "name": "python3"
  },
  "language_info": {
   "codemirror_mode": {
    "name": "ipython",
    "version": 3
   },
   "file_extension": ".py",
   "mimetype": "text/x-python",
   "name": "python",
   "nbconvert_exporter": "python",
   "pygments_lexer": "ipython3",
   "version": "3.6.4"
  }
 },
 "nbformat": 4,
 "nbformat_minor": 2
}
