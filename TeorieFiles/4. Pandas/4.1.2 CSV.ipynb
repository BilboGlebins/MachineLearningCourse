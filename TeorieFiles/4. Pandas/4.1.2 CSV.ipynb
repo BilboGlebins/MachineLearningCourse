{
 "cells": [
  {
   "cell_type": "code",
   "execution_count": null,
   "metadata": {},
   "outputs": [],
   "source": [
    "import pandas as pd\n",
    "import numpy as np"
   ]
  },
  {
   "cell_type": "markdown",
   "metadata": {},
   "source": [
    "# .csv\n",
    "## Описание формата:\n",
    "Обычно для хранения табличных данных, в том числе и `DataFrame`, в виде файлов используют формат `.csv`. CSV расшифровывается как _comma separated values_ и имеет соответсвующую структуру.\n",
    "Строки табличных данных записываются так же построчно, а столбцы разделяются запятой.\n",
    "\n",
    "## Сохранение в .csv\n",
    "Для того, чтобы сохранить объект типа `DataFrame` в csv вызывается метод объекта `.to_csv(путь_до_файла)`. Однако, сначала вспомним как выглядит `DataFrame` с продуктами из предыдущей главы:"
   ]
  },
  {
   "cell_type": "code",
   "execution_count": null,
   "metadata": {},
   "outputs": [],
   "source": [
    "matrix = np.random.randint(5, 30, (5, 3))\n",
    "df = pd.DataFrame(matrix, \n",
    "                  columns=['Жиры', 'Белки', 'Углеводы'], \n",
    "                  index=['Хлеб', 'Колбаса', 'Огурцы', 'Помидоры', 'Яблоки'])\n",
    "df"
   ]
  },
  {
   "cell_type": "markdown",
   "metadata": {},
   "source": [
    "А теперь сохраним его и посмотрим, что будет содержать файл на диске:\n",
    "\n",
    "**Важно: Перед выполнением этой ячейки выполните предыдущую**"
   ]
  },
  {
   "cell_type": "code",
   "execution_count": null,
   "metadata": {},
   "outputs": [],
   "source": [
    "savepath = '/tmp/df.csv'\n",
    "df.to_csv(savepath)\n",
    "\n",
    "print(f'Содержимое файла: \\n{open(savepath).readlines()}')"
   ]
  },
  {
   "cell_type": "markdown",
   "metadata": {},
   "source": [
    "Сравните строки из файла с содержимым `DataFrame`."
   ]
  },
  {
   "cell_type": "markdown",
   "metadata": {},
   "source": [
    "## Загрузка .csv файла\n",
    "Для того, чтобы создать `DataFrame` из .csv файла нужно воспользоваться функцией `pd.read_csv(путь)`:"
   ]
  },
  {
   "cell_type": "code",
   "execution_count": null,
   "metadata": {},
   "outputs": [],
   "source": [
    "matrix = np.random.randint(5, 30, (5, 3))\n",
    "df = pd.DataFrame(matrix, \n",
    "                  columns=['Жиры', 'Белки', 'Углеводы'], \n",
    "                  index=['Хлеб', 'Колбаса', 'Огурцы', 'Помидоры', 'Яблоки'])\n",
    "\n",
    "savepath = '/tmp/df.csv'\n",
    "df.to_csv(savepath)\n",
    "\n",
    "loaded_df = pd.read_csv(savepath)\n",
    "loaded_df"
   ]
  },
  {
   "cell_type": "markdown",
   "metadata": {},
   "source": [
    "То, что раньше было индексом становится безымянной колонкой. Чтобы этого не происходило, фукнции `pd.read_csv` нужно передать параметр `index_col`. Этот параметр указывает, какой столбец нужно использовать в качестве индекса. Значение этого параметра может быть либо типа `int`, либо типа `str`. В случае `int` параметр воспринимается как порядковый номер столбца, который нужно использовать в качестве индекса. В случае `str` столбец выбирается по имени."
   ]
  },
  {
   "cell_type": "code",
   "execution_count": null,
   "metadata": {},
   "outputs": [],
   "source": [
    "matrix = np.random.randint(5, 30, (5, 3))\n",
    "df = pd.DataFrame(matrix, \n",
    "                  columns=['Жиры', 'Белки', 'Углеводы'], \n",
    "                  index=['Хлеб', 'Колбаса', 'Огурцы', 'Помидоры', 'Яблоки'])\n",
    "\n",
    "savepath = '/tmp/df.csv'\n",
    "df.to_csv(savepath)\n",
    "\n",
    "loaded_df = pd.read_csv(savepath, index_col=0)  # <---- Указали взять индексом самый левый столбец\n",
    "loaded_df"
   ]
  },
  {
   "cell_type": "markdown",
   "metadata": {},
   "source": [
    "Вот это уже похоже на наш исходный `DataFrame`"
   ]
  }
 ],
 "metadata": {
  "kernelspec": {
   "display_name": "Python 3",
   "language": "python",
   "name": "python3"
  },
  "language_info": {
   "codemirror_mode": {
    "name": "ipython",
    "version": 3
   },
   "file_extension": ".py",
   "mimetype": "text/x-python",
   "name": "python",
   "nbconvert_exporter": "python",
   "pygments_lexer": "ipython3",
   "version": "3.6.8"
  }
 },
 "nbformat": 4,
 "nbformat_minor": 2
}
