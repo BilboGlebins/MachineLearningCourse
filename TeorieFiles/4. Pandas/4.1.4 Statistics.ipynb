{
 "cells": [
  {
   "cell_type": "code",
   "execution_count": null,
   "metadata": {},
   "outputs": [],
   "source": [
    "import pandas as pd\n",
    "import numpy as np\n",
    "import seaborn"
   ]
  },
  {
   "cell_type": "markdown",
   "metadata": {},
   "source": [
    "# Анализ данных при помощи Pandas\n",
    "Помимо манипулций с таблицами, Pandas предоставляет широкие возможности для статистического анализа рядов и таблиц. \n",
    "\n",
    "Освежим в памяти содержимое датасета planets."
   ]
  },
  {
   "cell_type": "code",
   "execution_count": null,
   "metadata": {},
   "outputs": [],
   "source": [
    "planets = seaborn.load_dataset('planets')\n",
    "planets.head()"
   ]
  },
  {
   "cell_type": "markdown",
   "metadata": {},
   "source": [
    "## Series.describe()\n",
    "У объектов `Series` существует замечательный метод `Series.describe()`. Он выдаёт основную информацию о распределении величины, представленной этим рядом:"
   ]
  },
  {
   "cell_type": "code",
   "execution_count": null,
   "metadata": {},
   "outputs": [],
   "source": [
    "planets = seaborn.load_dataset('planets')\n",
    "\n",
    "print('Взглянем на года открытия экзопланет: ')\n",
    "planets['year'].describe()"
   ]
  },
  {
   "cell_type": "markdown",
   "metadata": {},
   "source": [
    "Метод `describe` вернул информацию о \n",
    "* Количестве записей \n",
    "* Среднем возрасте\n",
    "* Среднеквадратичном отклонение возраста\n",
    "* Минимальный возраст\n",
    "* Первый квартиль\n",
    "* Медиана\n",
    "* Третий квартиль\n",
    "* Максимальный возраст\n",
    "\n",
    "По этим данным можно сделать вывод, например, что за последние 4 года было открыто столько же планет, сколько за предыдущие 20. А так же данные о начале миссии."
   ]
  },
  {
   "cell_type": "markdown",
   "metadata": {},
   "source": [
    "## Series.unique()\n",
    "Для первичного анализа датасета полезно узнать все значения категориальных признаков. Для этого можно воспользоваться методом `Series.unique()`, который вернёт множество значений:"
   ]
  },
  {
   "cell_type": "code",
   "execution_count": null,
   "metadata": {},
   "outputs": [],
   "source": [
    "planets = seaborn.load_dataset('planets')\n",
    "planets['method'].unique()"
   ]
  },
  {
   "cell_type": "markdown",
   "metadata": {},
   "source": [
    "## Series.value_counts()\n",
    "\n",
    "Ещё один полезный для анализа данных метод объекта `Series`, который позволяет подсчитать количество значений признака:"
   ]
  },
  {
   "cell_type": "code",
   "execution_count": null,
   "metadata": {},
   "outputs": [],
   "source": [
    "planets = seaborn.load_dataset('planets')\n",
    "planets['method'].value_counts()"
   ]
  },
  {
   "cell_type": "markdown",
   "metadata": {},
   "source": [
    "Теперь мы знаем не только какие методы используются, но и какие из них самые популярные или продуктивные"
   ]
  },
  {
   "cell_type": "markdown",
   "metadata": {},
   "source": [
    "# Группировка\n",
    "Важная часть анализа данных - это их грамотное обобщение. При помощи аггрегирующих функций можно понять природу огромных массивов данных. \n",
    "Для обощения используется функция `DataFrame.groupby()` в качестве которой передаются колонка или `list` колонок, по которым делается группировка"
   ]
  },
  {
   "cell_type": "code",
   "execution_count": null,
   "metadata": {},
   "outputs": [],
   "source": [
    "planets = seaborn.load_dataset('planets')\n",
    "grouped = planets.groupby('year')\n",
    "\n",
    "print(f'grouped: {grouped}')\n",
    "print(f'type(grouped): {type(grouped)}')"
   ]
  },
  {
   "cell_type": "markdown",
   "metadata": {},
   "source": [
    "Обратите внимание, что возвращаемое — не набор объектов `DataFrame` , а объект `DataFrameGroupBy`. \n",
    "Этот объект можно рассматривать как специальное представление объекта `DataFrame`, готовое к группировке, но не выполняющее никаких фактических вычислений до этапа применения агрегирования.\n",
    "\n",
    "Чтобы получить результат, функция `DataFrame.groupby()` применяется с аггрегирующими функциями:\n",
    "* count - подсчёт элементов\n",
    "* min / max - минимальный/максимальный элемент\n",
    "* mean / median / mode - среднее/медиана/мода\n",
    "* std / var - среднеквадратичное отклонение / дисперсия"
   ]
  },
  {
   "cell_type": "code",
   "execution_count": null,
   "metadata": {},
   "outputs": [],
   "source": [
    "planets = seaborn.load_dataset('planets')\n",
    "planets.groupby('year').count().head(20)"
   ]
  },
  {
   "cell_type": "markdown",
   "metadata": {},
   "source": [
    "Теперь попробуем по паре индексов:"
   ]
  },
  {
   "cell_type": "code",
   "execution_count": null,
   "metadata": {},
   "outputs": [],
   "source": [
    "planets = seaborn.load_dataset('planets')\n",
    "\n",
    "planets.groupby(['year', 'method']).count().head(20)"
   ]
  },
  {
   "cell_type": "markdown",
   "metadata": {},
   "source": [
    "Порядок колонок важен:"
   ]
  },
  {
   "cell_type": "code",
   "execution_count": null,
   "metadata": {},
   "outputs": [],
   "source": [
    "planets = seaborn.load_dataset('planets')\n",
    "\n",
    "planets.groupby(['method', 'year']).count().head(20)"
   ]
  },
  {
   "cell_type": "code",
   "execution_count": null,
   "metadata": {},
   "outputs": [],
   "source": [
    "Смена порядка в аргументе `DataFrame.groupby()` приводит к разным результатам, изменяя порядок группировки.\n",
    "\n",
    "Однако, обратите внимание на индекс получившегося `DataFrame`. Он оказывается двухуровневым. И вообще оказывается объектом типа `MultiIndex`: "
   ]
  },
  {
   "cell_type": "code",
   "execution_count": null,
   "metadata": {},
   "outputs": [],
   "source": [
    "planets = seaborn.load_dataset('planets')\n",
    "\n",
    "grouped = planets.groupby(['method', 'year']).count()\n",
    "print(f'grouped.index = {grouped.index}')\n",
    "print(f'\\ntype(grouped.index) = {type(grouped.index)}',)"
   ]
  },
  {
   "cell_type": "markdown",
   "metadata": {},
   "source": [
    "В обращении `MultiIndex` примерно такой же, как и знакомый нам ранее `Index`:"
   ]
  },
  {
   "cell_type": "code",
   "execution_count": null,
   "metadata": {},
   "outputs": [],
   "source": [
    "planets = seaborn.load_dataset('planets')\n",
    "\n",
    "grouped = planets.groupby(['method', 'year']).count()\n",
    "print(\"grouped.loc['Microlensing'] = \")\n",
    "grouped.loc['Microlensing']"
   ]
  },
  {
   "cell_type": "code",
   "execution_count": null,
   "metadata": {},
   "outputs": [],
   "source": [
    "planets = seaborn.load_dataset('planets')\n",
    "\n",
    "grouped = planets.groupby(['method', 'year']).count()\n",
    "print(\"grouped.loc['Microlensing', 2004] = \")\n",
    "grouped.loc['Microlensing', 2004]"
   ]
  },
  {
   "cell_type": "markdown",
   "metadata": {},
   "source": [
    "Так же пытливый ум может заметить, что вроде как для аггрегации мы пользовались функцией `count()`, которая считает количество значений. \n",
    "Количество значений, по идее, должно совпадать с количеством записей, однако посмотрим ещё раз:"
   ]
  },
  {
   "cell_type": "code",
   "execution_count": null,
   "metadata": {},
   "outputs": [],
   "source": [
    "planets = seaborn.load_dataset('planets')\n",
    "\n",
    "grouped = planets.groupby(['method', 'year']).count()\n",
    "grouped.loc['Microlensing']"
   ]
  },
  {
   "cell_type": "markdown",
   "metadata": {},
   "source": [
    "Проверим, что же там такое:"
   ]
  },
  {
   "cell_type": "code",
   "execution_count": null,
   "metadata": {},
   "outputs": [],
   "source": [
    "planets = seaborn.load_dataset('planets')\n",
    "planets[planets['method'] == 'Microlensing'].head()"
   ]
  },
  {
   "cell_type": "markdown",
   "metadata": {},
   "source": [
    "Делаем вывод, что count() не учитывает `NaN`"
   ]
  },
  {
   "cell_type": "markdown",
   "metadata": {},
   "source": [
    "Так же помимо колонок, по которым происходит группировка, можно указывать колонки, по которым интересна аггрегация. \n",
    "\n",
    "Например, попытаемся извлечь информацию о том, на каких расстояниях работают те или иные методы обнаружения экзопланет. Выведем средние расстояния до звёздных систем для каждого из методов обнаружения:"
   ]
  },
  {
   "cell_type": "code",
   "execution_count": null,
   "metadata": {},
   "outputs": [],
   "source": [
    "planets = seaborn.load_dataset('planets')\n",
    "planets.groupby('method')['distance'].mean()"
   ]
  },
  {
   "cell_type": "markdown",
   "metadata": {},
   "source": [
    "Для получения более развёрнутой информации можем воспользоваться набором аггрегационных функций. Для этого применяется фукнция `.agg()` в которой перечисляются аггрегирующие функции:"
   ]
  },
  {
   "cell_type": "code",
   "execution_count": null,
   "metadata": {},
   "outputs": [],
   "source": [
    "planets = seaborn.load_dataset('planets')\n",
    "planets.groupby('method')['distance'].agg(['min', 'mean', 'max'])"
   ]
  },
  {
   "cell_type": "markdown",
   "metadata": {},
   "source": [
    "## Series.sort_values()\n",
    "Так же для анализа бывает полезно упорядочить значения. Например, мы хотим знать о физических границах применимости методов:"
   ]
  },
  {
   "cell_type": "code",
   "execution_count": null,
   "metadata": {},
   "outputs": [],
   "source": [
    "planets = seaborn.load_dataset('planets')\n",
    "grouped = planets.groupby('method')['distance'].agg(['min', 'mean', 'max'])\n",
    "\n",
    "grouped.sort_values('max')"
   ]
  },
  {
   "cell_type": "markdown",
   "metadata": {},
   "source": [
    "Теперь мы знаем, что предел для астрометрии всего 20 парсек, а транзитный метод может обнаружить на расстоянии 8500 парсек. А это, на минуточку, 27 тысяч световых лет."
   ]
  }
 ],
 "metadata": {
  "kernelspec": {
   "display_name": "Python 3",
   "language": "python",
   "name": "python3"
  },
  "language_info": {
   "codemirror_mode": {
    "name": "ipython",
    "version": 3
   },
   "file_extension": ".py",
   "mimetype": "text/x-python",
   "name": "python",
   "nbconvert_exporter": "python",
   "pygments_lexer": "ipython3",
   "version": "3.6.4"
  }
 },
 "nbformat": 4,
 "nbformat_minor": 2
}
