{
 "cells": [
  {
   "cell_type": "code",
   "execution_count": null,
   "metadata": {},
   "outputs": [],
   "source": [
    "import numpy as np\n",
    "import pandas as pd\n",
    "import seaborn as sns"
   ]
  },
  {
   "cell_type": "markdown",
   "metadata": {},
   "source": [
    "# Применение функций\n",
    "## Метод Series.apply\n",
    "Часто приходится проводить произвольные манипуляции с данными из датасетов для их очистки или получения новых признаков. \n",
    "Для этой задачи отлично подходит метод `Series.apply()`, который применяет некоторую функцию для всех данных в ряду.\n",
    "\n",
    "Например, мы хотим сделать данные независимыми от регистра, чтобы уберечься от опечаток в регистре или несовпадений формата:"
   ]
  },
  {
   "cell_type": "code",
   "execution_count": null,
   "metadata": {},
   "outputs": [],
   "source": [
    "fruits = pd.Series(['ЯБЛОКО', 'апельсин', 'Банан', 'ГРейпфрут'])\n",
    "fruits.apply(lambda x: x.lower())"
   ]
  },
  {
   "cell_type": "markdown",
   "metadata": {},
   "source": [
    "Или взять модуль:"
   ]
  },
  {
   "cell_type": "code",
   "execution_count": null,
   "metadata": {},
   "outputs": [],
   "source": [
    "numbers = pd.Series(np.random.randn(10))\n",
    "print(f'numbers: \\n{numbers}')\n",
    "print(f'\\nnumbers.apply(np.abs): \\n{numbers.apply(np.abs)}')"
   ]
  },
  {
   "cell_type": "markdown",
   "metadata": {},
   "source": [
    "**Важно помнить, что .apply создаёт новый объект, а не изменяет текущий:**"
   ]
  },
  {
   "cell_type": "code",
   "execution_count": null,
   "metadata": {},
   "outputs": [],
   "source": [
    "fruits = pd.Series(['ЯБЛОКО', 'апельсин', 'Банан', 'ГРейпфрут'])\n",
    "fruits.apply(lambda x: x.lower())\n",
    "\n",
    "fruits"
   ]
  },
  {
   "cell_type": "markdown",
   "metadata": {},
   "source": [
    "Если старые значения больше не требуются можно сделать переприсваивание:"
   ]
  },
  {
   "cell_type": "code",
   "execution_count": null,
   "metadata": {},
   "outputs": [],
   "source": [
    "fruits = pd.Series(['ЯБЛОКО', 'апельсин', 'Банан', 'ГРейпфрут'])\n",
    "fruits = fruits.apply(lambda x: x.lower())\n",
    "\n",
    "fruits"
   ]
  },
  {
   "cell_type": "markdown",
   "metadata": {},
   "source": [
    "Или же записать в новую колонку:"
   ]
  },
  {
   "cell_type": "code",
   "execution_count": null,
   "metadata": {},
   "outputs": [],
   "source": [
    "fruits = pd.Series(['ЯБЛОКО', 'апельсин', 'Банан', 'ГРейпфрут'])\n",
    "df = pd.DataFrame(fruits, columns=['fruits'])\n",
    "df['fruits_uppercase'] = df['fruits'].apply(lambda x: x.lower())\n",
    "\n",
    "df"
   ]
  },
  {
   "cell_type": "markdown",
   "metadata": {},
   "source": [
    "## Метод DataFrame.apply()\n",
    "\n",
    "Метод `apply` применим и к `DataFrame`:"
   ]
  },
  {
   "cell_type": "code",
   "execution_count": null,
   "metadata": {},
   "outputs": [],
   "source": [
    "area = pd.Series([1717854, 696241, 423970, 381156, 315194], index=['AK', 'TX', 'CA', 'MT', 'NM'])\n",
    "population = pd.Series([736732, 26956958, 38802500, 1023579, 2085572], index=['AK', 'TX', 'CA', 'MT', 'NM'])\n",
    "\n",
    "states = pd.DataFrame(data={'area': area, 'population': population})\n",
    "states"
   ]
  },
  {
   "cell_type": "code",
   "execution_count": null,
   "metadata": {},
   "outputs": [],
   "source": [
    "area = pd.Series([1717854, 696241, 423970, 381156, 315194], index=['AK', 'TX', 'CA', 'MT', 'NM'])\n",
    "population = pd.Series([736732, 26956958, 38802500, 1023579, 2085572], index=['AK', 'TX', 'CA', 'MT', 'NM'])\n",
    "\n",
    "states = pd.DataFrame(data={'area': area, 'population': population})\n",
    "states.apply(np.sqrt)"
   ]
  },
  {
   "cell_type": "markdown",
   "metadata": {},
   "source": [
    "Функция применяется ко всем колонкам сразу. Однако, такое применение весьма специфично. \n",
    "\n",
    "Поэтому, метод `DataFrame.apply()` используется в другой манере. В качестве параметра можно передать `axis=1`. Это значит, что функция будет применяться не к столбцам, а к строкам.\n",
    "Соответственно, объект, к которому будет применена функция оказывается записью в `DataFrame` представленной `Series`:"
   ]
  },
  {
   "cell_type": "code",
   "execution_count": null,
   "metadata": {},
   "outputs": [],
   "source": [
    "area = pd.Series([1717854, 696241, 423970, 381156, 315194], index=['AK', 'TX', 'CA', 'MT', 'NM'])\n",
    "population = pd.Series([736732, 26956958, 38802500, 1023579, 2085572], index=['AK', 'TX', 'CA', 'MT', 'NM'])\n",
    "\n",
    "states = pd.DataFrame(data={'area': area, 'population': population})\n",
    "density = states.apply(lambda row: row['population'] / row['area'], axis=1)\n",
    "\n",
    "density"
   ]
  }
 ],
 "metadata": {
  "kernelspec": {
   "display_name": "Python 3",
   "language": "python",
   "name": "python3"
  },
  "language_info": {
   "codemirror_mode": {
    "name": "ipython",
    "version": 3
   },
   "file_extension": ".py",
   "mimetype": "text/x-python",
   "name": "python",
   "nbconvert_exporter": "python",
   "pygments_lexer": "ipython3",
   "version": "3.6.4"
  }
 },
 "nbformat": 4,
 "nbformat_minor": 2
}
